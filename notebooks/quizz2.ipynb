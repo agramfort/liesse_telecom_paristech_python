{
 "cells": [
  {
   "cell_type": "markdown",
   "metadata": {},
   "source": [
    "S2.Q1 : numpy array\n",
    "\n",
    "On définit la variable v de la façon suivante:\n",
    "\n",
    "```\n",
    "import numpy as np\n",
    "v = np.array([0, 2, 4, 6])\n",
    "```\n",
    "\n",
    "Parmi les affirmations suivantes lesquelles sont vraies?\n",
    "\n",
    "    •\t[] len(v) renvoie l’entier 4\n",
    "    •\t[] v.ndim est égal à 0\n",
    "    •\t[] v.shape est  égal à (4,)\n",
    "    •\t[] v[1] = 0"
   ]
  },
  {
   "cell_type": "markdown",
   "metadata": {},
   "source": [
    "S2.Q2 : numpy array\n",
    "\n",
    "Soit la variable “a” définie de la façon suivante:\n",
    "\n",
    "```\n",
    "import numpy as np\n",
    "a = np.array([[0, 2], [4, 6]], dtype=np.float64)\n",
    "```\n",
    "\n",
    "Parmi les affirmations suivantes lesquelles sont vraies?\n",
    "\n",
    "    •\t[] “a” est de type numpy.ndarray\n",
    "    •\t[] “a” a 1 dimension et a.ndim est égal à 1\n",
    "    •\t[] “a.size” est égal à 4\n",
    "    •\t[] “a” contient des nombres flottants stockés sur 8 octets."
   ]
  },
  {
   "cell_type": "markdown",
   "metadata": {},
   "source": [
    "S2.Q4 : indexation des tableaux numpy\n",
    "\n",
    "Soit le code suivant:\n",
    "\n",
    "```\n",
    "import numpy as np\n",
    "M = np.array([[0, 2], [4, 6]])\n",
    "r = M[0, :]\n",
    "a = r[1]\n",
    "```\n",
    "\n",
    "Que vaut la variable “a” après avoir exécuté ces quelques lignes?\n",
    "\n",
    "    •\t[] [4, 6]\n",
    "    •\t[] 2\n",
    "    •\t[] 4\n",
    "    •\t[] [0, 2]"
   ]
  },
  {
   "cell_type": "markdown",
   "metadata": {},
   "source": [
    "S2.Q5 : “matplotlib”\n",
    "\n",
    "Qu’affiche le code suivant?\n",
    "\n",
    "```\n",
    "import numpy as np\n",
    "import matplotlib.pyplot as plt\n",
    "x = np.linspace(0, 5, 100)\n",
    "y = x ** 2\n",
    "plt.plot(x, y)\n",
    "plt.show()\n",
    "```\n",
    "\n",
    "    •\t[] une courbe entre x égal 0 et x égal à 100\n",
    "    •\t[] la fonction qui à x associe x au carré\n",
    "    •\t[] une courbe entre x égal 0 et x égal à 5\n",
    "    •\t[] la fonction qui à x associe racine carrée de x"
   ]
  },
  {
   "cell_type": "markdown",
   "metadata": {},
   "source": [
    "S2.Q6 : arithmétique avec numpy\n",
    "\n",
    "Soit le code suivant:\n",
    "\n",
    "```\n",
    "import numpy as np\n",
    "a = np.arange(3)\n",
    "```\n",
    "\n",
    "Parmi les affirmations suivantes lesquelles sont vraies?\n",
    "\n",
    "    •\t[] len(a + a) == 6\n",
    "    •\t[] le tableau “a * a” est égal à “a ** 2”\n",
    "    •\t[] le type de données de “a” est int64\n",
    "    •\t[] a + 1.0 est égal au tableau de nombres flottants “array([ 1.,  2.,  3.])”"
   ]
  },
  {
   "cell_type": "markdown",
   "metadata": {},
   "source": [
    "S2.Q7 : arithmétique avec numpy\n",
    "\n",
    "Soit le code suivant:\n",
    "\n",
    "```\n",
    "import numpy as np\n",
    "a = np.ones((5, 5))\n",
    "v = np.dot(a, np.ones(5))\n",
    "```\n",
    "\n",
    "Parmi les affirmations suivantes lesquelles sont vraies?\n",
    "\n",
    "    •\t[] v est égal au ndarray([5, 5, 5, 5, 5])\n",
    "    •\t[] v est égal au ndarray([1, 1, 1, 1, 1])\n",
    "    •\t[] np.diag(a) est égal au ndarray([1, 1, 1, 1, 1])\n",
    "    •\t[] a.size est égal à (5, 5)"
   ]
  },
  {
   "cell_type": "markdown",
   "metadata": {},
   "source": [
    "S2.Q8 : opérations de réduction\n",
    "\n",
    "Soit le code suivant:\n",
    "\n",
    "```\n",
    "import numpy as np\n",
    "a = np.arange(20)\n",
    "a = a.reshape(4, 5)\n",
    "```\n",
    "\n",
    "Parmi les affirmations suivantes lesquelles sont vraies?\n",
    "\n",
    "    •\t[] np.max(a) est égal à 20\n",
    "    •\t[] np.min(a, axis=0) égal à ndarray([0, 1, 2, 3, 4])\n",
    "    •\t[] np.min(a) est égal à 0\n",
    "    •\t[] a[:, 0] est égal au ndarray([0, 1, 2, 3, 4])"
   ]
  }
 ],
 "metadata": {
  "kernelspec": {
   "display_name": "Python 2",
   "language": "python",
   "name": "python2"
  },
  "language_info": {
   "codemirror_mode": {
    "name": "ipython",
    "version": 2
   },
   "file_extension": ".py",
   "mimetype": "text/x-python",
   "name": "python",
   "nbconvert_exporter": "python",
   "pygments_lexer": "ipython2",
   "version": "2.7.9"
  }
 },
 "nbformat": 4,
 "nbformat_minor": 0
}
