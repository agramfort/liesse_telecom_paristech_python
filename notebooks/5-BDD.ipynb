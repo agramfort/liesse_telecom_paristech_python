{
 "cells": [
  {
   "cell_type": "markdown",
   "metadata": {},
   "source": [
    "# Bases de données en Python\n",
    "\n",
    "    Benoît Petitpas : benoit.petitpas@telecom-paristech.fr\n"
   ]
  },
  {
   "cell_type": "markdown",
   "metadata": {},
   "source": [
    "# Introduction"
   ]
  },
  {
   "cell_type": "markdown",
   "metadata": {},
   "source": [
    "Dans ce cours nous allons traiter des différentes manières d'agir sur des bases de données avec Python. \n",
    "\n",
    "Il existe de nombreux logiciels de gestion de bases de données relationnelle sur le marché comme postgresql, mysql, sqlite ... une base de données relationnelle se gère via du SQL, le langage de requête de bases de données. \n",
    "\n",
    "Nous allons donc dans ce cours étudier cette gestion de bases de données, mais au lieu d'utiliser des SGBD (système de gestion de bases de données), nous allons préférer gérer les bases via Python. \n",
    "\n",
    "De nombreuses bibliothèques de fonctions ont été développées pour interfacer du code python avec les différents SGBD. \n",
    "Ainsi par exemple psycopg est un paquet Python permettant de gérer une base de données Postgresql en Python. \n",
    "\n",
    "Dans ce cours nous allons utiliser sqlite. \n",
    "Sqlite est un système de gestion de base de données (SGBD) écrit en C qui sauvegarde la base sous forme d'un fichier multi-plateforme. \n",
    "\n",
    "Sqlite est souvent le moyen le plus rapide et le plus simple de gérer une base de données, et comme Python aime la simplicité il existe un paquet standard Python pour faire l'interface entre Python et sqlite."
   ]
  },
  {
   "cell_type": "markdown",
   "metadata": {},
   "source": [
    "La base de donnée est une notion des années 60. Mais le modèle relationnel date de 70 et les SGBD de 80. Les bases de données relationnelles sont basées sur la théorie des ensembles avec l'utilisation des opérateurs de l’algèbre relationnel (l'union, la différence, produit cartésien, la projection, la sélection, le quotient et la jointure)"
   ]
  },
  {
   "cell_type": "markdown",
   "metadata": {},
   "source": [
    "**Base de données :**\n",
    "\n",
    "C'est un ensemble d’informations structurées persistant.\n",
    "Autres caractéristiques : Exhaustivité (toutes les infos requises pour le service que l'on attend) et Unicité (pas de doublons)\n",
    "\n",
    "**SGBD :**\n",
    "\n",
    "Qu'est-ce que c'est ? C'est un logiciel qui gère une BDD\n",
    "Autre définition plus précise :\n",
    "Un logiciel permettant de décrire et d'interagir avec un ensemble d'informations structurées pour satisfaire les besoins de plusieurs utilisateurs (en même temps éventuellement).\n",
    "\n",
    "**Table :**\n",
    "\n",
    "C'est une entité (semblable à un tableau) regroupant des caractéristiques exhaustives (sur un sujet donné). Les informations sont rangés dans la table Toutes les données d'une même colonne sont du même type. \n",
    "\n",
    "**Vocabulaire :**\n",
    "\n",
    "TABLE composée de CHAMPS (ou ATTRIBUTS/RUBRIQUES) – C'est simple, il n'y a qu'un type d'objet principal : LA TABLE\n",
    "Une table est la structure enveloppante dans laquelle seront stockées les données au format spécifié.\n",
    "CHAMP : NOM_CHAMP TYPE [LONGUEUR] \n",
    "\n",
    "Problèmes rencontrés : Homonymie,  Redondance (contre le principe d'unicité) , erreurs de saisie \n",
    "\n",
    "Les services d'un SGBD :\n",
    "\n",
    "Toujours un seul type d'objet : la table\n",
    "\n",
    "Les liens sont logiques : ils n'ont pas besoins d'être décrits. Il suffit de les avoir pensés et traduits avec des clés externes.\n",
    "1. Persistance : Disque Dur\n",
    "2. Gestion de disque : transparente (pas util pour vous)\n",
    "3. Partage des données : accès simultané à la même donnée (Contrôle de concurrence)\n",
    "4. Fiabilité des données : reprise sur panne (pas util pour vous)\n",
    "5. Sécurité des données : accès aux données protégé et sélectif\n",
    "6. Interrogation ad hoc : Langage de requête\n",
    "\n",
    "Les différents modèles :\n",
    "\n",
    "Hiérarchique : arborescences.\n",
    "Réseau : Plus de connexions entre les éléments (prédéfinies) -> Plus d'interrogations possibles.\n",
    "Relationnel : Le plus utilisé.\n",
    "Orienté objet : CF savoir plus\n",
    "Relationnel étendu : Types complexes, index spatiaux….\n",
    "\n",
    "Vocabulaire : \n",
    "Un élément d'une relation est appelé ENREGISTREMENT (ou RECORD, TUPLE, N-UPLET)\n",
    "\n",
    "Langage d'interrogation : QUEL, QBE, SQL (normalisé)."
   ]
  },
  {
   "cell_type": "markdown",
   "metadata": {},
   "source": [
    "### Utilisons le module sqlite de python"
   ]
  },
  {
   "cell_type": "markdown",
   "metadata": {},
   "source": [
    "Nous devons tout d'abord importer le module sqlite3 (le 3 indiquant la version de sqlite.)"
   ]
  },
  {
   "cell_type": "code",
   "execution_count": 3,
   "metadata": {
    "collapsed": false
   },
   "outputs": [],
   "source": [
    "import sqlite3 # nous importons le paquet Python capable d'interagir avec sqlite"
   ]
  },
  {
   "cell_type": "markdown",
   "metadata": {},
   "source": [
    "### Se connecter à la base de données"
   ]
  },
  {
   "cell_type": "markdown",
   "metadata": {},
   "source": [
    "Le paquet sqlite3 contient la méthode `sqlite3.connect` qui offre tous les services de connections une base de données Sqlite"
   ]
  },
  {
   "cell_type": "code",
   "execution_count": 5,
   "metadata": {
    "collapsed": false
   },
   "outputs": [],
   "source": [
    "db_loc = sqlite3.connect('Notes.db')\n",
    "# créer ou ouvre un fichier nommé 'Notes.db' qui doit donc se trouver dans le même\n",
    "# répertoire que l'endroit où Python est lancé sinon :\n",
    "\n",
    "#db_far = sqlite3.connect('/path/to/the/good/folder/Notes.db')\n",
    "# ici deux bases sont créer, car aucune des deux n'éxiste\n",
    "\n",
    "db_ram = sqlite3.connect(':memory:')\n",
    "# Cette commande permet de créer une base de donnée en RAM\n",
    "# (aucun fichier ne sera créer, il s'agit de cérer une base de données virtuelle). \n",
    "# Cela permet notamment de vérifier des commandes avant de les lancer sur une base\n",
    "# de données où les opérations sont irréversibles."
   ]
  },
  {
   "cell_type": "markdown",
   "metadata": {},
   "source": [
    "Attention : n'oubliez pas que vous ouvrez une connection avec un fichier, il est donc\n",
    "indispensable de fermer cette connection à la fin."
   ]
  },
  {
   "cell_type": "code",
   "execution_count": 6,
   "metadata": {
    "collapsed": false
   },
   "outputs": [],
   "source": [
    "db_loc.close()\n",
    "db_ram.close()"
   ]
  },
  {
   "cell_type": "markdown",
   "metadata": {},
   "source": [
    "### Créer et supprimer des tables"
   ]
  },
  {
   "cell_type": "markdown",
   "metadata": {},
   "source": [
    "Maintenant que la base est créée, il faut en construire l'ossature, c'est-à-dire les tables. Chaque table doit correspondre à une entité réel, par exemple la table 'élèves' correspond à toutes les infirmations nécessaires à la définition d'un élève. Lorqu'une table est défini, on définit en même temps le type et le nom de chaque champs, c'est-à-dire on définit chaque élément décrivant l'entité. Par exemple, lors de la création de la table élève, il faudra définir le champs 'nom' avec son type."
   ]
  },
  {
   "cell_type": "code",
   "execution_count": 7,
   "metadata": {
    "collapsed": false
   },
   "outputs": [],
   "source": [
    "db_loc = sqlite3.connect('Notes.db')\n",
    "cursor = db_loc.cursor()\n",
    "# cursor est un object auquel on passe les commandes SQL en vue d'être executées."
   ]
  },
  {
   "cell_type": "code",
   "execution_count": 8,
   "metadata": {
    "collapsed": false
   },
   "outputs": [
    {
     "data": {
      "text/plain": [
       "<sqlite3.Cursor at 0x3069490>"
      ]
     },
     "execution_count": 8,
     "metadata": {},
     "output_type": "execute_result"
    }
   ],
   "source": [
    "cursor.execute('''CREATE TABLE eleve(\n",
    "            id INTEGER PRIMARY KEY,\n",
    "            name TEXT,\n",
    "            first_name TEXT,\n",
    "            classe TEXT);''')\n",
    "# execute ne lance pas la commande\n",
    "# il est important de noter le champ 'id' de type nombre entier qui sert de clef primaire"
   ]
  },
  {
   "cell_type": "markdown",
   "metadata": {},
   "source": [
    "La clef primaire d'une table dans une base de données relationnelle sert d'identifiant unique à une entité. Par exemple, la clef primaire sert à connaitre un unique élève en particulier.\n",
    "Le nom est une très mauvaise clef primaire car un même nom peut être partagé par plus d'un élève. \n",
    "Par habitude, un champ 'id' est souvent créer pour identifier chaque enregistrement de la table. "
   ]
  },
  {
   "cell_type": "code",
   "execution_count": 9,
   "metadata": {
    "collapsed": false
   },
   "outputs": [],
   "source": [
    "db_loc.commit()"
   ]
  },
  {
   "cell_type": "markdown",
   "metadata": {},
   "source": [
    "la fonction 'commit' permet de 'lancer' la commande, c'est-à-dire que le commit permet de créer véritablement la table 'eleve' et de la sauvegarder dans 'Notes.db'.\n",
    "Attention à ne jamais oublier de 'commit' vos commandes car sinon rien ne se passera. "
   ]
  },
  {
   "cell_type": "code",
   "execution_count": 7,
   "metadata": {
    "collapsed": false
   },
   "outputs": [],
   "source": [
    "# Pour supprimer la table il suffit de :\n",
    "# cursor.execute('''DROP TABLE eleve;''')\n",
    "# db_loc.commit()"
   ]
  },
  {
   "cell_type": "markdown",
   "metadata": {},
   "source": [
    "Attention : la commande 'commit' est une fonction de 'bd_loc' et non de 'cursor'."
   ]
  },
  {
   "cell_type": "markdown",
   "metadata": {},
   "source": [
    "### Insérer des données dans la table"
   ]
  },
  {
   "cell_type": "code",
   "execution_count": 10,
   "metadata": {
    "collapsed": false
   },
   "outputs": [
    {
     "data": {
      "text/plain": [
       "<sqlite3.Cursor at 0x3069490>"
      ]
     },
     "execution_count": 10,
     "metadata": {},
     "output_type": "execute_result"
    }
   ],
   "source": [
    "cursor.execute('''INSERT INTO eleve VALUES (1, 'Petitpas', 'Benoit', '4ieme3');''')"
   ]
  },
  {
   "cell_type": "markdown",
   "metadata": {},
   "source": [
    "Chaque ajout de données passera par le mot clef SQL \"INSERT INTO\" suivi du nom de la table dans laquelle vous voulez ajouter des données. Suit alors le mot clef \"VALUES\" suivi des valeurs à ajouter en vérifiant que le type est le bon."
   ]
  },
  {
   "cell_type": "code",
   "execution_count": 11,
   "metadata": {
    "collapsed": false
   },
   "outputs": [
    {
     "ename": "IntegrityError",
     "evalue": "datatype mismatch",
     "output_type": "error",
     "traceback": [
      "\u001b[0;31m---------------------------------------------------------------------------\u001b[0m\n\u001b[0;31mIntegrityError\u001b[0m                            Traceback (most recent call last)",
      "\u001b[0;32m<ipython-input-11-a4ff19d72764>\u001b[0m in \u001b[0;36m<module>\u001b[0;34m()\u001b[0m\n\u001b[0;32m----> 1\u001b[0;31m \u001b[0mcursor\u001b[0m\u001b[0;34m.\u001b[0m\u001b[0mexecute\u001b[0m\u001b[0;34m(\u001b[0m\u001b[0;34m'''INSERT INTO eleve VALUES (\"TOTO\", \"BLIP\", \"blop\", \"wizzz\");'''\u001b[0m\u001b[0;34m)\u001b[0m\u001b[0;34m\u001b[0m\u001b[0m\n\u001b[0m",
      "\u001b[0;31mIntegrityError\u001b[0m: datatype mismatch"
     ]
    }
   ],
   "source": [
    "cursor.execute('''INSERT INTO eleve VALUES (\"TOTO\", \"BLIP\", \"blop\", \"wizzz\");''')"
   ]
  },
  {
   "cell_type": "code",
   "execution_count": 12,
   "metadata": {
    "collapsed": false
   },
   "outputs": [],
   "source": [
    "db_loc.commit()"
   ]
  },
  {
   "cell_type": "markdown",
   "metadata": {},
   "source": [
    "Un élève a été ajouté à la table. Maintenant comment faire pour ajouter des données de manière plus subtil :"
   ]
  },
  {
   "cell_type": "code",
   "execution_count": 13,
   "metadata": {
    "collapsed": false
   },
   "outputs": [
    {
     "data": {
      "text/plain": [
       "<sqlite3.Cursor at 0x3069490>"
      ]
     },
     "execution_count": 13,
     "metadata": {},
     "output_type": "execute_result"
    }
   ],
   "source": [
    "name = \"Pignon\"\n",
    "first_name = \"Francois\"\n",
    "classe = \"4ieme3\"\n",
    "\n",
    "cursor.execute('''INSERT INTO eleve VALUES (?,?,?,?);''', (2, name, first_name, classe))\n",
    "# pourquoi cette formulation avec '?' plutôt que %s, à cause de l'injection\n",
    "# de SQL qui est une attaque \"classique\" des hackers see : http://xkcd.com/327/"
   ]
  },
  {
   "cell_type": "markdown",
   "metadata": {},
   "source": [
    "Remarques : le prénom est francois au lieu de françois, car le c cédille n'est pas standard en sqlite, il aurait fallu précisé à la création de la base le type utf8"
   ]
  },
  {
   "cell_type": "markdown",
   "metadata": {},
   "source": [
    "Maintenant comment faire des insert plus rapide ? "
   ]
  },
  {
   "cell_type": "code",
   "execution_count": 14,
   "metadata": {
    "collapsed": false
   },
   "outputs": [
    {
     "data": {
      "text/plain": [
       "<sqlite3.Cursor at 0x3069490>"
      ]
     },
     "execution_count": 14,
     "metadata": {},
     "output_type": "execute_result"
    }
   ],
   "source": [
    "eleves = [(3, \"Hallyday\", \"Johnny\", \"5iemeB\"), (4, \"Mitchelle\", \"Eddy\", \"4ieme3\"), (5, \"Rivers\", \"Dick\", \"3ieme2\")]\n",
    "# liste de tuples contenant toutes les informations nécessaires pour ajouter les élèves à la base de données\n",
    "cursor.executemany('''INSERT INTO eleve VALUES (?,?,?,?);''', eleves)"
   ]
  },
  {
   "cell_type": "markdown",
   "metadata": {},
   "source": [
    "Et avec un dictionnaire ? "
   ]
  },
  {
   "cell_type": "code",
   "execution_count": 15,
   "metadata": {
    "collapsed": false
   },
   "outputs": [
    {
     "data": {
      "text/plain": [
       "<sqlite3.Cursor at 0x3069490>"
      ]
     },
     "execution_count": 15,
     "metadata": {},
     "output_type": "execute_result"
    }
   ],
   "source": [
    "cursor.execute('''INSERT INTO eleve VALUES (:id,:name,:first_name,:classe);''',\n",
    "               {'id':6,'name':\"Cobain\", \"first_name\":\"Kurt\",\"classe\":\"6ieme2\"})"
   ]
  },
  {
   "cell_type": "markdown",
   "metadata": {},
   "source": [
    "Oui mais maintenant je veux ajouter une personne et j'ai perdu le fil du compte des id : "
   ]
  },
  {
   "cell_type": "code",
   "execution_count": 16,
   "metadata": {
    "collapsed": false
   },
   "outputs": [
    {
     "name": "stdout",
     "output_type": "stream",
     "text": [
      "le dernier id est : 6\n"
     ]
    }
   ],
   "source": [
    "last_id = cursor.lastrowid # last_id contient le dernière id ajouté\n",
    "print('le dernier id est : %s' % last_id)"
   ]
  },
  {
   "cell_type": "markdown",
   "metadata": {},
   "source": [
    "Evidemment c'est très util pour ajouter automatiquement un nouvel élève:\n"
   ]
  },
  {
   "cell_type": "code",
   "execution_count": 17,
   "metadata": {
    "collapsed": false
   },
   "outputs": [
    {
     "data": {
      "text/plain": [
       "<sqlite3.Cursor at 0x3069490>"
      ]
     },
     "execution_count": 17,
     "metadata": {},
     "output_type": "execute_result"
    }
   ],
   "source": [
    "cursor.execute('''INSERT INTO eleve VALUES (?,?,?,?);''', ((cursor.lastrowid + 1), \"Joplin\", \"Janice\", \"3ieme5\"))"
   ]
  },
  {
   "cell_type": "code",
   "execution_count": 18,
   "metadata": {
    "collapsed": false
   },
   "outputs": [],
   "source": [
    "db_loc.commit()"
   ]
  },
  {
   "cell_type": "markdown",
   "metadata": {},
   "source": [
    "### Accéder aux données"
   ]
  },
  {
   "cell_type": "markdown",
   "metadata": {},
   "source": [
    "Parce que oui, des données ont été ajoutées mais quelles sont-elles déjà ? \n",
    "Pour selectionner des données, il faut utiliser la commande SQL \"SELECT\""
   ]
  },
  {
   "cell_type": "code",
   "execution_count": 19,
   "metadata": {
    "collapsed": false
   },
   "outputs": [
    {
     "name": "stdout",
     "output_type": "stream",
     "text": [
      "(1, u'Petitpas', u'Benoit', u'4ieme3')\n"
     ]
    }
   ],
   "source": [
    "cursor.execute('''SELECT * FROM eleve;''')\n",
    "first_eleve = cursor.fetchone() # récupère le premier élève\n",
    "print(first_eleve)"
   ]
  },
  {
   "cell_type": "code",
   "execution_count": 20,
   "metadata": {
    "collapsed": false
   },
   "outputs": [
    {
     "name": "stdout",
     "output_type": "stream",
     "text": [
      "Petitpas\n"
     ]
    }
   ],
   "source": [
    "# le nom du premier élève :\n",
    "print(first_eleve[1])\n"
   ]
  },
  {
   "cell_type": "markdown",
   "metadata": {},
   "source": [
    "En effet la réponse est un tuple ! \n",
    "Pour afficher les information concernant le premier élève :"
   ]
  },
  {
   "cell_type": "code",
   "execution_count": 21,
   "metadata": {
    "collapsed": false
   },
   "outputs": [
    {
     "name": "stdout",
     "output_type": "stream",
     "text": [
      "Le premier eleve s'appelle : Benoit Petitpas de la classe 4ieme3\n"
     ]
    }
   ],
   "source": [
    "print(\"Le premier eleve s'appelle : %s %s de la classe %s\" % (first_eleve[2], first_eleve[1], first_eleve[3]))\n",
    "# l'indice du tuple commence à 0 mais est réservé à l'id de l'enregistrement"
   ]
  },
  {
   "cell_type": "code",
   "execution_count": 22,
   "metadata": {
    "collapsed": false
   },
   "outputs": [
    {
     "name": "stdout",
     "output_type": "stream",
     "text": [
      "L'eleve n 1 s'appelle : Benoit Petitpas de la classe 4ieme3\n",
      "L'eleve n 2 s'appelle : Francois Pignon de la classe 4ieme3\n",
      "L'eleve n 3 s'appelle : Johnny Hallyday de la classe 5iemeB\n",
      "L'eleve n 4 s'appelle : Eddy Mitchelle de la classe 4ieme3\n",
      "L'eleve n 5 s'appelle : Dick Rivers de la classe 3ieme2\n",
      "L'eleve n 6 s'appelle : Kurt Cobain de la classe 6ieme2\n",
      "L'eleve n 7 s'appelle : Janice Joplin de la classe 3ieme5\n"
     ]
    }
   ],
   "source": [
    "# maintenant tous les élèves :\n",
    "cursor.execute('''SELECT * FROM eleve;''')\n",
    "eleves = cursor.fetchall()\n",
    "for eleve in eleves:\n",
    "    print(\"L'eleve n %s s'appelle : %s %s de la classe %s\" % (eleve[0], eleve[2], eleve[1], eleve[3]))\n",
    "    # eleve correspond à un enregistrement de la table\n",
    "    # eleve[indice] correspond au champs correspondant de l'élève en question"
   ]
  },
  {
   "cell_type": "markdown",
   "metadata": {},
   "source": [
    "Maintenant un peu de pratique du SQL :\n",
    "\n",
    "Pour selectionner des données il faut impérativement le commande SQL \"SELECT\" suivi du ou des champs souhaités. L'étoile correspondant à l'ensemble des champs.\n",
    "Ensuite il faut obligatoirement le mote clef \"FROM\" suivi du nom de la table (lui dire d'où doivent provenir les données)\n",
    "\n",
    "Maintenant il est possible de \"filtrer\" la selection.\n",
    "\n",
    "Si l'on veut l'ensemble des nom de famille uniquement, il s'agit d'un filtrage sur les champs :"
   ]
  },
  {
   "cell_type": "code",
   "execution_count": 23,
   "metadata": {
    "collapsed": false
   },
   "outputs": [
    {
     "name": "stdout",
     "output_type": "stream",
     "text": [
      "(u'Petitpas',)\n",
      "(u'Pignon',)\n",
      "(u'Hallyday',)\n",
      "(u'Mitchelle',)\n",
      "(u'Rivers',)\n",
      "(u'Cobain',)\n",
      "(u'Joplin',)\n"
     ]
    }
   ],
   "source": [
    "eleves = cursor.execute('''SELECT name FROM eleve;''')\n",
    "# ici le passage par un argument évite le fetchall() mais les deux commandes sont équivalentes\n",
    "for eleve in eleves:\n",
    "    print(eleve)"
   ]
  },
  {
   "cell_type": "markdown",
   "metadata": {},
   "source": [
    "Maintenant je veux seulement les élèves de la 4ieme 3.\n",
    "\n",
    "Là, la selection se fait sur tous les champs mais \"où\" la classe est égale à \"4ieme3\".\n",
    "\n",
    "Or le SQL ayant tendance à être simpliste le mot clef pour le filtrage des enregistrements est \"WHERE\":"
   ]
  },
  {
   "cell_type": "code",
   "execution_count": 24,
   "metadata": {
    "collapsed": false
   },
   "outputs": [
    {
     "name": "stdout",
     "output_type": "stream",
     "text": [
      "(1, u'Petitpas', u'Benoit', u'4ieme3')\n",
      "(2, u'Pignon', u'Francois', u'4ieme3')\n",
      "(4, u'Mitchelle', u'Eddy', u'4ieme3')\n"
     ]
    }
   ],
   "source": [
    "eleves = cursor.execute('''SELECT * FROM eleve WHERE classe = \"4ieme3\";''')\n",
    "for eleve in eleves:\n",
    "    print(eleve)"
   ]
  },
  {
   "cell_type": "markdown",
   "metadata": {},
   "source": [
    "On peut alors mixer les deux :"
   ]
  },
  {
   "cell_type": "code",
   "execution_count": 25,
   "metadata": {
    "collapsed": false
   },
   "outputs": [
    {
     "name": "stdout",
     "output_type": "stream",
     "text": [
      "les eleves ayant un id superieur a 3 sont : Mitchelle de la classe 4ieme3\n",
      "les eleves ayant un id superieur a 3 sont : Rivers de la classe 3ieme2\n",
      "les eleves ayant un id superieur a 3 sont : Cobain de la classe 6ieme2\n",
      "les eleves ayant un id superieur a 3 sont : Joplin de la classe 3ieme5\n"
     ]
    }
   ],
   "source": [
    "eleves = cursor.execute('''SELECT name, classe FROM eleve WHERE id > 3;''')\n",
    "for eleve in eleves:\n",
    "    print(\"les eleves ayant un id superieur a 3 sont : %s de la classe %s\" % (eleve[0], eleve[1]))\n",
    "    # important, comme je ne sélectionne que le nom et la classe le tuple de\n",
    "    # sorti n'a que 2 valeurs, ainsi le nom sera à l'indice 0 et la classe à l'indice 1"
   ]
  },
  {
   "cell_type": "markdown",
   "metadata": {},
   "source": [
    "Et si lors de séléction, je m'aperçois qu'une érreur s'est glissé ?"
   ]
  },
  {
   "cell_type": "markdown",
   "metadata": {},
   "source": [
    "### Mettre à jour et supprimer des enregistrements"
   ]
  },
  {
   "cell_type": "markdown",
   "metadata": {},
   "source": [
    "Les mots clefs que nous allons utiliser sont \"UPDATE\" et \"DELETE\""
   ]
  },
  {
   "cell_type": "code",
   "execution_count": 26,
   "metadata": {
    "collapsed": false
   },
   "outputs": [
    {
     "data": {
      "text/plain": [
       "<sqlite3.Cursor at 0x3069490>"
      ]
     },
     "execution_count": 26,
     "metadata": {},
     "output_type": "execute_result"
    }
   ],
   "source": [
    "cursor.execute('''INSERT INTO eleve VALUES (?,?,?,?);''', (8, \"andrix\", \"gimi\", \"4ieme3\"))"
   ]
  },
  {
   "cell_type": "code",
   "execution_count": 27,
   "metadata": {
    "collapsed": false
   },
   "outputs": [
    {
     "data": {
      "text/plain": [
       "<sqlite3.Cursor at 0x3069490>"
      ]
     },
     "execution_count": 27,
     "metadata": {},
     "output_type": "execute_result"
    }
   ],
   "source": [
    "# Zut c'est Jimmy Hendrix\n",
    "cursor.execute('''UPDATE eleve SET name = ?, first_name=? WHERE id = ? ''',(\"Hendrix\", \"Jimmy\", 8))"
   ]
  },
  {
   "cell_type": "code",
   "execution_count": 28,
   "metadata": {
    "collapsed": false
   },
   "outputs": [
    {
     "name": "stdout",
     "output_type": "stream",
     "text": [
      "l'eleve ayant un id egal a 8 est : Jimmy Hendrix de la classe 4ieme3\n"
     ]
    }
   ],
   "source": [
    "# and now : \n",
    "cursor.execute('''SELECT first_name, name, classe FROM eleve WHERE id == 8;''')\n",
    "eleve = cursor.fetchone()\n",
    "print(\"l'eleve ayant un id egal a 8 est : %s %s de la classe %s\"%(eleve[0],eleve[1], eleve[2]))"
   ]
  },
  {
   "cell_type": "markdown",
   "metadata": {},
   "source": [
    "On s'aperçoit que la mise est jour est assez classique :\n",
    "Juste après le mot clef \"UPDATE\" on défini la table à mettre à jour.\n",
    "Ensuite vien le mot clef \"SET\" après lequel on défini les champs à mettre à jour \n",
    "puis le mot clef where permettant de dire quel enregistrement doit être mis à jour."
   ]
  },
  {
   "cell_type": "markdown",
   "metadata": {},
   "source": [
    "Et la suppression ? C'est encore plus simple :\n"
   ]
  },
  {
   "cell_type": "code",
   "execution_count": 29,
   "metadata": {
    "collapsed": false
   },
   "outputs": [
    {
     "data": {
      "text/plain": [
       "<sqlite3.Cursor at 0x3069490>"
      ]
     },
     "execution_count": 29,
     "metadata": {},
     "output_type": "execute_result"
    }
   ],
   "source": [
    "cursor.execute('''DELETE FROM eleve WHERE id = 8 ;''')"
   ]
  },
  {
   "cell_type": "code",
   "execution_count": 30,
   "metadata": {
    "collapsed": false
   },
   "outputs": [
    {
     "ename": "TypeError",
     "evalue": "'NoneType' object has no attribute '__getitem__'",
     "output_type": "error",
     "traceback": [
      "\u001b[0;31m---------------------------------------------------------------------------\u001b[0m\n\u001b[0;31mTypeError\u001b[0m                                 Traceback (most recent call last)",
      "\u001b[0;32m<ipython-input-30-3689b6485396>\u001b[0m in \u001b[0;36m<module>\u001b[0;34m()\u001b[0m\n\u001b[1;32m      2\u001b[0m \u001b[0mcursor\u001b[0m\u001b[0;34m.\u001b[0m\u001b[0mexecute\u001b[0m\u001b[0;34m(\u001b[0m\u001b[0;34m'''SELECT first_name, name, classe FROM eleve WHERE id == 8;'''\u001b[0m\u001b[0;34m)\u001b[0m\u001b[0;34m\u001b[0m\u001b[0m\n\u001b[1;32m      3\u001b[0m \u001b[0meleve\u001b[0m \u001b[0;34m=\u001b[0m \u001b[0mcursor\u001b[0m\u001b[0;34m.\u001b[0m\u001b[0mfetchone\u001b[0m\u001b[0;34m(\u001b[0m\u001b[0;34m)\u001b[0m\u001b[0;34m\u001b[0m\u001b[0m\n\u001b[0;32m----> 4\u001b[0;31m \u001b[0;32mprint\u001b[0m\u001b[0;34m(\u001b[0m\u001b[0;34m\"l'eleve ayant un id egal a 8 est : %s %s de la classe %s\"\u001b[0m \u001b[0;34m%\u001b[0m \u001b[0;34m(\u001b[0m\u001b[0meleve\u001b[0m\u001b[0;34m[\u001b[0m\u001b[0;36m0\u001b[0m\u001b[0;34m]\u001b[0m\u001b[0;34m,\u001b[0m \u001b[0meleve\u001b[0m\u001b[0;34m[\u001b[0m\u001b[0;36m1\u001b[0m\u001b[0;34m]\u001b[0m\u001b[0;34m,\u001b[0m \u001b[0meleve\u001b[0m\u001b[0;34m[\u001b[0m\u001b[0;36m2\u001b[0m\u001b[0;34m]\u001b[0m\u001b[0;34m)\u001b[0m\u001b[0;34m)\u001b[0m\u001b[0;34m\u001b[0m\u001b[0m\n\u001b[0m",
      "\u001b[0;31mTypeError\u001b[0m: 'NoneType' object has no attribute '__getitem__'"
     ]
    }
   ],
   "source": [
    "# and now : \n",
    "cursor.execute('''SELECT first_name, name, classe FROM eleve WHERE id == 8;''')\n",
    "eleve = cursor.fetchone()\n",
    "print(\"l'eleve ayant un id egal a 8 est : %s %s de la classe %s\" % (eleve[0], eleve[1], eleve[2]))"
   ]
  },
  {
   "cell_type": "markdown",
   "metadata": {},
   "source": [
    "On s'aperçoit qu'il n'y a plus d'enregistrement à l'id 8 car l'enregistrement à été effacé. Ainsi DELETE est juste suivi de FROM et du nom de la table ainsi que d'un WHERE permettant de selectionner l'enregistrement à supprimer."
   ]
  },
  {
   "cell_type": "markdown",
   "metadata": {},
   "source": [
    "\"et ça, ça fait quoi ? \" est la pire question à se poser. N'executer jamais un test sur votre base de données, utiliser une base de données bête en RAM pour tester:"
   ]
  },
  {
   "cell_type": "code",
   "execution_count": 31,
   "metadata": {
    "collapsed": false
   },
   "outputs": [
    {
     "ename": "TypeError",
     "evalue": "'NoneType' object has no attribute '__getitem__'",
     "output_type": "error",
     "traceback": [
      "\u001b[0;31m---------------------------------------------------------------------------\u001b[0m\n\u001b[0;31mTypeError\u001b[0m                                 Traceback (most recent call last)",
      "\u001b[0;32m<ipython-input-31-4683ab9ff0fe>\u001b[0m in \u001b[0;36m<module>\u001b[0;34m()\u001b[0m\n\u001b[1;32m      3\u001b[0m \u001b[0mcursor\u001b[0m\u001b[0;34m.\u001b[0m\u001b[0mexecute\u001b[0m\u001b[0;34m(\u001b[0m\u001b[0;34m'''SELECT * FROM eleve ;'''\u001b[0m\u001b[0;34m)\u001b[0m\u001b[0;34m\u001b[0m\u001b[0m\n\u001b[1;32m      4\u001b[0m \u001b[0meleve\u001b[0m \u001b[0;34m=\u001b[0m \u001b[0mcursor\u001b[0m\u001b[0;34m.\u001b[0m\u001b[0mfetchone\u001b[0m\u001b[0;34m(\u001b[0m\u001b[0;34m)\u001b[0m\u001b[0;34m\u001b[0m\u001b[0m\n\u001b[0;32m----> 5\u001b[0;31m \u001b[0;32mprint\u001b[0m\u001b[0;34m(\u001b[0m\u001b[0;34m\"eleve ? %s\"\u001b[0m \u001b[0;34m%\u001b[0m \u001b[0;34m(\u001b[0m\u001b[0meleve\u001b[0m\u001b[0;34m[\u001b[0m\u001b[0;36m0\u001b[0m\u001b[0;34m]\u001b[0m\u001b[0;34m)\u001b[0m\u001b[0;34m)\u001b[0m\u001b[0;34m\u001b[0m\u001b[0m\n\u001b[0m",
      "\u001b[0;31mTypeError\u001b[0m: 'NoneType' object has no attribute '__getitem__'"
     ]
    }
   ],
   "source": [
    "cursor.execute('''DELETE FROM eleve;''') \n",
    "# oui vous lisez bien, il n'a plus de where\n",
    "cursor.execute('''SELECT * FROM eleve ;''')\n",
    "eleve = cursor.fetchone()\n",
    "print(\"eleve ? %s\" % (eleve[0]))"
   ]
  },
  {
   "cell_type": "markdown",
   "metadata": {},
   "source": [
    "Voilà ! Le contenu de la table a été entièrement supprimé ! "
   ]
  },
  {
   "cell_type": "markdown",
   "metadata": {},
   "source": [
    "Bon bah il ne reste plus qu'à tout recommencer ou alors à supprimer la table. Supprimons la table !"
   ]
  },
  {
   "cell_type": "code",
   "execution_count": 32,
   "metadata": {
    "collapsed": false
   },
   "outputs": [
    {
     "data": {
      "text/plain": [
       "<sqlite3.Cursor at 0x3069490>"
      ]
     },
     "execution_count": 32,
     "metadata": {},
     "output_type": "execute_result"
    }
   ],
   "source": [
    "cursor.execute('''DROP TABLE eleve; ''')"
   ]
  },
  {
   "cell_type": "code",
   "execution_count": 33,
   "metadata": {
    "collapsed": false
   },
   "outputs": [],
   "source": [
    "db_loc.commit()"
   ]
  },
  {
   "cell_type": "markdown",
   "metadata": {},
   "source": [
    "Si jamais une erreur a été commise et avant un \"commit\" qui est DEFINITIF, il est possible de récupérer les informations depusi le dernier \"commit\" avec la commande \"db_loc.rollback()\""
   ]
  },
  {
   "cell_type": "code",
   "execution_count": 34,
   "metadata": {
    "collapsed": false
   },
   "outputs": [],
   "source": [
    "db_loc.close()\n",
    "db_ram.close()"
   ]
  },
  {
   "cell_type": "markdown",
   "metadata": {},
   "source": [
    "# Récapitulatif SQL :"
   ]
  },
  {
   "cell_type": "markdown",
   "metadata": {},
   "source": [
    "* Tous les noms changés seront marqués entre des dièses ##\n",
    "\n",
    "* Connection : #nom_base_de_donnees# = sqlite3.connect(#':memory:' ou 'nom_db.db'#)\n",
    "\n",
    "* Toujours passer par un \"cursor\" pour lancer des commandes SQL \n",
    "\n",
    "* Créer une table : ''' CREATE TABLE #nom_table# ( #nom_champs#   #TYPE_champs#    #PRIMARY KEY# , ...); '''\n",
    "\n",
    "* Insérer des données dans la table : '''INSERT INTO #nom_table# VALUES (#valeur ou ?#);''', #si ? alors mettre ici la valeur correspondante#\n",
    "\n",
    "* Sélection des données : '''SELECT #nom_champs ou *#  FROM #nom_table# WHERE #comparaison pour filtrage des enregistrements#;'''\n",
    "\n",
    "En récapitulant une requête : "
   ]
  },
  {
   "cell_type": "raw",
   "metadata": {},
   "source": [
    "SELECT  *|expression [,expression ...]\n",
    "FROM nom_table1 \n",
    "[WHERE condition logique]"
   ]
  },
  {
   "cell_type": "markdown",
   "metadata": {},
   "source": [
    "## Exercice "
   ]
  },
  {
   "cell_type": "markdown",
   "metadata": {},
   "source": [
    "Créer une base de donnée SQLite nommé \"Musicien.db\"\n",
    "\n",
    "Dans cette base créer une table \"musicien\" ayant pour champs :\n",
    "\n",
    "* id de type INTEGER (clef primaire)\n",
    "* nom de type TEXT\n",
    "* age de type INTEGER\n",
    "* instrument de type TEXT\n",
    "\n"
   ]
  },
  {
   "cell_type": "markdown",
   "metadata": {},
   "source": [
    "Dans cette table, vous allez créer 5 musiciens :\n",
    "\n",
    "* Joe Satriani de 40 ans jouant de la guitare\n",
    "* Jimmy Page de 60 ans jouant de la guitare\n",
    "* Lars Ulrich 50 ans jouant de la batterie\n",
    "* Flea 52 ans jouant de la basse\n",
    "* John Coltrane jouant du saxophone (John coltrane étant mort, on ne met pas d'age, à la place de l'âge on met la valeur NULL)\n",
    "\n",
    "Ajouter 5 autres musiciens (potentiellement fictif, du moment qu'il joue l'un des instruments ci-dessus)"
   ]
  },
  {
   "cell_type": "markdown",
   "metadata": {},
   "source": [
    "Ecriver la commande SQL qui affiche:\n",
    "\n",
    "* toutes les informations de tous les musiciens\n",
    "* le nom de tous les guitaristes\n",
    "* l'intrument et l'age de tous les musiciens de plus de 50 ans\n",
    "\n",
    "Ecrivez la commande SQL qui :\n",
    "\n",
    "* modifie Flea en Michael Balzary\n",
    "* modifie Joe Satriani de 40 à 57 ans et le fait jouer de la basse\n",
    "* supprime john coltrane (encore!)\n",
    "* supprime tous les musicien qui jouent de la basse (là à vous d'essayer)"
   ]
  },
  {
   "cell_type": "code",
   "execution_count": 35,
   "metadata": {
    "collapsed": false
   },
   "outputs": [],
   "source": [
    "db = sqlite3.connect(':memory:')\n",
    "cur = db.cursor()\n",
    "cur.execute(\"\"\"CREATE TABLE musicien(\n",
    "            id INTEGER PRIMARY KEY,\n",
    "            nom TEXT,\n",
    "            age INTEGER,\n",
    "            instrument TEXT); \"\"\")\n",
    "db.commit()"
   ]
  },
  {
   "cell_type": "code",
   "execution_count": 36,
   "metadata": {
    "collapsed": false
   },
   "outputs": [],
   "source": [
    "cur.execute('''INSERT INTO musicien VALUES (1, 'Joe Satriani', 40, 'guitare');''')\n",
    "cur.execute('''INSERT INTO musicien VALUES (2, 'Jimmy Page', 60, 'guitare');''')\n",
    "cur.execute('''INSERT INTO musicien VALUES (3, 'Lars Ulrich', 50, 'batterie');''')\n",
    "cur.execute('''INSERT INTO musicien VALUES (4, 'Flea', 52, 'basse');''')\n",
    "cur.execute('''INSERT INTO musicien VALUES (5, 'John Coltrane', NULL , 'Saxophone');''')\n",
    "db.commit()"
   ]
  },
  {
   "cell_type": "code",
   "execution_count": 37,
   "metadata": {
    "collapsed": false
   },
   "outputs": [
    {
     "name": "stdout",
     "output_type": "stream",
     "text": [
      "(1, u'Joe Satriani', 40, u'guitare')\n",
      "(2, u'Jimmy Page', 60, u'guitare')\n",
      "(3, u'Lars Ulrich', 50, u'batterie')\n",
      "(4, u'Flea', 52, u'basse')\n",
      "(5, u'John Coltrane', None, u'Saxophone')\n"
     ]
    }
   ],
   "source": [
    "musiciens = cur.execute('''SELECT * FROM musicien;''')\n",
    "for musicien in musiciens:\n",
    "    print musicien"
   ]
  },
  {
   "cell_type": "code",
   "execution_count": 38,
   "metadata": {
    "collapsed": false
   },
   "outputs": [
    {
     "name": "stdout",
     "output_type": "stream",
     "text": [
      "(1, u'Joe Satriani', 40, u'guitare')\n",
      "(2, u'Jimmy Page', 60, u'guitare')\n"
     ]
    }
   ],
   "source": [
    "musiciens = cur.execute('''SELECT * FROM musicien WHERE instrument = \"guitare\";''')\n",
    "for musicien in musiciens:\n",
    "    print musicien"
   ]
  },
  {
   "cell_type": "code",
   "execution_count": 39,
   "metadata": {
    "collapsed": false
   },
   "outputs": [
    {
     "name": "stdout",
     "output_type": "stream",
     "text": [
      "(2, u'Jimmy Page', 60, u'guitare')\n",
      "(4, u'Flea', 52, u'basse')\n"
     ]
    }
   ],
   "source": [
    "musiciens = cur.execute('''SELECT * FROM musicien WHERE age > 50;''')\n",
    "for musicien in musiciens:\n",
    "    print musicien"
   ]
  },
  {
   "cell_type": "code",
   "execution_count": 40,
   "metadata": {
    "collapsed": false
   },
   "outputs": [
    {
     "data": {
      "text/plain": [
       "<sqlite3.Cursor at 0x30695e0>"
      ]
     },
     "execution_count": 40,
     "metadata": {},
     "output_type": "execute_result"
    }
   ],
   "source": [
    "cur.execute('''UPDATE musicien SET nom = ? WHERE id = ? ;''',(\"Michael Balzary\", 4))"
   ]
  },
  {
   "cell_type": "code",
   "execution_count": 41,
   "metadata": {
    "collapsed": false
   },
   "outputs": [
    {
     "data": {
      "text/plain": [
       "<sqlite3.Cursor at 0x30695e0>"
      ]
     },
     "execution_count": 41,
     "metadata": {},
     "output_type": "execute_result"
    }
   ],
   "source": [
    "cur.execute('''UPDATE musicien SET age = ? , instrument = ? WHERE id = ? ;''',(57, \"basse\", 1))"
   ]
  },
  {
   "cell_type": "code",
   "execution_count": 42,
   "metadata": {
    "collapsed": false
   },
   "outputs": [
    {
     "data": {
      "text/plain": [
       "<sqlite3.Cursor at 0x30695e0>"
      ]
     },
     "execution_count": 42,
     "metadata": {},
     "output_type": "execute_result"
    }
   ],
   "source": [
    "cur.execute('''DELETE FROM musicien WHERE id = 5 ;''')"
   ]
  },
  {
   "cell_type": "code",
   "execution_count": 43,
   "metadata": {
    "collapsed": false
   },
   "outputs": [
    {
     "name": "stdout",
     "output_type": "stream",
     "text": [
      "(1, u'Joe Satriani', 57, u'basse')\n",
      "(2, u'Jimmy Page', 60, u'guitare')\n",
      "(3, u'Lars Ulrich', 50, u'batterie')\n",
      "(4, u'Michael Balzary', 52, u'basse')\n"
     ]
    }
   ],
   "source": [
    "musiciens = cur.execute('''SELECT * FROM musicien;''')\n",
    "for musicien in musiciens:\n",
    "    print musicien"
   ]
  },
  {
   "cell_type": "code",
   "execution_count": 44,
   "metadata": {
    "collapsed": false
   },
   "outputs": [
    {
     "data": {
      "text/plain": [
       "<sqlite3.Cursor at 0x30695e0>"
      ]
     },
     "execution_count": 44,
     "metadata": {},
     "output_type": "execute_result"
    }
   ],
   "source": [
    "cur.execute('''DELETE FROM musicien WHERE instrument = \"basse\" ;''')"
   ]
  },
  {
   "cell_type": "code",
   "execution_count": 45,
   "metadata": {
    "collapsed": false
   },
   "outputs": [
    {
     "name": "stdout",
     "output_type": "stream",
     "text": [
      "(2, u'Jimmy Page', 60, u'guitare')\n",
      "(3, u'Lars Ulrich', 50, u'batterie')\n"
     ]
    }
   ],
   "source": [
    "musiciens = cur.execute('''SELECT * FROM musicien;''')\n",
    "for musicien in musiciens:\n",
    "    print musicien"
   ]
  },
  {
   "cell_type": "code",
   "execution_count": 47,
   "metadata": {
    "collapsed": false
   },
   "outputs": [],
   "source": [
    "db.commit()"
   ]
  },
  {
   "cell_type": "code",
   "execution_count": 51,
   "metadata": {
    "collapsed": false
   },
   "outputs": [
    {
     "data": {
      "text/plain": [
       "<sqlite3.Cursor at 0x30695e0>"
      ]
     },
     "execution_count": 51,
     "metadata": {},
     "output_type": "execute_result"
    }
   ],
   "source": [
    "cur.execute('''CREATE TABLE groupe(id INTEGER PRIMARY KEY, name_groupe TEXT, style TEXT); ''')"
   ]
  },
  {
   "cell_type": "code",
   "execution_count": 52,
   "metadata": {
    "collapsed": false
   },
   "outputs": [],
   "source": [
    "db.commit()"
   ]
  },
  {
   "cell_type": "code",
   "execution_count": 53,
   "metadata": {
    "collapsed": false
   },
   "outputs": [
    {
     "data": {
      "text/plain": [
       "<sqlite3.Cursor at 0x30695e0>"
      ]
     },
     "execution_count": 53,
     "metadata": {},
     "output_type": "execute_result"
    }
   ],
   "source": [
    "cur.execute('''INSERT INTO groupe VALUES (1, \"Led Zepplin\", \"Hard Rock\"); ''')"
   ]
  },
  {
   "cell_type": "code",
   "execution_count": 54,
   "metadata": {
    "collapsed": false
   },
   "outputs": [
    {
     "data": {
      "text/plain": [
       "<sqlite3.Cursor at 0x30695e0>"
      ]
     },
     "execution_count": 54,
     "metadata": {},
     "output_type": "execute_result"
    }
   ],
   "source": [
    "cur.executemany('''INSERT INTO groupe VALUES (?,?,?);''',[(2,\"Metallica\",\"Metal\"),(3,\"Red Hot Chilli Papper\",\"Rock Funk\")])"
   ]
  },
  {
   "cell_type": "code",
   "execution_count": 55,
   "metadata": {
    "collapsed": false
   },
   "outputs": [
    {
     "name": "stdout",
     "output_type": "stream",
     "text": [
      "(2, u'Jimmy Page', 60, u'guitare', 1, u'Led Zepplin', u'Hard Rock')\n",
      "(2, u'Jimmy Page', 60, u'guitare', 2, u'Metallica', u'Metal')\n",
      "(2, u'Jimmy Page', 60, u'guitare', 3, u'Red Hot Chilli Papper', u'Rock Funk')\n",
      "(3, u'Lars Ulrich', 50, u'batterie', 1, u'Led Zepplin', u'Hard Rock')\n",
      "(3, u'Lars Ulrich', 50, u'batterie', 2, u'Metallica', u'Metal')\n",
      "(3, u'Lars Ulrich', 50, u'batterie', 3, u'Red Hot Chilli Papper', u'Rock Funk')\n"
     ]
    }
   ],
   "source": [
    "all = cur.execute('''SELECT * FROM musicien, groupe;''')\n",
    "for a in all:\n",
    "    print a"
   ]
  },
  {
   "cell_type": "markdown",
   "metadata": {},
   "source": [
    "Problème : Comment mettre en relation les tables ? Il faut une valeur qui mettent en RELATION les deux tables ! \n",
    "Cette valeur est appelé la clef étrangère !\n",
    "\n",
    "C'est un champ qui permet de mettre en ralation deux tables ... Oui mais je met la clef dans quelle table :\n",
    "\n",
    "Si je met le champ dans la table \"groupe\" : \n",
    "Je vais créer un champs \"clef_musicien\" et je ne vais remplir ce champs qu'une seule fois ! \n",
    "Donc cela reviens à dire qu'un groupe ne comporte qu'un seul musicien!\n",
    "C'est pas bon !\n",
    "\n",
    "\n",
    "Si je met le champ dans la table \"musicien\" : \n",
    "Je vais créer le champ et à chaque musicien je vais pouvoir associer l'identifiant d'un groupe."
   ]
  },
  {
   "cell_type": "markdown",
   "metadata": {},
   "source": [
    "## Exercice"
   ]
  },
  {
   "cell_type": "markdown",
   "metadata": {},
   "source": [
    "Droper la table musicien\n",
    "\n",
    "re-créer là en rajoutant le champs clef_groupe\n",
    "\n",
    "remettez les enregistrements du début EN spécifiant à quelle groupe il appartient"
   ]
  },
  {
   "cell_type": "code",
   "execution_count": 58,
   "metadata": {
    "collapsed": false
   },
   "outputs": [
    {
     "data": {
      "text/plain": [
       "<sqlite3.Cursor at 0x30695e0>"
      ]
     },
     "execution_count": 58,
     "metadata": {},
     "output_type": "execute_result"
    }
   ],
   "source": [
    "cur.execute('''DROP TABLE musicien; ''')"
   ]
  },
  {
   "cell_type": "code",
   "execution_count": 59,
   "metadata": {
    "collapsed": false
   },
   "outputs": [
    {
     "data": {
      "text/plain": [
       "<sqlite3.Cursor at 0x30695e0>"
      ]
     },
     "execution_count": 59,
     "metadata": {},
     "output_type": "execute_result"
    }
   ],
   "source": [
    "cur.execute('''CREATE TABLE musicien(id INTEGER, name TEXT, age INTEGER, instrument TEXT, clef_groupe INTEGER); ''')"
   ]
  },
  {
   "cell_type": "code",
   "execution_count": 61,
   "metadata": {
    "collapsed": false
   },
   "outputs": [],
   "source": [
    "musiciens = [(1, 'Joe Satriani', 40, 'guitare', None),(2, 'Jimmy Page', 60, 'guitare', 1),(3, 'Lars Ulrich', 50, 'batterie',2),(4, 'Flea', 52, 'basse',3),(5, 'John Coltrane', None , 'Saxophone', None)]"
   ]
  },
  {
   "cell_type": "code",
   "execution_count": 62,
   "metadata": {
    "collapsed": false
   },
   "outputs": [
    {
     "data": {
      "text/plain": [
       "<sqlite3.Cursor at 0x30695e0>"
      ]
     },
     "execution_count": 62,
     "metadata": {},
     "output_type": "execute_result"
    }
   ],
   "source": [
    "cur.executemany('''INSERT INTO musicien VALUES (?,?,?,?,?); ''',musiciens)"
   ]
  },
  {
   "cell_type": "code",
   "execution_count": 63,
   "metadata": {
    "collapsed": false
   },
   "outputs": [
    {
     "name": "stdout",
     "output_type": "stream",
     "text": [
      "(1, u'Joe Satriani', 40, u'guitare', None, 1, u'Led Zepplin', u'Hard Rock')\n",
      "(1, u'Joe Satriani', 40, u'guitare', None, 2, u'Metallica', u'Metal')\n",
      "(1, u'Joe Satriani', 40, u'guitare', None, 3, u'Red Hot Chilli Papper', u'Rock Funk')\n",
      "(2, u'Jimmy Page', 60, u'guitare', 1, 1, u'Led Zepplin', u'Hard Rock')\n",
      "(2, u'Jimmy Page', 60, u'guitare', 1, 2, u'Metallica', u'Metal')\n",
      "(2, u'Jimmy Page', 60, u'guitare', 1, 3, u'Red Hot Chilli Papper', u'Rock Funk')\n",
      "(3, u'Lars Ulrich', 50, u'batterie', 2, 1, u'Led Zepplin', u'Hard Rock')\n",
      "(3, u'Lars Ulrich', 50, u'batterie', 2, 2, u'Metallica', u'Metal')\n",
      "(3, u'Lars Ulrich', 50, u'batterie', 2, 3, u'Red Hot Chilli Papper', u'Rock Funk')\n",
      "(4, u'Flea', 52, u'basse', 3, 1, u'Led Zepplin', u'Hard Rock')\n",
      "(4, u'Flea', 52, u'basse', 3, 2, u'Metallica', u'Metal')\n",
      "(4, u'Flea', 52, u'basse', 3, 3, u'Red Hot Chilli Papper', u'Rock Funk')\n",
      "(5, u'John Coltrane', None, u'Saxophone', None, 1, u'Led Zepplin', u'Hard Rock')\n",
      "(5, u'John Coltrane', None, u'Saxophone', None, 2, u'Metallica', u'Metal')\n",
      "(5, u'John Coltrane', None, u'Saxophone', None, 3, u'Red Hot Chilli Papper', u'Rock Funk')\n"
     ]
    }
   ],
   "source": [
    "all = cur.execute('''SELECT * FROM musicien, groupe;''')\n",
    "for a in all:\n",
    "    print a"
   ]
  },
  {
   "cell_type": "markdown",
   "metadata": {},
   "source": [
    "Flute Alors ça ne marche pas !\n",
    "\n",
    "Et oui le SQL est idiot, il faut lui spécifier la relation :"
   ]
  },
  {
   "cell_type": "code",
   "execution_count": 64,
   "metadata": {
    "collapsed": false
   },
   "outputs": [
    {
     "name": "stdout",
     "output_type": "stream",
     "text": [
      "(2, u'Jimmy Page', 60, u'guitare', 1, 1, u'Led Zepplin', u'Hard Rock')\n",
      "(3, u'Lars Ulrich', 50, u'batterie', 2, 2, u'Metallica', u'Metal')\n",
      "(4, u'Flea', 52, u'basse', 3, 3, u'Red Hot Chilli Papper', u'Rock Funk')\n"
     ]
    }
   ],
   "source": [
    "all = cur.execute('''SELECT * FROM musicien, groupe WHERE musicien.clef_groupe = groupe.id;''')\n",
    "for a in all:\n",
    "    print a"
   ]
  },
  {
   "cell_type": "markdown",
   "metadata": {},
   "source": [
    "Et oui on introduit une nouvelle notation en SQL : le point ! \n",
    "\n",
    "Lorsque deux tables sont utilisées il faut spécifié d'où viennent les champs utilisés : "
   ]
  },
  {
   "cell_type": "code",
   "execution_count": 67,
   "metadata": {
    "collapsed": false
   },
   "outputs": [
    {
     "name": "stdout",
     "output_type": "stream",
     "text": [
      "l'artiste Jimmy Page du groupe Led Zepplin fait du Hard Rock sur son instrument guitare \n",
      "l'artiste Lars Ulrich du groupe Metallica fait du Metal sur son instrument batterie \n",
      "l'artiste Flea du groupe Red Hot Chilli Papper fait du Rock Funk sur son instrument basse \n"
     ]
    }
   ],
   "source": [
    "all = cur.execute('''SELECT musicien.name, groupe.name_groupe, groupe.style, musicien.instrument FROM musicien, groupe WHERE musicien.clef_groupe = groupe.id;''')\n",
    "for a in all:\n",
    "    print \"\"\"l'artiste %s du groupe %s fait du %s sur son instrument %s \"\"\"%(a[0],a[1],a[2],a[3])"
   ]
  },
  {
   "cell_type": "markdown",
   "metadata": {},
   "source": [
    "Maintenant c'est long décrire tout ça : On peut donc faire des ALIAS avec le mot clef AS:"
   ]
  },
  {
   "cell_type": "code",
   "execution_count": 69,
   "metadata": {
    "collapsed": false
   },
   "outputs": [
    {
     "name": "stdout",
     "output_type": "stream",
     "text": [
      "l'artiste Jimmy Page du groupe Led Zepplin fait du Hard Rock sur son instrument guitare \n",
      "l'artiste Lars Ulrich du groupe Metallica fait du Metal sur son instrument batterie \n",
      "l'artiste Flea du groupe Red Hot Chilli Papper fait du Rock Funk sur son instrument basse \n"
     ]
    }
   ],
   "source": [
    "all = cur.execute('''SELECT m.name, g.name_groupe, g.style, m.instrument FROM musicien AS m, groupe AS g WHERE m.clef_groupe = g.id;''')\n",
    "for a in all:\n",
    "    print \"\"\"l'artiste %s du groupe %s fait du %s sur son instrument %s \"\"\"%(a[0],a[1],a[2],a[3])"
   ]
  },
  {
   "cell_type": "markdown",
   "metadata": {},
   "source": [
    "Après s'il l'on veut afficher le nombre de musiciens on utilise les fonctions d'aggréga :\n",
    "count, max etc ... \n"
   ]
  },
  {
   "cell_type": "code",
   "execution_count": 75,
   "metadata": {
    "collapsed": false
   },
   "outputs": [
    {
     "name": "stdout",
     "output_type": "stream",
     "text": [
      "(5,)\n"
     ]
    }
   ],
   "source": [
    "nb_m = cur.execute('''SELECT count(*) FROM musicien;''')\n",
    "print nb_m.fetchone()"
   ]
  },
  {
   "cell_type": "code",
   "execution_count": 76,
   "metadata": {
    "collapsed": false
   },
   "outputs": [
    {
     "name": "stdout",
     "output_type": "stream",
     "text": [
      "(5,)\n"
     ]
    }
   ],
   "source": [
    "nb_m = cur.execute('''SELECT max(id) FROM musicien;''')\n",
    "print nb_m.fetchone()"
   ]
  },
  {
   "cell_type": "markdown",
   "metadata": {},
   "source": [
    "Maintenant je veux le nombre de musiciens PAR instruments ? ........\n",
    "\n",
    "Je vais utiliser la commande GROUP BY (grouper par !)"
   ]
  },
  {
   "cell_type": "code",
   "execution_count": 79,
   "metadata": {
    "collapsed": false
   },
   "outputs": [
    {
     "name": "stdout",
     "output_type": "stream",
     "text": [
      "Saxophone : 1 \n",
      "basse : 1 \n",
      "batterie : 1 \n",
      "guitare : 2 \n"
     ]
    }
   ],
   "source": [
    "nb_inst = cur.execute('''SELECT instrument, count(*) FROM musicien GROUP BY instrument;''')\n",
    "for nb in nb_inst:\n",
    "    print \"\"\"%s : %s \"\"\"%(nb[0], nb[1])"
   ]
  },
  {
   "cell_type": "code",
   "execution_count": null,
   "metadata": {
    "collapsed": false
   },
   "outputs": [],
   "source": []
  }
 ],
 "metadata": {
  "kernelspec": {
   "display_name": "Python 2",
   "language": "python",
   "name": "python2"
  },
  "language_info": {
   "codemirror_mode": {
    "name": "ipython",
    "version": 2
   },
   "file_extension": ".py",
   "mimetype": "text/x-python",
   "name": "python",
   "nbconvert_exporter": "python",
   "pygments_lexer": "ipython2",
   "version": "2.7.9"
  }
 },
 "nbformat": 4,
 "nbformat_minor": 0
}
