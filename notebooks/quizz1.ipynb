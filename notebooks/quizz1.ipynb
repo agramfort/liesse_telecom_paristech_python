{
 "cells": [
  {
   "cell_type": "markdown",
   "metadata": {},
   "source": [
    "S1.Q1 : Types numériques\n",
    "\n",
    "On définit la variable suivante en Python:\n",
    "\n",
    "a = 7 // float(2)\n",
    "\n",
    "Quelles sont les réponses correctes.\n",
    "\n",
    "    •\t[] a est de type int et est égal à 3\n",
    "    •\t[] a est de type float et est égal à 3.5\n",
    "    •\t[] a est de type float et est égal à 3\n",
    "    •\t[] a est égal à 3.0"
   ]
  },
  {
   "cell_type": "markdown",
   "metadata": {},
   "source": [
    "S1.Q2 : Import et modules\n",
    "\n",
    "On importe le module “time” de la librairie standard en Python de la façon suivante:\n",
    "\n",
    "import time as t\n",
    "\n",
    "Quelle est la syntaxe pour appeler la fonction “ctime” du module time? La fonction ctime ne prend pas de paramètres.\n",
    "\n",
    "    •\t[] time.ctime\n",
    "    •\t[] t.ctime\n",
    "    •\t[] t.ctime()\n",
    "    •\t[] time.t.ctime"
   ]
  },
  {
   "cell_type": "markdown",
   "metadata": {},
   "source": [
    "S1.Q3 : Chaînes de caractères\n",
    "\n",
    "On cherche à produire une variable “s” de type “str” qui contient la chaîne de caractère “aaaa0000”.\n",
    "\n",
    "Dans la liste suivante, quelles sont les syntaxes valides?\n",
    "\n",
    "    •\t[] s = “aaaa” + “0000”\n",
    "    •\t[] s = “a” * 4 + 0 * 4\n",
    "    •\t[] s = “aaaa0000”\n",
    "    •\t[] s = “%s%s” % (“aaaa”, “0000”)"
   ]
  },
  {
   "cell_type": "markdown",
   "metadata": {},
   "source": [
    "S1.Q4 : Indexation et slicing\n",
    "\n",
    "Soit la chaîne de caractères\n",
    "\n",
    "s = “12345678”\n",
    "\n",
    "A quoi correspond s[1:-1:2]?\n",
    "\n",
    "    •\t[] “246”\n",
    "    •\t[] “12”\n",
    "    •\t[] “1357”\n",
    "    •\t[] “2468”"
   ]
  },
  {
   "cell_type": "markdown",
   "metadata": {},
   "source": [
    "S1.Q5 : Listes\n",
    "\n",
    "Qu’affiche le code suivant?\n",
    "\n",
    "```\n",
    "l = [3, 0, 1]\n",
    "l = l + l[:2]\n",
    "m = l.sort()\n",
    "l.pop()\n",
    "print(m)\n",
    "```\n",
    "\n",
    "    •   [] None\n",
    "    •   [] [3, 0, 1, 3, 0]\n",
    "    •   [] [0, 0, 1, 3, 3]\n",
    "    •   [] [3, 0, 1, 0]\n",
    "    •   [] [0, 0, 1, 3]"
   ]
  },
  {
   "cell_type": "markdown",
   "metadata": {},
   "source": [
    "S1.Q6 : n-uplets ou tuple\n",
    "\n",
    "On définit la variable rectangle de la fonction suivante:\n",
    "\n",
    "rectangle = (30.0, 70.0)\n",
    "\n",
    "Parmi les instructions suivantes lesquelles ne génèrent pas d’erreur?\n",
    "\n",
    "    •\t[] longueur = rectangle[-1]\n",
    "    •\t[] largeur = rectangle[2]\n",
    "    •\t[] rectangle[1] = 20\n",
    "    •\t[] print(rectangle)"
   ]
  },
  {
   "cell_type": "markdown",
   "metadata": {},
   "source": [
    "S1.Q7 : dictionnaires\n",
    "\n",
    "On définit la variable rectangle de la façon suivante:\n",
    "\n",
    "rectangle = dict(longueur=130.0, largeur=70.0)\n",
    "\n",
    "Parmi les instructions suivantes lesquelles renvoient True?\n",
    "\n",
    "    •\t[] rectangle[“longueur”]  > 20\n",
    "    •\t[] “largeur” in rectangle\n",
    "    •\t[] len(rectangle) == 2\n",
    "    •\t[] rectangle[“largeur”] = 20"
   ]
  },
  {
   "cell_type": "markdown",
   "metadata": {},
   "source": [
    "S1.Q8 : fonctions, branchements et boucles\n",
    "\n",
    "Soit la fonction nommée “test” définie avec le code suivant:\n",
    "\n",
    "```\n",
    "def test(a, n=2):\n",
    "   out = a\n",
    "   for k in range(1, n):\n",
    "        out += a\n",
    "   return out\n",
    "```\n",
    "\n",
    "Parmi les réponses suivantes lesquelles sont correctes?\n",
    "\n",
    "    •\t[] test(‘a’) == ‘aa’\n",
    "    •\t[] test([1, 2], 1) == [1, 2]\n",
    "    •\t[] test(n=10, a=3) == 30\n",
    "    •\t[] test() == None"
   ]
  }
 ],
 "metadata": {
  "kernelspec": {
   "display_name": "Python 2",
   "language": "python",
   "name": "python2"
  },
  "language_info": {
   "codemirror_mode": {
    "name": "ipython",
    "version": 2
   },
   "file_extension": ".py",
   "mimetype": "text/x-python",
   "name": "python",
   "nbconvert_exporter": "python",
   "pygments_lexer": "ipython2",
   "version": "2.7.9"
  }
 },
 "nbformat": 4,
 "nbformat_minor": 0
}
