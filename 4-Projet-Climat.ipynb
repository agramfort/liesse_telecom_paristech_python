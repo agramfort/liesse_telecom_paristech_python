{
 "metadata": {
  "name": ""
 },
 "nbformat": 3,
 "nbformat_minor": 0,
 "worksheets": [
  {
   "cells": [
    {
     "cell_type": "markdown",
     "metadata": {},
     "source": [
      "Projet: Pr\u00e9diction du climat\n",
      "----------------------------\n",
      "\n",
      "    Alexandre Gramfort : alexandre.gramfort@telecom-paristech.fr\n",
      "    Slim Essid : slim.essid@telecom-paristech.fr\n",
      "\n",
      "L'objectif de la s\u00e9ance est la mise en oeuvre de Python/Numpy/Scipy/Matplotlib\n",
      "pour le traitement de donn\u00e9es climatologiques."
     ]
    },
    {
     "cell_type": "markdown",
     "metadata": {},
     "source": [
      "Vous disposez d'un fichier texte 'co2.txt' qui contient des donn\u00e9es de concentration de CO2 dans l'atmosph\u00e8re (une mesure par mois entre 1975 et 1986)"
     ]
    },
    {
     "cell_type": "code",
     "collapsed": false,
     "input": [
      "!head co2.txt"
     ],
     "language": "python",
     "metadata": {},
     "outputs": [
      {
       "output_type": "stream",
       "stream": "stdout",
       "text": [
        "1975 janvier 330.620000\r\n",
        "1975 fevrier 331.400000\r\n",
        "1975 mars 331.870000\r\n",
        "1975 avril 333.180000\r\n",
        "1975 mai 333.920000\r\n",
        "1975 juin 333.430000\r\n",
        "1975 juillet 331.850000\r\n",
        "1975 aout 330.010000\r\n",
        "1975 septembre 328.510000\r\n",
        "1975 octobre 328.410000\r\n"
       ]
      }
     ],
     "prompt_number": 1
    },
    {
     "cell_type": "markdown",
     "metadata": {},
     "source": [
      "## Objectif :\n",
      "\n",
      "Ecrire un programme Python qui va:\n",
      "\n",
      "- Lire les donn\u00e9es dans le fichier et les stocker dans un tableau NumPy. On utilisera la commande `file` pour ouvrir le fichier.\n",
      "- Afficher avec Matplotlib la s\u00e9rie temporelle.\n",
      "- Estimer la tendance de la concentration \u00e0 travers les ann\u00e9es et proposer une extrapolation \u00e0 5 ans."
     ]
    },
    {
     "cell_type": "code",
     "collapsed": false,
     "input": [
      "fid = file('co2.txt')\n",
      "print fid.readlines()[:10]\n",
      "# ..."
     ],
     "language": "python",
     "metadata": {},
     "outputs": [
      {
       "output_type": "stream",
       "stream": "stdout",
       "text": [
        "['1975 janvier 330.620000\\n', '1975 fevrier 331.400000\\n', '1975 mars 331.870000\\n', '1975 avril 333.180000\\n', '1975 mai 333.920000\\n', '1975 juin 333.430000\\n', '1975 juillet 331.850000\\n', '1975 aout 330.010000\\n', '1975 septembre 328.510000\\n', '1975 octobre 328.410000\\n']\n"
       ]
      }
     ],
     "prompt_number": 2
    },
    {
     "cell_type": "code",
     "collapsed": false,
     "input": [],
     "language": "python",
     "metadata": {},
     "outputs": []
    }
   ],
   "metadata": {}
  }
 ]
}