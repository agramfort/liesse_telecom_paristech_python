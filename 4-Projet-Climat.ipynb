{
 "cells": [
  {
   "cell_type": "markdown",
   "metadata": {},
   "source": [
    "Projet: Prédiction du climat\n",
    "----------------------------\n",
    "\n",
    "    Alexandre Gramfort : alexandre.gramfort@telecom-paristech.fr\n",
    "    Slim Essid : slim.essid@telecom-paristech.fr\n",
    "\n",
    "L'objectif de la séance est la mise en oeuvre de Python/Numpy/Scipy/Matplotlib\n",
    "pour le traitement de données climatologiques."
   ]
  },
  {
   "cell_type": "markdown",
   "metadata": {},
   "source": [
    "Vous disposez d'un fichier texte 'co2.txt' qui contient des données de concentration de CO2 dans l'atmosphère (une mesure par mois entre 1975 et 1986)"
   ]
  },
  {
   "cell_type": "code",
   "execution_count": 1,
   "metadata": {
    "collapsed": false
   },
   "outputs": [
    {
     "name": "stdout",
     "output_type": "stream",
     "text": [
      "1975 janvier 330.620000\r\n",
      "1975 fevrier 331.400000\r\n",
      "1975 mars 331.870000\r\n",
      "1975 avril 333.180000\r\n",
      "1975 mai 333.920000\r\n",
      "1975 juin 333.430000\r\n",
      "1975 juillet 331.850000\r\n",
      "1975 aout 330.010000\r\n",
      "1975 septembre 328.510000\r\n",
      "1975 octobre 328.410000\r\n"
     ]
    }
   ],
   "source": [
    "!head co2.txt"
   ]
  },
  {
   "cell_type": "markdown",
   "metadata": {},
   "source": [
    "## Objectif :\n",
    "\n",
    "Ecrire un programme Python qui va:\n",
    "\n",
    "- Lire les données dans le fichier et les stocker dans un tableau NumPy. On utilisera la commande `file` pour ouvrir le fichier.\n",
    "- Afficher avec Matplotlib la série temporelle.\n",
    "- Estimer la tendance de la concentration à travers les années et proposer une extrapolation à 5 ans."
   ]
  },
  {
   "cell_type": "code",
   "execution_count": 2,
   "metadata": {
    "collapsed": false
   },
   "outputs": [
    {
     "name": "stdout",
     "output_type": "stream",
     "text": [
      "['1975 janvier 330.620000\\n', '1975 fevrier 331.400000\\n', '1975 mars 331.870000\\n', '1975 avril 333.180000\\n', '1975 mai 333.920000\\n', '1975 juin 333.430000\\n', '1975 juillet 331.850000\\n', '1975 aout 330.010000\\n', '1975 septembre 328.510000\\n', '1975 octobre 328.410000\\n']\n"
     ]
    }
   ],
   "source": [
    "fid = file('co2.txt')\n",
    "print fid.readlines()[:10]\n",
    "# ..."
   ]
  },
  {
   "cell_type": "code",
   "execution_count": null,
   "metadata": {
    "collapsed": false
   },
   "outputs": [],
   "source": []
  }
 ],
 "metadata": {
  "kernelspec": {
   "display_name": "Python 2",
   "language": "python",
   "name": "python2"
  },
  "language_info": {
   "codemirror_mode": {
    "name": "ipython",
    "version": 2
   },
   "file_extension": ".py",
   "mimetype": "text/x-python",
   "name": "python",
   "nbconvert_exporter": "python",
   "pygments_lexer": "ipython2",
   "version": "2.7.9"
  }
 },
 "nbformat": 4,
 "nbformat_minor": 0
}
