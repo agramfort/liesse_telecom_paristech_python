{
 "metadata": {
  "name": "2-Numpy"
 },
 "nbformat": 3,
 "nbformat_minor": 0,
 "worksheets": [
  {
   "cells": [
    {
     "cell_type": "markdown",
     "metadata": {},
     "source": [
      "# Numpy (tableaux de donn\u00e9es multi-dimensionnels) et matplotlib (visualisation en 2D et 3D pour Python)\n",
      "\n",
      "    Slim Essid : slim.essid@telecom-paristech.fr\n",
      "    Alexandre Gramfort : alexandre.gramfort@telecom-paristech.fr\n",
      "\n",
      "adapt\u00e9 du travail de J.R. Johansson (robert@riken.jp) http://dml.riken.jp/~rob/"
     ]
    },
    {
     "cell_type": "code",
     "collapsed": false,
     "input": [
      "# et JUSTE POUR MOI (pour avoir les figures dans le notebook)\n",
      "%pylab inline"
     ],
     "language": "python",
     "metadata": {},
     "outputs": [
      {
       "output_type": "stream",
       "stream": "stdout",
       "text": [
        "\n",
        "Welcome to pylab, a matplotlib-based Python environment [backend: module://IPython.zmq.pylab.backend_inline].\n",
        "For more information, type 'help(pylab)'.\n"
       ]
      }
     ],
     "prompt_number": 1
    },
    {
     "cell_type": "markdown",
     "metadata": {},
     "source": [
      "## Introduction\n",
      "\n",
      " "
     ]
    },
    {
     "cell_type": "markdown",
     "metadata": {},
     "source": [
      "* `numpy` est un module utilis\u00e9 dans presque tous les projets de calcul num\u00e9rique sous Python\n",
      "   * Il fournit des structures de donn\u00e9es performantes pour la manipulation de vecteurs, matrices et tenseurs plus g\u00e9n\u00e9raux\n",
      "   * `numpy` est \u00e9crit en C et en Fortran d'o\u00f9 ses performances \u00e9lev\u00e9es lorsque les calculs sont vectoris\u00e9s (formul\u00e9s comme des op\u00e9rations sur des vecteurs/matrices)"
     ]
    },
    {
     "cell_type": "markdown",
     "metadata": {},
     "source": [
      " * `matplotlib` est un module performant pour la g\u00e9n\u00e9ration de graphiques en 2D et 3D\n",
      "   * syntaxe tr\u00e8s proche de celle de Matlab\n",
      "   * supporte texte et \u00e9tiquettes en $\\LaTeX$\n",
      "   * sortie de qualit\u00e9 dans divers formats (PNG, PDF, SV, EPS...)\n",
      "   * interface graphique int\u00e9ractive pour explorer les figures\n",
      " \n",
      "* `guiqwt.pyplot` est une alternative int\u00e9ressante qui reprend la syntaxe de `matplotlib` (plus r\u00e9cente, encore peu utilis\u00e9e)"
     ]
    },
    {
     "cell_type": "markdown",
     "metadata": {},
     "source": [
      "Pour utiliser `numpy` et `matplotlib` il faut commencer par les importer :"
     ]
    },
    {
     "cell_type": "code",
     "collapsed": false,
     "input": [
      "import numpy as np\n",
      "import pylab as pl"
     ],
     "language": "python",
     "metadata": {},
     "outputs": [],
     "prompt_number": 2
    },
    {
     "cell_type": "markdown",
     "metadata": {},
     "source": [
      "On pourrait aussi faire :"
     ]
    },
    {
     "cell_type": "code",
     "collapsed": false,
     "input": [
      "from numpy import *\n",
      "from pylab import *"
     ],
     "language": "python",
     "metadata": {},
     "outputs": [],
     "prompt_number": 3
    },
    {
     "cell_type": "markdown",
     "metadata": {},
     "source": [
      "`pylab` \u00e9tant un environnement Python pour le calcul scientifique int\u00e9grant les modules `numpy` et `matplotlib.pyplot` (sauf quelques fonctions)."
     ]
    },
    {
     "cell_type": "markdown",
     "metadata": {},
     "source": [
      "## *Arrays* `numpy`\n",
      "\n",
      "Dans la terminologie `numpy`, vecteurs, matrices et autres tenseurs sont appel\u00e9s *arrays*.\n"
     ]
    },
    {
     "cell_type": "markdown",
     "metadata": {},
     "source": [
      "## Cr\u00e9ation d'*arrays* `numpy` \n",
      "\n",
      "Plusieurs possibilit\u00e9s:\n",
      "\n",
      " * a partir de listes ou n-uplets Python\n",
      " * en utilisant des fonctions d\u00e9di\u00e9es, telles que `arange`, `linspace`, etc.\n",
      " * par chargement \u00e0 partir de fichiers\n",
      "\n",
      "### A partir de listes\n",
      "\n",
      "Au moyen de la fonction `numpy.array` :\n"
     ]
    },
    {
     "cell_type": "code",
     "collapsed": false,
     "input": [
      "# un vecteur: l'argument de la fonction est une liste Python\n",
      "v = np.array([1,2,3,4])\n",
      "print v"
     ],
     "language": "python",
     "metadata": {},
     "outputs": [
      {
       "output_type": "stream",
       "stream": "stdout",
       "text": [
        "[1 2 3 4]\n"
       ]
      }
     ],
     "prompt_number": 4
    },
    {
     "cell_type": "markdown",
     "metadata": {},
     "source": [
      "On peut alors visualiser ces donn\u00e9es :"
     ]
    },
    {
     "cell_type": "code",
     "collapsed": false,
     "input": [
      "pl.figure()\n",
      "pl.plot(v,'r')\n",
      "pl.xlabel('x')\n",
      "pl.ylabel('v')\n",
      "pl.title('Exemple simple')\n",
      "pl.show()"
     ],
     "language": "python",
     "metadata": {},
     "outputs": [
      {
       "output_type": "display_data",
       "png": "[encoded data removed]"
      }
     ],
     "prompt_number": 5
    },
    {
     "cell_type": "markdown",
     "metadata": {},
     "source": [
      "On peut omettre `show()`, lorsque la m\u00e9thode `ion()` a \u00e9t\u00e9 appel\u00e9e ; c'est le cas dans Spyder et pylab"
     ]
    },
    {
     "cell_type": "markdown",
     "metadata": {},
     "source": [
      "Pour d\u00e9finir une matrice :\n"
     ]
    },
    {
     "cell_type": "code",
     "collapsed": false,
     "input": [
      "# une matrice: l'argument est une liste emboit\u00e9e\n",
      "M = np.array([[1, 2], [3, 4]])\n",
      "print M"
     ],
     "language": "python",
     "metadata": {},
     "outputs": [
      {
       "output_type": "stream",
       "stream": "stdout",
       "text": [
        "[[1 2]\n",
        " [3 4]]\n"
       ]
      }
     ],
     "prompt_number": 6
    },
    {
     "cell_type": "markdown",
     "metadata": {},
     "source": [
      "Les objets `v` et `M` sont tous deux du type `ndarray` (fourni par `numpy`)"
     ]
    },
    {
     "cell_type": "code",
     "collapsed": false,
     "input": [
      "type(v), type(M)"
     ],
     "language": "python",
     "metadata": {},
     "outputs": [
      {
       "output_type": "pyout",
       "prompt_number": 7,
       "text": [
        "(numpy.ndarray, numpy.ndarray)"
       ]
      }
     ],
     "prompt_number": 7
    },
    {
     "cell_type": "markdown",
     "metadata": {},
     "source": [
      "`v` et `M` ne diff\u00e8rent que par leur taille, que l'on peut obtenir via la propri\u00e9t\u00e9 `shape` :"
     ]
    },
    {
     "cell_type": "code",
     "collapsed": false,
     "input": [
      "v.shape"
     ],
     "language": "python",
     "metadata": {},
     "outputs": [
      {
       "output_type": "pyout",
       "prompt_number": 8,
       "text": [
        "(4,)"
       ]
      }
     ],
     "prompt_number": 8
    },
    {
     "cell_type": "code",
     "collapsed": false,
     "input": [
      "M.shape"
     ],
     "language": "python",
     "metadata": {},
     "outputs": [
      {
       "output_type": "pyout",
       "prompt_number": 9,
       "text": [
        "(2, 2)"
       ]
      }
     ],
     "prompt_number": 9
    },
    {
     "cell_type": "markdown",
     "metadata": {},
     "source": [
      "Pour obtenir le nombre d'\u00e9l\u00e9ments d'un *array* :"
     ]
    },
    {
     "cell_type": "code",
     "collapsed": false,
     "input": [
      "M.size"
     ],
     "language": "python",
     "metadata": {},
     "outputs": [
      {
       "output_type": "pyout",
       "prompt_number": 10,
       "text": [
        "4"
       ]
      }
     ],
     "prompt_number": 10
    },
    {
     "cell_type": "markdown",
     "metadata": {},
     "source": [
      "On peut aussi utiliser `numpy.shape` et `numpy.size`"
     ]
    },
    {
     "cell_type": "code",
     "collapsed": false,
     "input": [
      "np.shape(M)"
     ],
     "language": "python",
     "metadata": {},
     "outputs": [
      {
       "output_type": "pyout",
       "prompt_number": 11,
       "text": [
        "(2, 2)"
       ]
      }
     ],
     "prompt_number": 11
    },
    {
     "cell_type": "markdown",
     "metadata": {},
     "source": [
      "Les *arrays* ont un type qu'on obtient via `dtype`:"
     ]
    },
    {
     "cell_type": "code",
     "collapsed": false,
     "input": [
      "M.dtype  # dtype est l'abbr\u00e9viation de \"data type\""
     ],
     "language": "python",
     "metadata": {},
     "outputs": [
      {
       "output_type": "pyout",
       "prompt_number": 12,
       "text": [
        "dtype('int32')"
       ]
      }
     ],
     "prompt_number": 12
    },
    {
     "cell_type": "markdown",
     "metadata": {},
     "source": [
      "Les types doivent \u00eatre respect\u00e9s lors d'assignations \u00e0 des *arrays*"
     ]
    },
    {
     "cell_type": "code",
     "collapsed": false,
     "input": [
      "M[0,0] = \"hello\""
     ],
     "language": "python",
     "metadata": {},
     "outputs": [
      {
       "ename": "ValueError",
       "evalue": "invalid literal for long() with base 10: 'hello'",
       "output_type": "pyerr",
       "traceback": [
        "\u001b[0;31m---------------------------------------------------------------------------\u001b[0m\n\u001b[0;31mValueError\u001b[0m                                Traceback (most recent call last)",
        "\u001b[0;32m<ipython-input-13-a09d72434238>\u001b[0m in \u001b[0;36m<module>\u001b[0;34m()\u001b[0m\n\u001b[0;32m----> 1\u001b[0;31m \u001b[0mM\u001b[0m\u001b[0;34m[\u001b[0m\u001b[0;36m0\u001b[0m\u001b[0;34m,\u001b[0m\u001b[0;36m0\u001b[0m\u001b[0;34m]\u001b[0m \u001b[0;34m=\u001b[0m \u001b[0;34m\"hello\"\u001b[0m\u001b[0;34m\u001b[0m\u001b[0m\n\u001b[0m",
        "\u001b[0;31mValueError\u001b[0m: invalid literal for long() with base 10: 'hello'"
       ]
      }
     ],
     "prompt_number": 13
    },
    {
     "cell_type": "markdown",
     "metadata": {},
     "source": [
      "### Attention !"
     ]
    },
    {
     "cell_type": "code",
     "collapsed": false,
     "input": [
      "a = np.array([1,2,3])\n",
      "a[0] = 3.2\n",
      "print a\n",
      "a.dtype"
     ],
     "language": "python",
     "metadata": {},
     "outputs": []
    },
    {
     "cell_type": "markdown",
     "metadata": {},
     "source": [
      "On peut d\u00e9finir le type de mani\u00e8re explicite en utilisant le mot cl\u00e9 `dtype` en argument: "
     ]
    },
    {
     "cell_type": "code",
     "collapsed": false,
     "input": [
      "M = np.array([[1, 2], [3, 4]], dtype=complex)\n",
      "M"
     ],
     "language": "python",
     "metadata": {},
     "outputs": []
    },
    {
     "cell_type": "markdown",
     "metadata": {},
     "source": [
      " * Autres types possibles avec `dtype` : `int`, `float`, `complex`, `bool`, `object`, etc.\n",
      "\n",
      " * On peut aussi sp\u00e9cifier la pr\u00e9cision en bits: `int64`, `int16`, `float128`, `complex128`."
     ]
    },
    {
     "cell_type": "markdown",
     "metadata": {},
     "source": [
      "### Utilisation de fonction de g\u00e9n\u00e9ration d'*arrays*"
     ]
    },
    {
     "cell_type": "markdown",
     "metadata": {},
     "source": [
      "#### arange  (abbr\u00e9viation de \"array range\")"
     ]
    },
    {
     "cell_type": "code",
     "collapsed": false,
     "input": [
      "# create a range\n",
      "x = np.arange(0, 10, 1) # arguments: start, stop, step\n",
      "x"
     ],
     "language": "python",
     "metadata": {},
     "outputs": []
    },
    {
     "cell_type": "code",
     "collapsed": false,
     "input": [
      "x = np.arange(-1, 1, 0.1)\n",
      "x"
     ],
     "language": "python",
     "metadata": {},
     "outputs": []
    },
    {
     "cell_type": "markdown",
     "metadata": {},
     "source": [
      "#### linspace and logspace"
     ]
    },
    {
     "cell_type": "code",
     "collapsed": false,
     "input": [
      "# avec linspace, le d\u00e9but et la fin SONT inclus\n",
      "np.linspace(0, 10, 25)"
     ],
     "language": "python",
     "metadata": {},
     "outputs": []
    },
    {
     "cell_type": "code",
     "collapsed": false,
     "input": [
      "print e\n",
      "print np.logspace(0, 10, 10, base=e)"
     ],
     "language": "python",
     "metadata": {},
     "outputs": []
    },
    {
     "cell_type": "markdown",
     "metadata": {},
     "source": [
      "#### mgrid"
     ]
    },
    {
     "cell_type": "code",
     "collapsed": false,
     "input": [
      "x, y = np.mgrid[0:5, 0:5] "
     ],
     "language": "python",
     "metadata": {},
     "outputs": []
    },
    {
     "cell_type": "code",
     "collapsed": false,
     "input": [
      "x"
     ],
     "language": "python",
     "metadata": {},
     "outputs": []
    },
    {
     "cell_type": "code",
     "collapsed": false,
     "input": [
      "y"
     ],
     "language": "python",
     "metadata": {},
     "outputs": []
    },
    {
     "cell_type": "markdown",
     "metadata": {},
     "source": [
      "#### Donn\u00e9es al\u00e9atoires"
     ]
    },
    {
     "cell_type": "code",
     "collapsed": false,
     "input": [
      "from numpy import random"
     ],
     "language": "python",
     "metadata": {},
     "outputs": []
    },
    {
     "cell_type": "code",
     "collapsed": false,
     "input": [
      "# tirage uniforme dans [0,1]\n",
      "random.rand(5, 5)"
     ],
     "language": "python",
     "metadata": {},
     "outputs": []
    },
    {
     "cell_type": "code",
     "collapsed": false,
     "input": [
      "# tirage suivant une loi normale standard\n",
      "random.randn(5,5)"
     ],
     "language": "python",
     "metadata": {},
     "outputs": []
    },
    {
     "cell_type": "markdown",
     "metadata": {},
     "source": [
      "Affichage de l'histogramme des tirages"
     ]
    },
    {
     "cell_type": "code",
     "collapsed": false,
     "input": [
      "a = random.randn(1000)\n",
      "hist(a)"
     ],
     "language": "python",
     "metadata": {},
     "outputs": [
      {
       "ename": "AttributeError",
       "evalue": "'builtin_function_or_method' object has no attribute 'randn'",
       "output_type": "pyerr",
       "traceback": [
        "\u001b[0;31m---------------------------------------------------------------------------\u001b[0m\n\u001b[0;31mAttributeError\u001b[0m                            Traceback (most recent call last)",
        "\u001b[0;32m<ipython-input-14-dc46af434867>\u001b[0m in \u001b[0;36m<module>\u001b[0;34m()\u001b[0m\n\u001b[0;32m----> 1\u001b[0;31m \u001b[0ma\u001b[0m \u001b[0;34m=\u001b[0m \u001b[0mrandom\u001b[0m\u001b[0;34m.\u001b[0m\u001b[0mrandn\u001b[0m\u001b[0;34m(\u001b[0m\u001b[0;36m1000\u001b[0m\u001b[0;34m)\u001b[0m\u001b[0;34m\u001b[0m\u001b[0m\n\u001b[0m\u001b[1;32m      2\u001b[0m \u001b[0mhist\u001b[0m\u001b[0;34m(\u001b[0m\u001b[0ma\u001b[0m\u001b[0;34m)\u001b[0m\u001b[0;34m\u001b[0m\u001b[0m\n",
        "\u001b[0;31mAttributeError\u001b[0m: 'builtin_function_or_method' object has no attribute 'randn'"
       ]
      }
     ],
     "prompt_number": 14
    },
    {
     "cell_type": "markdown",
     "metadata": {},
     "source": [
      "#### diag"
     ]
    },
    {
     "cell_type": "code",
     "collapsed": false,
     "input": [
      "# une matrice diagonale\n",
      "np.diag([1,2,3])"
     ],
     "language": "python",
     "metadata": {},
     "outputs": [
      {
       "output_type": "pyout",
       "prompt_number": 15,
       "text": [
        "array([[1, 0, 0],\n",
        "       [0, 2, 0],\n",
        "       [0, 0, 3]])"
       ]
      }
     ],
     "prompt_number": 15
    },
    {
     "cell_type": "code",
     "collapsed": false,
     "input": [
      "# diagonale avec d\u00e9calage par rapport \u00e0 la diagonale principale\n",
      "np.diag([1,2,3], k=1)"
     ],
     "language": "python",
     "metadata": {},
     "outputs": [
      {
       "output_type": "pyout",
       "prompt_number": 16,
       "text": [
        "array([[0, 1, 0, 0],\n",
        "       [0, 0, 2, 0],\n",
        "       [0, 0, 0, 3],\n",
        "       [0, 0, 0, 0]])"
       ]
      }
     ],
     "prompt_number": 16
    },
    {
     "cell_type": "markdown",
     "metadata": {},
     "source": [
      "#### zeros et ones"
     ]
    },
    {
     "cell_type": "code",
     "collapsed": false,
     "input": [
      "np.zeros((3,3))  # attention zeros(3,3) est FAUX"
     ],
     "language": "python",
     "metadata": {},
     "outputs": [
      {
       "output_type": "pyout",
       "prompt_number": 17,
       "text": [
        "array([[ 0.,  0.,  0.],\n",
        "       [ 0.,  0.,  0.],\n",
        "       [ 0.,  0.,  0.]])"
       ]
      }
     ],
     "prompt_number": 17
    },
    {
     "cell_type": "code",
     "collapsed": false,
     "input": [
      "np.ones((3,3))"
     ],
     "language": "python",
     "metadata": {},
     "outputs": [
      {
       "output_type": "pyout",
       "prompt_number": 18,
       "text": [
        "array([[ 1.,  1.,  1.],\n",
        "       [ 1.,  1.,  1.],\n",
        "       [ 1.,  1.,  1.]])"
       ]
      }
     ],
     "prompt_number": 18
    },
    {
     "cell_type": "markdown",
     "metadata": {},
     "source": [
      "##  Fichiers d'E/S"
     ]
    },
    {
     "cell_type": "markdown",
     "metadata": {},
     "source": [
      "### Fichiers s\u00e9par\u00e9s par des virgules (CSV)\n",
      "\n",
      "Un format fichier classique est le format CSV (comma-separated values), ou bien TSV (tab-separated values). Pour lire de tels fichiers utilisez `numpy.genfromtxt`. Par exemple:"
     ]
    },
    {
     "cell_type": "code",
     "collapsed": false,
     "input": [
      "data = np.genfromtxt('data.csv', delimiter=',')\n",
      "data"
     ],
     "language": "python",
     "metadata": {},
     "outputs": [
      {
       "output_type": "pyout",
       "prompt_number": 19,
       "text": [
        "array([[  1.,   2.,   3.,   4.,   5.],\n",
        "       [  6.,   7.,   8.,   9.,  10.],\n",
        "       [  1.,   3.,   3.,   4.,   6.],\n",
        "       [  1.,   2.,   3.,   4.,  20.]])"
       ]
      }
     ],
     "prompt_number": 19
    },
    {
     "cell_type": "code",
     "collapsed": false,
     "input": [
      "data.shape"
     ],
     "language": "python",
     "metadata": {},
     "outputs": [
      {
       "output_type": "pyout",
       "prompt_number": 20,
       "text": [
        "(4, 5)"
       ]
      }
     ],
     "prompt_number": 20
    },
    {
     "cell_type": "markdown",
     "metadata": {},
     "source": [
      "A l'aide de `numpy.savetxt` on peut enregistrer un *array* `numpy` dans un fichier txt:"
     ]
    },
    {
     "cell_type": "code",
     "collapsed": false,
     "input": [
      "M = random.rand(3,3)\n",
      "M"
     ],
     "language": "python",
     "metadata": {},
     "outputs": [
      {
       "ename": "AttributeError",
       "evalue": "'builtin_function_or_method' object has no attribute 'rand'",
       "output_type": "pyerr",
       "traceback": [
        "\u001b[0;31m---------------------------------------------------------------------------\u001b[0m\n\u001b[0;31mAttributeError\u001b[0m                            Traceback (most recent call last)",
        "\u001b[0;32m<ipython-input-21-1c7083a6b572>\u001b[0m in \u001b[0;36m<module>\u001b[0;34m()\u001b[0m\n\u001b[0;32m----> 1\u001b[0;31m \u001b[0mM\u001b[0m \u001b[0;34m=\u001b[0m \u001b[0mrandom\u001b[0m\u001b[0;34m.\u001b[0m\u001b[0mrand\u001b[0m\u001b[0;34m(\u001b[0m\u001b[0;36m3\u001b[0m\u001b[0;34m,\u001b[0m\u001b[0;36m3\u001b[0m\u001b[0;34m)\u001b[0m\u001b[0;34m\u001b[0m\u001b[0m\n\u001b[0m\u001b[1;32m      2\u001b[0m \u001b[0mM\u001b[0m\u001b[0;34m\u001b[0m\u001b[0m\n",
        "\u001b[0;31mAttributeError\u001b[0m: 'builtin_function_or_method' object has no attribute 'rand'"
       ]
      }
     ],
     "prompt_number": 21
    },
    {
     "cell_type": "code",
     "collapsed": false,
     "input": [
      "np.savetxt(\"random-matrix.txt\", M)"
     ],
     "language": "python",
     "metadata": {},
     "outputs": [],
     "prompt_number": 22
    },
    {
     "cell_type": "code",
     "collapsed": false,
     "input": [
      "!cat random-matrix.txt  # cat est une commande Unix pour afficher le contenu d'un fichier\n",
      "#!type random-matrix.txt  # sous windows"
     ],
     "language": "python",
     "metadata": {},
     "outputs": [
      {
       "output_type": "stream",
       "stream": "stdout",
       "text": [
        "1.000000000000000000e+00 2.000000000000000000e+00\r\n",
        "3.000000000000000000e+00 4.000000000000000000e+00\r\n"
       ]
      }
     ],
     "prompt_number": 23
    },
    {
     "cell_type": "code",
     "collapsed": false,
     "input": [
      "np.savetxt(\"random-matrix.csv\", M, fmt='%.5f', delimiter=',') # fmt sp\u00e9cifie le format\n",
      "\n",
      "!cat random-matrix.csv\n",
      "#!type random-matrix.csv"
     ],
     "language": "python",
     "metadata": {},
     "outputs": [
      {
       "output_type": "stream",
       "stream": "stdout",
       "text": [
        "1.00000,2.00000\r\n",
        "3.00000,4.00000\r\n"
       ]
      }
     ],
     "prompt_number": 24
    },
    {
     "cell_type": "markdown",
     "metadata": {},
     "source": [
      "### Format de fichier Numpy natif\n",
      "\n",
      "Pour sauvegarder et recharger des *array* `numpy` : `numpy.save` et `numpy.load` :"
     ]
    },
    {
     "cell_type": "code",
     "collapsed": false,
     "input": [
      "np.save(\"random-matrix.npy\", M)\n",
      "\n",
      "#!file random-matrix.npy"
     ],
     "language": "python",
     "metadata": {},
     "outputs": [],
     "prompt_number": 25
    },
    {
     "cell_type": "code",
     "collapsed": false,
     "input": [
      "np.load(\"random-matrix.npy\")"
     ],
     "language": "python",
     "metadata": {},
     "outputs": [
      {
       "output_type": "pyout",
       "prompt_number": 26,
       "text": [
        "array([[1, 2],\n",
        "       [3, 4]])"
       ]
      }
     ],
     "prompt_number": 26
    },
    {
     "cell_type": "markdown",
     "metadata": {},
     "source": [
      "## Autres propri\u00e9t\u00e9s des *arrays* `numpy`"
     ]
    },
    {
     "cell_type": "code",
     "collapsed": false,
     "input": [
      "M.itemsize # octets par \u00e9l\u00e9ment"
     ],
     "language": "python",
     "metadata": {},
     "outputs": [
      {
       "output_type": "pyout",
       "prompt_number": 27,
       "text": [
        "4"
       ]
      }
     ],
     "prompt_number": 27
    },
    {
     "cell_type": "code",
     "collapsed": false,
     "input": [
      "M.nbytes # nombre d'octets"
     ],
     "language": "python",
     "metadata": {},
     "outputs": [
      {
       "output_type": "pyout",
       "prompt_number": 28,
       "text": [
        "16"
       ]
      }
     ],
     "prompt_number": 28
    },
    {
     "cell_type": "code",
     "collapsed": false,
     "input": [
      "M.ndim # nombre de dimensions"
     ],
     "language": "python",
     "metadata": {},
     "outputs": [
      {
       "output_type": "pyout",
       "prompt_number": 29,
       "text": [
        "2"
       ]
      }
     ],
     "prompt_number": 29
    },
    {
     "cell_type": "markdown",
     "metadata": {},
     "source": [
      "## Manipulation d'*arrays*"
     ]
    },
    {
     "cell_type": "markdown",
     "metadata": {},
     "source": [
      "### Indexation"
     ]
    },
    {
     "cell_type": "code",
     "collapsed": false,
     "input": [
      "# v est un vecteur, il n'a qu'une seule dimension -> un seul indice\n",
      "v[0]"
     ],
     "language": "python",
     "metadata": {},
     "outputs": [
      {
       "output_type": "pyout",
       "prompt_number": 30,
       "text": [
        "1"
       ]
      }
     ],
     "prompt_number": 30
    },
    {
     "cell_type": "code",
     "collapsed": false,
     "input": [
      "# M est une matrice, ou un array \u00e0 2 dimensions -> deux indices \n",
      "M[1,1]"
     ],
     "language": "python",
     "metadata": {},
     "outputs": [
      {
       "output_type": "pyout",
       "prompt_number": 31,
       "text": [
        "4"
       ]
      }
     ],
     "prompt_number": 31
    },
    {
     "cell_type": "markdown",
     "metadata": {},
     "source": [
      "Contenu complet :"
     ]
    },
    {
     "cell_type": "code",
     "collapsed": false,
     "input": [
      "M"
     ],
     "language": "python",
     "metadata": {},
     "outputs": [
      {
       "output_type": "pyout",
       "prompt_number": 32,
       "text": [
        "array([[1, 2],\n",
        "       [3, 4]])"
       ]
      }
     ],
     "prompt_number": 32
    },
    {
     "cell_type": "markdown",
     "metadata": {},
     "source": [
      "La deuxi\u00e8me ligne :"
     ]
    },
    {
     "cell_type": "code",
     "collapsed": false,
     "input": [
      "M[1]"
     ],
     "language": "python",
     "metadata": {},
     "outputs": [
      {
       "output_type": "pyout",
       "prompt_number": 33,
       "text": [
        "array([3, 4])"
       ]
      }
     ],
     "prompt_number": 33
    },
    {
     "cell_type": "markdown",
     "metadata": {},
     "source": [
      "On peut aussi utiliser `:` "
     ]
    },
    {
     "cell_type": "code",
     "collapsed": false,
     "input": [
      "M[1,:] # 2 \u00e8me ligne (indice 1)"
     ],
     "language": "python",
     "metadata": {},
     "outputs": [
      {
       "output_type": "pyout",
       "prompt_number": 34,
       "text": [
        "array([3, 4])"
       ]
      }
     ],
     "prompt_number": 34
    },
    {
     "cell_type": "code",
     "collapsed": false,
     "input": [
      "M[:,1] # 2 \u00e8me colonne (indice 1)"
     ],
     "language": "python",
     "metadata": {},
     "outputs": [
      {
       "output_type": "pyout",
       "prompt_number": 35,
       "text": [
        "array([2, 4])"
       ]
      }
     ],
     "prompt_number": 35
    },
    {
     "cell_type": "markdown",
     "metadata": {},
     "source": [
      "On peut assigner des nouvelles valeurs \u00e0 certaines cellules :"
     ]
    },
    {
     "cell_type": "code",
     "collapsed": false,
     "input": [
      "M[0,0] = 1"
     ],
     "language": "python",
     "metadata": {},
     "outputs": [],
     "prompt_number": 36
    },
    {
     "cell_type": "code",
     "collapsed": false,
     "input": [
      "M"
     ],
     "language": "python",
     "metadata": {},
     "outputs": [
      {
       "output_type": "pyout",
       "prompt_number": 37,
       "text": [
        "array([[1, 2],\n",
        "       [3, 4]])"
       ]
      }
     ],
     "prompt_number": 37
    },
    {
     "cell_type": "code",
     "collapsed": false,
     "input": [
      "# on peut aussi assigner des lignes ou des colonnes\n",
      "M[1,:] = 0\n",
      "M[:,2] = -1"
     ],
     "language": "python",
     "metadata": {},
     "outputs": [
      {
       "ename": "IndexError",
       "evalue": "invalid index",
       "output_type": "pyerr",
       "traceback": [
        "\u001b[0;31m---------------------------------------------------------------------------\u001b[0m\n\u001b[0;31mIndexError\u001b[0m                                Traceback (most recent call last)",
        "\u001b[0;32m<ipython-input-38-19a44f0b0835>\u001b[0m in \u001b[0;36m<module>\u001b[0;34m()\u001b[0m\n\u001b[1;32m      1\u001b[0m \u001b[0;31m# on peut aussi assigner des lignes ou des colonnes\u001b[0m\u001b[0;34m\u001b[0m\u001b[0;34m\u001b[0m\u001b[0m\n\u001b[1;32m      2\u001b[0m \u001b[0mM\u001b[0m\u001b[0;34m[\u001b[0m\u001b[0;36m1\u001b[0m\u001b[0;34m,\u001b[0m\u001b[0;34m:\u001b[0m\u001b[0;34m]\u001b[0m \u001b[0;34m=\u001b[0m \u001b[0;36m0\u001b[0m\u001b[0;34m\u001b[0m\u001b[0m\n\u001b[0;32m----> 3\u001b[0;31m \u001b[0mM\u001b[0m\u001b[0;34m[\u001b[0m\u001b[0;34m:\u001b[0m\u001b[0;34m,\u001b[0m\u001b[0;36m2\u001b[0m\u001b[0;34m]\u001b[0m \u001b[0;34m=\u001b[0m \u001b[0;34m-\u001b[0m\u001b[0;36m1\u001b[0m\u001b[0;34m\u001b[0m\u001b[0m\n\u001b[0m",
        "\u001b[0;31mIndexError\u001b[0m: invalid index"
       ]
      }
     ],
     "prompt_number": 38
    },
    {
     "cell_type": "code",
     "collapsed": false,
     "input": [
      "M"
     ],
     "language": "python",
     "metadata": {},
     "outputs": [
      {
       "output_type": "pyout",
       "prompt_number": 39,
       "text": [
        "array([[1, 2],\n",
        "       [0, 0]])"
       ]
      }
     ],
     "prompt_number": 39
    },
    {
     "cell_type": "markdown",
     "metadata": {},
     "source": [
      "## *Slicing* ou acc\u00e8s par tranches\n",
      "\n",
      "*Slicing* fait r\u00e9f\u00e9rence \u00e0 la syntaxe `M[start:stop:step]` pour extraire une partie d'un *array* :"
     ]
    },
    {
     "cell_type": "code",
     "collapsed": false,
     "input": [
      "A = np.array([1,2,3,4,5])\n",
      "A"
     ],
     "language": "python",
     "metadata": {},
     "outputs": [
      {
       "output_type": "pyout",
       "prompt_number": 40,
       "text": [
        "array([1, 2, 3, 4, 5])"
       ]
      }
     ],
     "prompt_number": 40
    },
    {
     "cell_type": "code",
     "collapsed": false,
     "input": [
      "A[1:3]"
     ],
     "language": "python",
     "metadata": {},
     "outputs": [
      {
       "output_type": "pyout",
       "prompt_number": 41,
       "text": [
        "array([2, 3])"
       ]
      }
     ],
     "prompt_number": 41
    },
    {
     "cell_type": "markdown",
     "metadata": {},
     "source": [
      "Les tranches sont modifiables :"
     ]
    },
    {
     "cell_type": "code",
     "collapsed": false,
     "input": [
      "A[1:3] = [-2,-3]\n",
      "\n",
      "A"
     ],
     "language": "python",
     "metadata": {},
     "outputs": [
      {
       "output_type": "pyout",
       "prompt_number": 42,
       "text": [
        "array([ 1, -2, -3,  4,  5])"
       ]
      }
     ],
     "prompt_number": 42
    },
    {
     "cell_type": "markdown",
     "metadata": {},
     "source": [
      "On peut omettre n'importe lequel des argument dans `M[start:stop:step]`:"
     ]
    },
    {
     "cell_type": "code",
     "collapsed": false,
     "input": [
      "A[::] # indices de d\u00e9but, fin, et pas avec leurs valeurs par d\u00e9faut"
     ],
     "language": "python",
     "metadata": {},
     "outputs": [
      {
       "output_type": "pyout",
       "prompt_number": 43,
       "text": [
        "array([ 1, -2, -3,  4,  5])"
       ]
      }
     ],
     "prompt_number": 43
    },
    {
     "cell_type": "code",
     "collapsed": false,
     "input": [
      "A[::2] # pas = 2, indices de d\u00e9but et de fin par d\u00e9faut"
     ],
     "language": "python",
     "metadata": {},
     "outputs": [
      {
       "output_type": "pyout",
       "prompt_number": 44,
       "text": [
        "array([ 1, -3,  5])"
       ]
      }
     ],
     "prompt_number": 44
    },
    {
     "cell_type": "code",
     "collapsed": false,
     "input": [
      "A[:3] # les trois premiers \u00e9l\u00e9ments"
     ],
     "language": "python",
     "metadata": {},
     "outputs": [
      {
       "output_type": "pyout",
       "prompt_number": 45,
       "text": [
        "array([ 1, -2, -3])"
       ]
      }
     ],
     "prompt_number": 45
    },
    {
     "cell_type": "code",
     "collapsed": false,
     "input": [
      "A[3:] # \u00e0 partir de l'indice 3"
     ],
     "language": "python",
     "metadata": {},
     "outputs": [
      {
       "output_type": "pyout",
       "prompt_number": 46,
       "text": [
        "array([4, 5])"
       ]
      }
     ],
     "prompt_number": 46
    },
    {
     "cell_type": "markdown",
     "metadata": {},
     "source": [
      "On peut utiliser des indices n\u00e9gatifs :"
     ]
    },
    {
     "cell_type": "code",
     "collapsed": false,
     "input": [
      "A = np.array([1,2,3,4,5])"
     ],
     "language": "python",
     "metadata": {},
     "outputs": [],
     "prompt_number": 47
    },
    {
     "cell_type": "code",
     "collapsed": false,
     "input": [
      "A[-1] # le dernier \u00e9l\u00e9ment"
     ],
     "language": "python",
     "metadata": {},
     "outputs": [
      {
       "output_type": "pyout",
       "prompt_number": 48,
       "text": [
        "5"
       ]
      }
     ],
     "prompt_number": 48
    },
    {
     "cell_type": "code",
     "collapsed": false,
     "input": [
      "A[-3:] # les 3 derniers \u00e9l\u00e9ments"
     ],
     "language": "python",
     "metadata": {},
     "outputs": [
      {
       "output_type": "pyout",
       "prompt_number": 49,
       "text": [
        "array([3, 4, 5])"
       ]
      }
     ],
     "prompt_number": 49
    },
    {
     "cell_type": "markdown",
     "metadata": {},
     "source": [
      "Le *slicing* fonctionne de fa\u00e7on similaire pour les *array* multi-dimensionnels"
     ]
    },
    {
     "cell_type": "code",
     "collapsed": false,
     "input": [
      "A = np.array([[n+m*10 for n in range(5)] for m in range(5)])\n",
      "A"
     ],
     "language": "python",
     "metadata": {},
     "outputs": [
      {
       "output_type": "pyout",
       "prompt_number": 50,
       "text": [
        "array([[ 0,  1,  2,  3,  4],\n",
        "       [10, 11, 12, 13, 14],\n",
        "       [20, 21, 22, 23, 24],\n",
        "       [30, 31, 32, 33, 34],\n",
        "       [40, 41, 42, 43, 44]])"
       ]
      }
     ],
     "prompt_number": 50
    },
    {
     "cell_type": "code",
     "collapsed": false,
     "input": [
      "# a block from the original array\n",
      "A[1:4, 1:4]"
     ],
     "language": "python",
     "metadata": {},
     "outputs": [
      {
       "output_type": "pyout",
       "prompt_number": 51,
       "text": [
        "array([[11, 12, 13],\n",
        "       [21, 22, 23],\n",
        "       [31, 32, 33]])"
       ]
      }
     ],
     "prompt_number": 51
    },
    {
     "cell_type": "code",
     "collapsed": false,
     "input": [
      "# sauts\n",
      "A[::2, ::2]"
     ],
     "language": "python",
     "metadata": {},
     "outputs": [
      {
       "output_type": "pyout",
       "prompt_number": 52,
       "text": [
        "array([[ 0,  2,  4],\n",
        "       [20, 22, 24],\n",
        "       [40, 42, 44]])"
       ]
      }
     ],
     "prompt_number": 52
    },
    {
     "cell_type": "markdown",
     "metadata": {},
     "source": [
      "### Indexation avanc\u00e9e (*fancy indexing*)\n",
      "\n",
      "Lorsque qu'on utiliser des listes ou des *array* pour d\u00e9finir des tranches : "
     ]
    },
    {
     "cell_type": "code",
     "collapsed": false,
     "input": [
      "row_indices = [1, 2, 3]\n",
      "A[row_indices]"
     ],
     "language": "python",
     "metadata": {},
     "outputs": [
      {
       "output_type": "pyout",
       "prompt_number": 53,
       "text": [
        "array([[10, 11, 12, 13, 14],\n",
        "       [20, 21, 22, 23, 24],\n",
        "       [30, 31, 32, 33, 34]])"
       ]
      }
     ],
     "prompt_number": 53
    },
    {
     "cell_type": "markdown",
     "metadata": {},
     "source": [
      "Extraction d'une sous matrice"
     ]
    },
    {
     "cell_type": "code",
     "collapsed": false,
     "input": [
      "print A\n",
      "print A[[1, 2], [3, 4]]\n",
      "print A[[1, 2]][:, [3, 4]]\n",
      "print A[np.ix_([1, 2], [3, 4])]"
     ],
     "language": "python",
     "metadata": {},
     "outputs": [
      {
       "output_type": "stream",
       "stream": "stdout",
       "text": [
        "[[ 0  1  2  3  4]\n",
        " [10 11 12 13 14]\n",
        " [20 21 22 23 24]\n",
        " [30 31 32 33 34]\n",
        " [40 41 42 43 44]]\n",
        "[13 24]\n",
        "[[13 14]\n",
        " [23 24]]\n",
        "[[13 14]\n",
        " [23 24]]\n"
       ]
      }
     ],
     "prompt_number": 54
    },
    {
     "cell_type": "code",
     "collapsed": false,
     "input": [
      "A[[1, 2]][:, [3, 4]] = 0  # ATTENTION !\n",
      "print A"
     ],
     "language": "python",
     "metadata": {},
     "outputs": [
      {
       "output_type": "stream",
       "stream": "stdout",
       "text": [
        "[[ 0  1  2  3  4]\n",
        " [10 11 12 13 14]\n",
        " [20 21 22 23 24]\n",
        " [30 31 32 33 34]\n",
        " [40 41 42 43 44]]\n"
       ]
      }
     ],
     "prompt_number": 55
    },
    {
     "cell_type": "code",
     "collapsed": false,
     "input": [
      "A[np.ix_([1, 2], [3, 4])] = 0\n",
      "print A"
     ],
     "language": "python",
     "metadata": {},
     "outputs": [
      {
       "output_type": "stream",
       "stream": "stdout",
       "text": [
        "[[ 0  1  2  3  4]\n",
        " [10 11 12  0  0]\n",
        " [20 21 22  0  0]\n",
        " [30 31 32 33 34]\n",
        " [40 41 42 43 44]]\n"
       ]
      }
     ],
     "prompt_number": 56
    },
    {
     "cell_type": "code",
     "collapsed": false,
     "input": [
      "col_indices = [1, 2, -1] # rappel : l'indice -1 fait r\u00e9f\u00e9rence au dernier \u00e9l\u00e9ment\n",
      "A[row_indices, col_indices]"
     ],
     "language": "python",
     "metadata": {},
     "outputs": [
      {
       "output_type": "pyout",
       "prompt_number": 57,
       "text": [
        "array([11, 22, 34])"
       ]
      }
     ],
     "prompt_number": 57
    },
    {
     "cell_type": "markdown",
     "metadata": {},
     "source": [
      "On peut aussi utiliser des masques binaires :"
     ]
    },
    {
     "cell_type": "code",
     "collapsed": false,
     "input": [
      "B = np.arange(5)\n",
      "B"
     ],
     "language": "python",
     "metadata": {},
     "outputs": [
      {
       "output_type": "pyout",
       "prompt_number": 58,
       "text": [
        "array([0, 1, 2, 3, 4])"
       ]
      }
     ],
     "prompt_number": 58
    },
    {
     "cell_type": "code",
     "collapsed": false,
     "input": [
      "row_mask = np.array([True, False, True, False, False])\n",
      "B[row_mask]"
     ],
     "language": "python",
     "metadata": {},
     "outputs": [
      {
       "output_type": "pyout",
       "prompt_number": 59,
       "text": [
        "array([0, 2])"
       ]
      }
     ],
     "prompt_number": 59
    },
    {
     "cell_type": "code",
     "collapsed": false,
     "input": [
      "# de fa\u00e7on \u00e9quivalente\n",
      "row_mask = np.array([1,0,1,0,0], dtype=bool)\n",
      "B[row_mask]"
     ],
     "language": "python",
     "metadata": {},
     "outputs": [
      {
       "output_type": "pyout",
       "prompt_number": 60,
       "text": [
        "array([0, 2])"
       ]
      }
     ],
     "prompt_number": 60
    },
    {
     "cell_type": "markdown",
     "metadata": {},
     "source": [
      "## Extraction de donn\u00e9es \u00e0 partir d'*arrays* et cr\u00e9ation d'*arrays*"
     ]
    },
    {
     "cell_type": "markdown",
     "metadata": {},
     "source": [
      "#### where\n",
      "\n",
      "Un masque binaire peut \u00eatre converti en indices de positions avec `where`"
     ]
    },
    {
     "cell_type": "code",
     "collapsed": false,
     "input": [
      "x = np.arange(0, 10, 0.5)\n",
      "print x\n",
      "mask = (x > 5) * (x < 7.5)\n",
      "indices = np.where(mask)\n",
      "print indices"
     ],
     "language": "python",
     "metadata": {},
     "outputs": [
      {
       "output_type": "stream",
       "stream": "stdout",
       "text": [
        "[ 0.   0.5  1.   1.5  2.   2.5  3.   3.5  4.   4.5  5.   5.5  6.   6.5  7.\n",
        "  7.5  8.   8.5  9.   9.5]\n",
        "(array([11, 12, 13, 14]),)\n"
       ]
      }
     ],
     "prompt_number": 61
    },
    {
     "cell_type": "code",
     "collapsed": false,
     "input": [
      "x[indices] # \u00e9quivalent \u00e0 x[mask]"
     ],
     "language": "python",
     "metadata": {},
     "outputs": [
      {
       "output_type": "pyout",
       "prompt_number": 62,
       "text": [
        "array([ 5.5,  6. ,  6.5,  7. ])"
       ]
      }
     ],
     "prompt_number": 62
    },
    {
     "cell_type": "markdown",
     "metadata": {},
     "source": [
      "#### diag\n",
      "\n",
      "Extraire la diagonale ou une sous-diagonale d'un *array* :"
     ]
    },
    {
     "cell_type": "code",
     "collapsed": false,
     "input": [
      "print A\n",
      "np.diag(A)"
     ],
     "language": "python",
     "metadata": {},
     "outputs": [
      {
       "output_type": "stream",
       "stream": "stdout",
       "text": [
        "[[ 0  1  2  3  4]\n",
        " [10 11 12  0  0]\n",
        " [20 21 22  0  0]\n",
        " [30 31 32 33 34]\n",
        " [40 41 42 43 44]]\n"
       ]
      },
      {
       "output_type": "pyout",
       "prompt_number": 63,
       "text": [
        "array([ 0, 11, 22, 33, 44])"
       ]
      }
     ],
     "prompt_number": 63
    },
    {
     "cell_type": "code",
     "collapsed": false,
     "input": [
      "np.diag(A, -1)"
     ],
     "language": "python",
     "metadata": {},
     "outputs": [
      {
       "output_type": "pyout",
       "prompt_number": 64,
       "text": [
        "array([10, 21, 32, 43])"
       ]
      }
     ],
     "prompt_number": 64
    },
    {
     "cell_type": "markdown",
     "metadata": {},
     "source": [
      "#### take\n",
      "\n",
      "`take` permet aussi de faire de l'indexation avanc\u00e9e :"
     ]
    },
    {
     "cell_type": "code",
     "collapsed": false,
     "input": [
      "v2 = arange(-3,3)\n",
      "v2"
     ],
     "language": "python",
     "metadata": {},
     "outputs": [
      {
       "output_type": "pyout",
       "prompt_number": 65,
       "text": [
        "array([-3, -2, -1,  0,  1,  2])"
       ]
      }
     ],
     "prompt_number": 65
    },
    {
     "cell_type": "code",
     "collapsed": false,
     "input": [
      "row_indices = [1, 3, 5]\n",
      "v2[row_indices] # fancy indexing"
     ],
     "language": "python",
     "metadata": {},
     "outputs": [
      {
       "output_type": "pyout",
       "prompt_number": 66,
       "text": [
        "array([-2,  0,  2])"
       ]
      }
     ],
     "prompt_number": 66
    },
    {
     "cell_type": "code",
     "collapsed": false,
     "input": [
      "v2.take(row_indices)"
     ],
     "language": "python",
     "metadata": {},
     "outputs": [
      {
       "output_type": "pyout",
       "prompt_number": 67,
       "text": [
        "array([-2,  0,  2])"
       ]
      }
     ],
     "prompt_number": 67
    },
    {
     "cell_type": "markdown",
     "metadata": {},
     "source": [
      "Mais `take` fonctionnne aussi sur d'autres types d'objets (en faisant une conversion en array):"
     ]
    },
    {
     "cell_type": "code",
     "collapsed": false,
     "input": [
      "take([-3, -2, -1,  0,  1,  2], row_indices)"
     ],
     "language": "python",
     "metadata": {},
     "outputs": [
      {
       "output_type": "pyout",
       "prompt_number": 68,
       "text": [
        "array([-2,  0,  2])"
       ]
      }
     ],
     "prompt_number": 68
    },
    {
     "cell_type": "markdown",
     "metadata": {},
     "source": [
      "## Alg\u00e8bre lin\u00e9aire\n",
      "\n",
      "La performance des programmes \u00e9crit en Python/Numpy d\u00e9pend de la capacit\u00e9 \u00e0 vectoriser les calculs (les \u00e9crire comme des op\u00e9rations sur des vecteurs/matrices) en \u00e9vitant au maximum les boucles `for/while`\n"
     ]
    },
    {
     "cell_type": "markdown",
     "metadata": {},
     "source": [
      "### Op\u00e9rations scalaires\n",
      "\n",
      "On peut effectuer les op\u00e9rations arithm\u00e9tiques habituelles pour multiplier, additionner, soustraire et diviser des *arrays* avec/par des scalaires :"
     ]
    },
    {
     "cell_type": "code",
     "collapsed": false,
     "input": [
      "v1 = np.arange(0, 5)"
     ],
     "language": "python",
     "metadata": {},
     "outputs": [],
     "prompt_number": 69
    },
    {
     "cell_type": "code",
     "collapsed": false,
     "input": [
      "v1 * 2"
     ],
     "language": "python",
     "metadata": {},
     "outputs": [
      {
       "output_type": "pyout",
       "prompt_number": 70,
       "text": [
        "array([0, 2, 4, 6, 8])"
       ]
      }
     ],
     "prompt_number": 70
    },
    {
     "cell_type": "code",
     "collapsed": false,
     "input": [
      "v1 + 2"
     ],
     "language": "python",
     "metadata": {},
     "outputs": [
      {
       "output_type": "pyout",
       "prompt_number": 71,
       "text": [
        "array([2, 3, 4, 5, 6])"
       ]
      }
     ],
     "prompt_number": 71
    },
    {
     "cell_type": "code",
     "collapsed": false,
     "input": [
      "pl.figure()\n",
      "pl.subplot(1,2,1)\n",
      "pl.plot(v1 ** 2,'g--', label='$y = x^2$')\n",
      "pl.legend(loc=0)\n",
      "pl.subplot(1,2,2)\n",
      "pl.plot(sqrt(v1), 'r*-', label='$y = \\sqrt{x}$')\n",
      "pl.legend(loc=2)\n",
      "pl.show()"
     ],
     "language": "python",
     "metadata": {},
     "outputs": [
      {
       "output_type": "display_data",
       "png": "[encoded data removed]"
      }
     ],
     "prompt_number": 72
    },
    {
     "cell_type": "code",
     "collapsed": false,
     "input": [
      "A * 2, A + 2"
     ],
     "language": "python",
     "metadata": {},
     "outputs": [
      {
       "output_type": "pyout",
       "prompt_number": 73,
       "text": [
        "(array([[ 0,  2,  4,  6,  8],\n",
        "       [20, 22, 24,  0,  0],\n",
        "       [40, 42, 44,  0,  0],\n",
        "       [60, 62, 64, 66, 68],\n",
        "       [80, 82, 84, 86, 88]]),\n",
        " array([[ 2,  3,  4,  5,  6],\n",
        "       [12, 13, 14,  2,  2],\n",
        "       [22, 23, 24,  2,  2],\n",
        "       [32, 33, 34, 35, 36],\n",
        "       [42, 43, 44, 45, 46]]))"
       ]
      }
     ],
     "prompt_number": 73
    },
    {
     "cell_type": "markdown",
     "metadata": {},
     "source": [
      "### Visualiser des matrices"
     ]
    },
    {
     "cell_type": "code",
     "collapsed": false,
     "input": [
      "C = random.rand(300,200)\n",
      "pl.figure()\n",
      "pl.imshow(C)\n",
      "pl.colorbar()\n",
      "pl.show()"
     ],
     "language": "python",
     "metadata": {},
     "outputs": [
      {
       "ename": "AttributeError",
       "evalue": "'builtin_function_or_method' object has no attribute 'rand'",
       "output_type": "pyerr",
       "traceback": [
        "\u001b[0;31m---------------------------------------------------------------------------\u001b[0m\n\u001b[0;31mAttributeError\u001b[0m                            Traceback (most recent call last)",
        "\u001b[0;32m<ipython-input-74-1bf1f4fb836d>\u001b[0m in \u001b[0;36m<module>\u001b[0;34m()\u001b[0m\n\u001b[0;32m----> 1\u001b[0;31m \u001b[0mC\u001b[0m \u001b[0;34m=\u001b[0m \u001b[0mrandom\u001b[0m\u001b[0;34m.\u001b[0m\u001b[0mrand\u001b[0m\u001b[0;34m(\u001b[0m\u001b[0;36m300\u001b[0m\u001b[0;34m,\u001b[0m\u001b[0;36m200\u001b[0m\u001b[0;34m)\u001b[0m\u001b[0;34m\u001b[0m\u001b[0m\n\u001b[0m\u001b[1;32m      2\u001b[0m \u001b[0mpl\u001b[0m\u001b[0;34m.\u001b[0m\u001b[0mfigure\u001b[0m\u001b[0;34m(\u001b[0m\u001b[0;34m)\u001b[0m\u001b[0;34m\u001b[0m\u001b[0m\n\u001b[1;32m      3\u001b[0m \u001b[0mpl\u001b[0m\u001b[0;34m.\u001b[0m\u001b[0mimshow\u001b[0m\u001b[0;34m(\u001b[0m\u001b[0mC\u001b[0m\u001b[0;34m)\u001b[0m\u001b[0;34m\u001b[0m\u001b[0m\n\u001b[1;32m      4\u001b[0m \u001b[0mpl\u001b[0m\u001b[0;34m.\u001b[0m\u001b[0mcolorbar\u001b[0m\u001b[0;34m(\u001b[0m\u001b[0;34m)\u001b[0m\u001b[0;34m\u001b[0m\u001b[0m\n\u001b[1;32m      5\u001b[0m \u001b[0mpl\u001b[0m\u001b[0;34m.\u001b[0m\u001b[0mshow\u001b[0m\u001b[0;34m(\u001b[0m\u001b[0;34m)\u001b[0m\u001b[0;34m\u001b[0m\u001b[0m\n",
        "\u001b[0;31mAttributeError\u001b[0m: 'builtin_function_or_method' object has no attribute 'rand'"
       ]
      }
     ],
     "prompt_number": 74
    },
    {
     "cell_type": "markdown",
     "metadata": {},
     "source": [
      "### Op\u00e9rations terme-\u00e0-terme sur les *arrays*\n",
      "\n",
      "Les op\u00e9rations par d\u00e9faut sont des op\u00e9rations **terme-\u00e0-terme** :"
     ]
    },
    {
     "cell_type": "code",
     "collapsed": false,
     "input": [
      "A * A # multiplication terme-\u00e0-terme"
     ],
     "language": "python",
     "metadata": {},
     "outputs": []
    },
    {
     "cell_type": "code",
     "collapsed": false,
     "input": [
      "v1 * v1"
     ],
     "language": "python",
     "metadata": {},
     "outputs": []
    },
    {
     "cell_type": "markdown",
     "metadata": {},
     "source": [
      "En multipliant des *arrays* de tailles compatibles, on obtient des multiplications terme-\u00e0-terme par ligne :"
     ]
    },
    {
     "cell_type": "code",
     "collapsed": false,
     "input": [
      "A.shape, v1.shape"
     ],
     "language": "python",
     "metadata": {},
     "outputs": []
    },
    {
     "cell_type": "code",
     "collapsed": false,
     "input": [
      "print A\n",
      "print v1\n",
      "A * v1"
     ],
     "language": "python",
     "metadata": {},
     "outputs": []
    },
    {
     "cell_type": "markdown",
     "metadata": {},
     "source": [
      "### Exercice:\n",
      "\n",
      "Sans utiliser de boucles (`for/while`) :\n",
      "\n",
      " * Cr\u00e9er une matrice (5x6) al\u00e9atoire\n",
      " * Remplacer une colonne sur deux, sauf la derni\u00e8re colonne, par sa valeur moins le double de la colonne suivante\n",
      " * Remplacer les valeurs n\u00e9gatives par 0 en utilisant un masque binaire\n"
     ]
    },
    {
     "cell_type": "markdown",
     "metadata": {},
     "source": [
      "### Alg\u00e8bre matricielle\n",
      "\n",
      "Comment faire des multiplications de matrices ? Deux fa\u00e7ons :\n",
      " \n",
      " * en utilisant les fonctions `dot`; \n",
      " * en utiliser le type `matrix`.\n"
     ]
    },
    {
     "cell_type": "code",
     "collapsed": false,
     "input": [
      "print dot(A, A)\n",
      "print A * A\n",
      "print type(A)"
     ],
     "language": "python",
     "metadata": {},
     "outputs": []
    },
    {
     "cell_type": "code",
     "collapsed": false,
     "input": [
      "np.dot(A, v1)"
     ],
     "language": "python",
     "metadata": {},
     "outputs": []
    },
    {
     "cell_type": "markdown",
     "metadata": {},
     "source": [
      "Ou bien:"
     ]
    },
    {
     "cell_type": "code",
     "collapsed": false,
     "input": [
      "A.dot(v1)"
     ],
     "language": "python",
     "metadata": {},
     "outputs": []
    },
    {
     "cell_type": "code",
     "collapsed": false,
     "input": [
      "np.dot(v1, v1)"
     ],
     "language": "python",
     "metadata": {},
     "outputs": []
    },
    {
     "cell_type": "code",
     "collapsed": false,
     "input": [
      "M = np.matrix(A)\n",
      "v = np.matrix(v1).T # en faire un vecteur colonne"
     ],
     "language": "python",
     "metadata": {},
     "outputs": []
    },
    {
     "cell_type": "code",
     "collapsed": false,
     "input": [
      "v, v.T"
     ],
     "language": "python",
     "metadata": {},
     "outputs": []
    },
    {
     "cell_type": "code",
     "collapsed": false,
     "input": [
      "v1, v1.T"
     ],
     "language": "python",
     "metadata": {},
     "outputs": []
    },
    {
     "cell_type": "code",
     "collapsed": false,
     "input": [
      "v1, v1.reshape((5, 1)).T\n",
      "print v1.reshape((5, 1)).T\n",
      "print v1.reshape((5, 1)).T[0]"
     ],
     "language": "python",
     "metadata": {},
     "outputs": []
    },
    {
     "cell_type": "code",
     "collapsed": false,
     "input": [
      "print np.dot(v1, v1)\n",
      "print np.sum(v1 * v1)\n",
      "print (v1 * v1).sum()\n",
      "print v1\n",
      "v1\n",
      "print \"%s\" % v1,\n",
      "print 1"
     ],
     "language": "python",
     "metadata": {},
     "outputs": []
    },
    {
     "cell_type": "code",
     "collapsed": false,
     "input": [
      "print M*M\n",
      "print dot(M, M)"
     ],
     "language": "python",
     "metadata": {},
     "outputs": []
    },
    {
     "cell_type": "code",
     "collapsed": false,
     "input": [
      "M * v"
     ],
     "language": "python",
     "metadata": {},
     "outputs": []
    },
    {
     "cell_type": "code",
     "collapsed": false,
     "input": [
      "# produit scalaire\n",
      "v.T * v"
     ],
     "language": "python",
     "metadata": {},
     "outputs": []
    },
    {
     "cell_type": "code",
     "collapsed": false,
     "input": [
      "# avec les objets matrices, c'est les op\u00e9rations standards sur les matrices qui sont appliqu\u00e9es\n",
      "v + M*v"
     ],
     "language": "python",
     "metadata": {},
     "outputs": [
      {
       "ename": "ValueError",
       "evalue": "operands could not be broadcast together with shapes (2,2) (4) ",
       "output_type": "pyerr",
       "traceback": [
        "\u001b[0;31m---------------------------------------------------------------------------\u001b[0m\n\u001b[0;31mValueError\u001b[0m                                Traceback (most recent call last)",
        "\u001b[0;32m<ipython-input-75-90ce33380e68>\u001b[0m in \u001b[0;36m<module>\u001b[0;34m()\u001b[0m\n\u001b[1;32m      1\u001b[0m \u001b[0;31m# avec les objets matrices, c'est les op\u00e9rations standards sur les matrices qui sont appliqu\u00e9es\u001b[0m\u001b[0;34m\u001b[0m\u001b[0;34m\u001b[0m\u001b[0m\n\u001b[0;32m----> 2\u001b[0;31m \u001b[0mv\u001b[0m \u001b[0;34m+\u001b[0m \u001b[0mM\u001b[0m\u001b[0;34m*\u001b[0m\u001b[0mv\u001b[0m\u001b[0;34m\u001b[0m\u001b[0m\n\u001b[0m",
        "\u001b[0;31mValueError\u001b[0m: operands could not be broadcast together with shapes (2,2) (4) "
       ]
      }
     ],
     "prompt_number": 75
    },
    {
     "cell_type": "markdown",
     "metadata": {},
     "source": [
      "Si les dimensions sont incompatibles on provoque des erreurs :"
     ]
    },
    {
     "cell_type": "code",
     "collapsed": false,
     "input": [
      "v = np.matrix([1,2,3,4,5,6]).T"
     ],
     "language": "python",
     "metadata": {},
     "outputs": []
    },
    {
     "cell_type": "code",
     "collapsed": false,
     "input": [
      "shape(M), shape(v)"
     ],
     "language": "python",
     "metadata": {},
     "outputs": []
    },
    {
     "cell_type": "code",
     "collapsed": false,
     "input": [
      "M * v"
     ],
     "language": "python",
     "metadata": {},
     "outputs": []
    },
    {
     "cell_type": "markdown",
     "metadata": {},
     "source": [
      "Voir \u00e9galement les fonctions : `inner`, `outer`, `cross`, `kron`, `tensordot`. Utiliser par exemple `help(kron)`."
     ]
    },
    {
     "cell_type": "markdown",
     "metadata": {},
     "source": [
      "### Transformations d'*arrays* ou de matrices"
     ]
    },
    {
     "cell_type": "markdown",
     "metadata": {},
     "source": [
      " * Plus haut `.T` a \u00e9t\u00e9 utilis\u00e9 pour transposer l'objet matrice `v`\n",
      " * On peut aussi utiliser la fonction `transpose`\n",
      "\n",
      "**Autres transformations :**\n"
     ]
    },
    {
     "cell_type": "code",
     "collapsed": false,
     "input": [
      "C = np.matrix([[1j, 2j], [3j, 4j]])\n",
      "C"
     ],
     "language": "python",
     "metadata": {},
     "outputs": []
    },
    {
     "cell_type": "code",
     "collapsed": false,
     "input": [
      "np.conjugate(C)"
     ],
     "language": "python",
     "metadata": {},
     "outputs": []
    },
    {
     "cell_type": "markdown",
     "metadata": {},
     "source": [
      "Transpos\u00e9e conjugu\u00e9e :"
     ]
    },
    {
     "cell_type": "code",
     "collapsed": false,
     "input": [
      "C.H"
     ],
     "language": "python",
     "metadata": {},
     "outputs": []
    },
    {
     "cell_type": "markdown",
     "metadata": {},
     "source": [
      "Parties r\u00e9elles et imaginaires :"
     ]
    },
    {
     "cell_type": "code",
     "collapsed": false,
     "input": [
      "np.real(C) # same as: C.real"
     ],
     "language": "python",
     "metadata": {},
     "outputs": []
    },
    {
     "cell_type": "code",
     "collapsed": false,
     "input": [
      "np.imag(C) # same as: C.imag"
     ],
     "language": "python",
     "metadata": {},
     "outputs": []
    },
    {
     "cell_type": "markdown",
     "metadata": {},
     "source": [
      "Argument et module :"
     ]
    },
    {
     "cell_type": "code",
     "collapsed": false,
     "input": [
      "np.angle(C+1) "
     ],
     "language": "python",
     "metadata": {},
     "outputs": []
    },
    {
     "cell_type": "code",
     "collapsed": false,
     "input": [
      "np.abs(C)"
     ],
     "language": "python",
     "metadata": {},
     "outputs": []
    },
    {
     "cell_type": "markdown",
     "metadata": {},
     "source": [
      "### Caclul matriciel"
     ]
    },
    {
     "cell_type": "markdown",
     "metadata": {},
     "source": [
      "### Analyse de donn\u00e9es\n",
      "\n",
      "Numpy propose des fonctions pour calculer certaines statistiques des donn\u00e9es stock\u00e9es dans des *arrays* :"
     ]
    },
    {
     "cell_type": "code",
     "collapsed": false,
     "input": [
      "data = np.vander([1, 2, 3, 4])\n",
      "print data\n",
      "print data.shape"
     ],
     "language": "python",
     "metadata": {},
     "outputs": []
    },
    {
     "cell_type": "markdown",
     "metadata": {},
     "source": [
      "#### mean"
     ]
    },
    {
     "cell_type": "code",
     "collapsed": false,
     "input": [
      "# la moyenne de la troisi\u00e8me colonne\n",
      "np.mean(data[:,2])"
     ],
     "language": "python",
     "metadata": {},
     "outputs": []
    },
    {
     "cell_type": "code",
     "collapsed": false,
     "input": [
      "np.mean(data)"
     ],
     "language": "python",
     "metadata": {},
     "outputs": []
    },
    {
     "cell_type": "markdown",
     "metadata": {},
     "source": [
      "#### variance et \u00e9cart type"
     ]
    },
    {
     "cell_type": "code",
     "collapsed": false,
     "input": [
      "np.var(data[:,2]), np.std(data[:,2])"
     ],
     "language": "python",
     "metadata": {},
     "outputs": []
    },
    {
     "cell_type": "markdown",
     "metadata": {},
     "source": [
      "#### min et max"
     ]
    },
    {
     "cell_type": "code",
     "collapsed": false,
     "input": [
      "data[:,2].min()"
     ],
     "language": "python",
     "metadata": {},
     "outputs": []
    },
    {
     "cell_type": "code",
     "collapsed": false,
     "input": [
      "data[:,2].max()"
     ],
     "language": "python",
     "metadata": {},
     "outputs": []
    },
    {
     "cell_type": "code",
     "collapsed": false,
     "input": [
      "data[:,2].sum()"
     ],
     "language": "python",
     "metadata": {},
     "outputs": []
    },
    {
     "cell_type": "code",
     "collapsed": false,
     "input": [
      "data[:,2].prod()"
     ],
     "language": "python",
     "metadata": {},
     "outputs": []
    },
    {
     "cell_type": "markdown",
     "metadata": {},
     "source": [
      "#### sum, prod, et trace"
     ]
    },
    {
     "cell_type": "code",
     "collapsed": false,
     "input": [
      "d = np.arange(0, 10)\n",
      "d"
     ],
     "language": "python",
     "metadata": {},
     "outputs": []
    },
    {
     "cell_type": "code",
     "collapsed": false,
     "input": [
      "# somme des \u00e9l\u00e9ments\n",
      "np.sum(d)"
     ],
     "language": "python",
     "metadata": {},
     "outputs": []
    },
    {
     "cell_type": "markdown",
     "metadata": {},
     "source": [
      "ou encore :"
     ]
    },
    {
     "cell_type": "code",
     "collapsed": false,
     "input": [
      "d.sum()"
     ],
     "language": "python",
     "metadata": {},
     "outputs": []
    },
    {
     "cell_type": "code",
     "collapsed": false,
     "input": [
      "# produit des \u00e9l\u00e9ments\n",
      "np.prod(d+1)"
     ],
     "language": "python",
     "metadata": {},
     "outputs": []
    },
    {
     "cell_type": "code",
     "collapsed": false,
     "input": [
      "# somme cumul\u00e9e\n",
      "np.cumsum(d)"
     ],
     "language": "python",
     "metadata": {},
     "outputs": []
    },
    {
     "cell_type": "code",
     "collapsed": false,
     "input": [
      "# produit cumul\u00e9\n",
      "np.cumprod(d+1)"
     ],
     "language": "python",
     "metadata": {},
     "outputs": []
    },
    {
     "cell_type": "code",
     "collapsed": false,
     "input": [
      "# trace l'\u00e9quivalent de diag(A).sum()\n",
      "print np.trace(data)\n",
      "print np.sum(np.diag(data))"
     ],
     "language": "python",
     "metadata": {},
     "outputs": []
    },
    {
     "cell_type": "markdown",
     "metadata": {},
     "source": [
      "### Calculs avec parties d'*arrays*\n",
      "\n",
      "en utilisant l'indexation ou n'importe quelle m\u00e9thode d'extraction de donn\u00e9s \u00e0 partir des *arrays*"
     ]
    },
    {
     "cell_type": "code",
     "collapsed": false,
     "input": [
      "data"
     ],
     "language": "python",
     "metadata": {},
     "outputs": []
    },
    {
     "cell_type": "code",
     "collapsed": false,
     "input": [
      "np.unique(data[:,1])"
     ],
     "language": "python",
     "metadata": {},
     "outputs": []
    },
    {
     "cell_type": "code",
     "collapsed": false,
     "input": [
      "mask = data[:,1] == 2\n",
      "print mask"
     ],
     "language": "python",
     "metadata": {},
     "outputs": []
    },
    {
     "cell_type": "code",
     "collapsed": false,
     "input": [
      "np.mean(data[mask,3])"
     ],
     "language": "python",
     "metadata": {},
     "outputs": []
    },
    {
     "cell_type": "markdown",
     "metadata": {},
     "source": [
      "### Calculs aves donn\u00e9es multi-dimensionnelles\n",
      "\n",
      "Pour appliquer `min`, `max`, etc., par lignes ou colonnes :"
     ]
    },
    {
     "cell_type": "code",
     "collapsed": false,
     "input": [
      "m = np.random.rand(3,4)\n",
      "m"
     ],
     "language": "python",
     "metadata": {},
     "outputs": []
    },
    {
     "cell_type": "code",
     "collapsed": false,
     "input": [
      "# max global \n",
      "m.max()"
     ],
     "language": "python",
     "metadata": {},
     "outputs": []
    },
    {
     "cell_type": "code",
     "collapsed": false,
     "input": [
      "# max dans chaque colonne\n",
      "m.max(axis=0)"
     ],
     "language": "python",
     "metadata": {},
     "outputs": []
    },
    {
     "cell_type": "code",
     "collapsed": false,
     "input": [
      "# max dans chaque ligne\n",
      "m.max(axis=1)"
     ],
     "language": "python",
     "metadata": {},
     "outputs": []
    },
    {
     "cell_type": "code",
     "collapsed": false,
     "input": [
      "m.sum(axis=0)"
     ],
     "language": "python",
     "metadata": {},
     "outputs": []
    },
    {
     "cell_type": "code",
     "collapsed": false,
     "input": [
      "m.sum(axis=1)"
     ],
     "language": "python",
     "metadata": {},
     "outputs": []
    },
    {
     "cell_type": "markdown",
     "metadata": {},
     "source": [
      "Plusieurs autres m\u00e9thodes des classes `array` et `matrix` acceptent l'argument (optional) `axis` keyword argument."
     ]
    },
    {
     "cell_type": "markdown",
     "metadata": {},
     "source": [
      "## Copy et \"deep copy\"\n",
      "\n",
      "Pour des raisons de performance Python ne copie pas automatiquement les objets (par exemple passage par r\u00e9f\u00e9rence des param\u00e8tres de fonctions)."
     ]
    },
    {
     "cell_type": "code",
     "collapsed": false,
     "input": [
      "A = np.array([[0,  2],[ 3,  4]])\n",
      "A"
     ],
     "language": "python",
     "metadata": {},
     "outputs": []
    },
    {
     "cell_type": "code",
     "collapsed": false,
     "input": [
      "A[0]"
     ],
     "language": "python",
     "metadata": {},
     "outputs": []
    },
    {
     "cell_type": "code",
     "collapsed": false,
     "input": [
      "B = A"
     ],
     "language": "python",
     "metadata": {},
     "outputs": []
    },
    {
     "cell_type": "code",
     "collapsed": false,
     "input": [
      "# changer B affecte A\n",
      "B[0,0] = 10\n",
      "B"
     ],
     "language": "python",
     "metadata": {},
     "outputs": []
    },
    {
     "cell_type": "code",
     "collapsed": false,
     "input": [
      "A  # A est aussi modifi\u00e9"
     ],
     "language": "python",
     "metadata": {},
     "outputs": []
    },
    {
     "cell_type": "markdown",
     "metadata": {},
     "source": [
      "Pour \u00e9viter ce comportement, on peut demander une *copie profonde* (*deep copy*) de `A` dans `B`"
     ]
    },
    {
     "cell_type": "code",
     "collapsed": false,
     "input": [
      "B = np.copy(A)\n",
      "# ou plus simple:\n",
      "B = A.copy()"
     ],
     "language": "python",
     "metadata": {},
     "outputs": []
    },
    {
     "cell_type": "code",
     "collapsed": false,
     "input": [
      "# maintenant en modifiant B, A n'est plus affect\u00e9\n",
      "B[0,0] = -5\n",
      "B"
     ],
     "language": "python",
     "metadata": {},
     "outputs": []
    },
    {
     "cell_type": "code",
     "collapsed": false,
     "input": [
      "A  # A n'est pas modifi\u00e9 !"
     ],
     "language": "python",
     "metadata": {},
     "outputs": []
    },
    {
     "cell_type": "code",
     "collapsed": false,
     "input": [
      "# Attention la copie n'est pas un probl\u00e8me pour les variables \"non-mutables\"\n",
      "a = 2.\n",
      "b = a\n",
      "b *= 3\n",
      "print a, b  # a n'est pas modifi\u00e9"
     ],
     "language": "python",
     "metadata": {},
     "outputs": []
    },
    {
     "cell_type": "code",
     "collapsed": false,
     "input": [
      "# Pour soustraie la premi\u00e8re colonne \u00e0 toutes les autres colonnes:\n",
      "print A - A[:,0]  # FAUX\n",
      "print A - A[:,0].reshape((2, 1))  # OK"
     ],
     "language": "python",
     "metadata": {},
     "outputs": []
    },
    {
     "cell_type": "markdown",
     "metadata": {},
     "source": [
      "## Changement de forme et de taille, et concat\u00e9nation des *arrays*\n",
      "\n"
     ]
    },
    {
     "cell_type": "code",
     "collapsed": false,
     "input": [
      "A"
     ],
     "language": "python",
     "metadata": {},
     "outputs": []
    },
    {
     "cell_type": "code",
     "collapsed": false,
     "input": [
      "n, m = A.shape\n",
      "print n, m"
     ],
     "language": "python",
     "metadata": {},
     "outputs": []
    },
    {
     "cell_type": "code",
     "collapsed": false,
     "input": [
      "B = A.reshape((1,n*m))\n",
      "print B.ndim\n",
      "B"
     ],
     "language": "python",
     "metadata": {},
     "outputs": []
    },
    {
     "cell_type": "code",
     "collapsed": false,
     "input": [
      "B = A.reshape((n*m,1))\n",
      "print B.ndim\n",
      "B"
     ],
     "language": "python",
     "metadata": {},
     "outputs": []
    },
    {
     "cell_type": "code",
     "collapsed": false,
     "input": [
      "C = A.reshape((n*m,))\n",
      "print C.ndim\n",
      "C"
     ],
     "language": "python",
     "metadata": {},
     "outputs": []
    },
    {
     "cell_type": "code",
     "collapsed": false,
     "input": [
      "B[0,0:5] = 5 # modifier l'array\n",
      "B"
     ],
     "language": "python",
     "metadata": {},
     "outputs": []
    },
    {
     "cell_type": "code",
     "collapsed": false,
     "input": [
      "A"
     ],
     "language": "python",
     "metadata": {},
     "outputs": []
    },
    {
     "cell_type": "markdown",
     "metadata": {},
     "source": [
      "### Attention !\n",
      "\n",
      "La variable originale est aussi modifi\u00e9e ! B n'est qu'une nouvelle *vue* de A."
     ]
    },
    {
     "cell_type": "markdown",
     "metadata": {},
     "source": [
      "Pour transformer un *array* multi-dimmensionel en un vecteur (ndim de 1) avec une copie :"
     ]
    },
    {
     "cell_type": "code",
     "collapsed": false,
     "input": [
      "B = A.flatten()\n",
      "B"
     ],
     "language": "python",
     "metadata": {},
     "outputs": []
    },
    {
     "cell_type": "code",
     "collapsed": false,
     "input": [
      "B[0:5] = 10\n",
      "B"
     ],
     "language": "python",
     "metadata": {},
     "outputs": []
    },
    {
     "cell_type": "code",
     "collapsed": false,
     "input": [
      "A # A ne change pas car B est une copie de A"
     ],
     "language": "python",
     "metadata": {},
     "outputs": [
      {
       "output_type": "pyout",
       "prompt_number": 76,
       "text": [
        "array([[ 0,  1,  2,  3,  4],\n",
        "       [10, 11, 12,  0,  0],\n",
        "       [20, 21, 22,  0,  0],\n",
        "       [30, 31, 32, 33, 34],\n",
        "       [40, 41, 42, 43, 44]])"
       ]
      }
     ],
     "prompt_number": 76
    },
    {
     "cell_type": "markdown",
     "metadata": {},
     "source": [
      "### Ajouter une nouvelle dimension avec `newaxis`\n",
      "\n",
      "par exemple pour convertir un vecteur en une matrice ligne ou colonne :"
     ]
    },
    {
     "cell_type": "code",
     "collapsed": false,
     "input": [
      "v = np.array([1,2,3])"
     ],
     "language": "python",
     "metadata": {},
     "outputs": [],
     "prompt_number": 77
    },
    {
     "cell_type": "code",
     "collapsed": false,
     "input": [
      "v.shape"
     ],
     "language": "python",
     "metadata": {},
     "outputs": [
      {
       "output_type": "pyout",
       "prompt_number": 78,
       "text": [
        "(3,)"
       ]
      }
     ],
     "prompt_number": 78
    },
    {
     "cell_type": "code",
     "collapsed": false,
     "input": [
      "# cr\u00e9er une matrice \u00e0 une colonne \u00e0 partir du vectuer v\n",
      "v[:, newaxis]"
     ],
     "language": "python",
     "metadata": {},
     "outputs": [
      {
       "output_type": "pyout",
       "prompt_number": 79,
       "text": [
        "array([[1],\n",
        "       [2],\n",
        "       [3]])"
       ]
      }
     ],
     "prompt_number": 79
    },
    {
     "cell_type": "code",
     "collapsed": false,
     "input": [
      "v[:,newaxis].shape"
     ],
     "language": "python",
     "metadata": {},
     "outputs": [
      {
       "output_type": "pyout",
       "prompt_number": 80,
       "text": [
        "(3, 1)"
       ]
      }
     ],
     "prompt_number": 80
    },
    {
     "cell_type": "code",
     "collapsed": false,
     "input": [
      "# array 2d \u00e0 une ligne\n",
      "v[newaxis,:].shape"
     ],
     "language": "python",
     "metadata": {},
     "outputs": [
      {
       "output_type": "pyout",
       "prompt_number": 81,
       "text": [
        "(1, 3)"
       ]
      }
     ],
     "prompt_number": 81
    },
    {
     "cell_type": "markdown",
     "metadata": {},
     "source": [
      "### Concat\u00e9ner, r\u00e9p\u00e9ter des *arrays*\n",
      "\n",
      "En utilisant les fonctions `repeat`, `tile`, `vstack`, `hstack`, et `concatenate`, on peut cr\u00e9er des vecteurs/matrices plus grandes \u00e0 partir de vecteurs/matrices plus petites :\n"
     ]
    },
    {
     "cell_type": "markdown",
     "metadata": {},
     "source": [
      "#### repeat et tile"
     ]
    },
    {
     "cell_type": "code",
     "collapsed": false,
     "input": [
      "a = np.array([[1, 2], [3, 4]])\n",
      "a"
     ],
     "language": "python",
     "metadata": {},
     "outputs": [
      {
       "output_type": "pyout",
       "prompt_number": 82,
       "text": [
        "array([[1, 2],\n",
        "       [3, 4]])"
       ]
      }
     ],
     "prompt_number": 82
    },
    {
     "cell_type": "code",
     "collapsed": false,
     "input": [
      "# r\u00e9p\u00e9ter chaque \u00e9l\u00e9ment 3 fois\n",
      "np.repeat(a, 3) # r\u00e9sultat 1-d"
     ],
     "language": "python",
     "metadata": {},
     "outputs": [
      {
       "output_type": "pyout",
       "prompt_number": 83,
       "text": [
        "array([1, 1, 1, 2, 2, 2, 3, 3, 3, 4, 4, 4])"
       ]
      }
     ],
     "prompt_number": 83
    },
    {
     "cell_type": "code",
     "collapsed": false,
     "input": [
      "# on peut sp\u00e9cifier l'argument axis\n",
      "np.repeat(a, 3, axis=1)"
     ],
     "language": "python",
     "metadata": {},
     "outputs": [
      {
       "output_type": "pyout",
       "prompt_number": 84,
       "text": [
        "array([[1, 1, 1, 2, 2, 2],\n",
        "       [3, 3, 3, 4, 4, 4]])"
       ]
      }
     ],
     "prompt_number": 84
    },
    {
     "cell_type": "markdown",
     "metadata": {},
     "source": [
      "Pour r\u00e9p\u00e9ter la matrice, il faut utiliser `tile`"
     ]
    },
    {
     "cell_type": "code",
     "collapsed": false,
     "input": [
      "# r\u00e9p\u00e9ter la matrice 3 fois\n",
      "np.tile(a, 3)"
     ],
     "language": "python",
     "metadata": {},
     "outputs": [
      {
       "output_type": "pyout",
       "prompt_number": 85,
       "text": [
        "array([[1, 2, 1, 2, 1, 2],\n",
        "       [3, 4, 3, 4, 3, 4]])"
       ]
      }
     ],
     "prompt_number": 85
    },
    {
     "cell_type": "markdown",
     "metadata": {},
     "source": [
      "#### concatenate"
     ]
    },
    {
     "cell_type": "code",
     "collapsed": false,
     "input": [
      "b = np.array([[5, 6]])\n",
      "print a, b"
     ],
     "language": "python",
     "metadata": {},
     "outputs": [
      {
       "output_type": "stream",
       "stream": "stdout",
       "text": [
        "[[1 2]\n",
        " [3 4]] [[5 6]]\n"
       ]
      }
     ],
     "prompt_number": 86
    },
    {
     "cell_type": "code",
     "collapsed": false,
     "input": [
      "np.concatenate((a, b), axis=0)"
     ],
     "language": "python",
     "metadata": {},
     "outputs": [
      {
       "output_type": "pyout",
       "prompt_number": 87,
       "text": [
        "array([[1, 2],\n",
        "       [3, 4],\n",
        "       [5, 6]])"
       ]
      }
     ],
     "prompt_number": 87
    },
    {
     "cell_type": "code",
     "collapsed": false,
     "input": [
      "np.concatenate((a, b.T), axis=1)"
     ],
     "language": "python",
     "metadata": {},
     "outputs": [
      {
       "output_type": "pyout",
       "prompt_number": 88,
       "text": [
        "array([[1, 2, 5],\n",
        "       [3, 4, 6]])"
       ]
      }
     ],
     "prompt_number": 88
    },
    {
     "cell_type": "markdown",
     "metadata": {},
     "source": [
      "#### hstack et vstack"
     ]
    },
    {
     "cell_type": "code",
     "collapsed": false,
     "input": [
      "np.vstack((a,b))"
     ],
     "language": "python",
     "metadata": {},
     "outputs": [
      {
       "output_type": "pyout",
       "prompt_number": 89,
       "text": [
        "array([[1, 2],\n",
        "       [3, 4],\n",
        "       [5, 6]])"
       ]
      }
     ],
     "prompt_number": 89
    },
    {
     "cell_type": "code",
     "collapsed": false,
     "input": [
      "np.hstack((a,b.T))"
     ],
     "language": "python",
     "metadata": {},
     "outputs": [
      {
       "output_type": "pyout",
       "prompt_number": 90,
       "text": [
        "array([[1, 2, 5],\n",
        "       [3, 4, 6]])"
       ]
      }
     ],
     "prompt_number": 90
    },
    {
     "cell_type": "markdown",
     "metadata": {},
     "source": [
      "## It\u00e9rer sur les \u00e9l\u00e9ments d'un *array*\n",
      "\n",
      " * Dans la mesure du possible, il faut \u00e9viter l'it\u00e9ration sur les \u00e9l\u00e9ments d'un *array* : c'est beaucoup plus lent que les op\u00e9rations vectoris\u00e9es\n",
      " * Mais il arrive que l'on n'ait pas le choix..."
     ]
    },
    {
     "cell_type": "code",
     "collapsed": false,
     "input": [
      "v = np.array([1,2,3,4])\n",
      "\n",
      "for element in v:\n",
      "    print element\n",
      "\n",
      "v[0], v[1], v[2], v[3]"
     ],
     "language": "python",
     "metadata": {},
     "outputs": [
      {
       "output_type": "stream",
       "stream": "stdout",
       "text": [
        "1\n",
        "2\n",
        "3\n",
        "4\n"
       ]
      },
      {
       "output_type": "pyout",
       "prompt_number": 91,
       "text": [
        "(1, 2, 3, 4)"
       ]
      }
     ],
     "prompt_number": 91
    },
    {
     "cell_type": "code",
     "collapsed": false,
     "input": [
      "M = np.array([[1,2], [3,4]])\n",
      "\n",
      "for row in M:\n",
      "    print \"row\", row\n",
      "    \n",
      "    for element in row:\n",
      "        print element"
     ],
     "language": "python",
     "metadata": {},
     "outputs": [
      {
       "output_type": "stream",
       "stream": "stdout",
       "text": [
        "row [1 2]\n",
        "1\n",
        "2\n",
        "row [3 4]\n",
        "3\n",
        "4\n"
       ]
      }
     ],
     "prompt_number": 92
    },
    {
     "cell_type": "code",
     "collapsed": false,
     "input": [
      "M = np.array([[1,2], [3,4]])\n",
      "\n",
      "for col in M.T:\n",
      "    print \"col\", col\n",
      "    \n",
      "    for element in col:\n",
      "        print element"
     ],
     "language": "python",
     "metadata": {},
     "outputs": [
      {
       "output_type": "stream",
       "stream": "stdout",
       "text": [
        "col [1 3]\n",
        "1\n",
        "3\n",
        "col [2 4]\n",
        "2\n",
        "4\n"
       ]
      }
     ],
     "prompt_number": 93
    },
    {
     "cell_type": "markdown",
     "metadata": {},
     "source": [
      "Pour obtenir les indices des \u00e9l\u00e9ments sur lesquels on it\u00e8re (par exemple, pour pouvoir les modifier en m\u00eame temps) on peut utiliser `enumerate` :"
     ]
    },
    {
     "cell_type": "code",
     "collapsed": false,
     "input": [
      "for row_idx, row in enumerate(M):\n",
      "    print \"row_idx\", row_idx, \"row\", row\n",
      "    \n",
      "    for col_idx, element in enumerate(row):\n",
      "        print \"col_idx\", col_idx, \"element\", element\n",
      "       \n",
      "        # update M: square each element\n",
      "        M[row_idx, col_idx] = element ** 2"
     ],
     "language": "python",
     "metadata": {},
     "outputs": [
      {
       "output_type": "stream",
       "stream": "stdout",
       "text": [
        "row_idx 0 row [1 2]\n",
        "col_idx 0 element 1\n",
        "col_idx 1 element 2\n",
        "row_idx 1 row [3 4]\n",
        "col_idx 0 element 3\n",
        "col_idx 1 element 4\n"
       ]
      }
     ],
     "prompt_number": 94
    },
    {
     "cell_type": "code",
     "collapsed": false,
     "input": [
      "a = [-1, 0, 2]\n",
      "for idx, x in enumerate(a):\n",
      "    print idx, x"
     ],
     "language": "python",
     "metadata": {},
     "outputs": [
      {
       "output_type": "stream",
       "stream": "stdout",
       "text": [
        "0 -1\n",
        "1 0\n",
        "2 2\n"
       ]
      }
     ],
     "prompt_number": 95
    },
    {
     "cell_type": "code",
     "collapsed": false,
     "input": [
      "# chaque \u00e9l\u00e9ment de M a maintenant \u00e9t\u00e9 \u00e9lev\u00e9 au carr\u00e9\n",
      "M"
     ],
     "language": "python",
     "metadata": {},
     "outputs": [
      {
       "output_type": "pyout",
       "prompt_number": 96,
       "text": [
        "array([[ 1,  4],\n",
        "       [ 9, 16]])"
       ]
      }
     ],
     "prompt_number": 96
    },
    {
     "cell_type": "markdown",
     "metadata": {},
     "source": [
      "## Fonctions *vectoris\u00e9es*\n",
      "\n",
      " * Comme on a int\u00e9r\u00eat \u00e0 \u00e9viter les boucles, on peut d\u00e9finir des fonctions sur des vecteurs\n",
      " * Il faut d'abord s'assurer que de telles fonctions puissent g\u00e9rer correctement des entr\u00e9es vectorielles :"
     ]
    },
    {
     "cell_type": "code",
     "collapsed": false,
     "input": [
      "def theta(x):\n",
      "    \"\"\"\n",
      "    Scalar implemenation of the Heaviside step function.\n",
      "    \"\"\"\n",
      "    if x >= 0:\n",
      "        return 1\n",
      "    else:\n",
      "        return 0"
     ],
     "language": "python",
     "metadata": {},
     "outputs": [],
     "prompt_number": 97
    },
    {
     "cell_type": "code",
     "collapsed": false,
     "input": [
      "theta(np.array([-3,-2,-1,0,1,2,3]))"
     ],
     "language": "python",
     "metadata": {},
     "outputs": [
      {
       "ename": "ValueError",
       "evalue": "The truth value of an array with more than one element is ambiguous. Use a.any() or a.all()",
       "output_type": "pyerr",
       "traceback": [
        "\u001b[0;31m---------------------------------------------------------------------------\u001b[0m\n\u001b[0;31mValueError\u001b[0m                                Traceback (most recent call last)",
        "\u001b[0;32m<ipython-input-98-9f05a1c5993f>\u001b[0m in \u001b[0;36m<module>\u001b[0;34m()\u001b[0m\n\u001b[0;32m----> 1\u001b[0;31m \u001b[0mtheta\u001b[0m\u001b[0;34m(\u001b[0m\u001b[0mnp\u001b[0m\u001b[0;34m.\u001b[0m\u001b[0marray\u001b[0m\u001b[0;34m(\u001b[0m\u001b[0;34m[\u001b[0m\u001b[0;34m-\u001b[0m\u001b[0;36m3\u001b[0m\u001b[0;34m,\u001b[0m\u001b[0;34m-\u001b[0m\u001b[0;36m2\u001b[0m\u001b[0;34m,\u001b[0m\u001b[0;34m-\u001b[0m\u001b[0;36m1\u001b[0m\u001b[0;34m,\u001b[0m\u001b[0;36m0\u001b[0m\u001b[0;34m,\u001b[0m\u001b[0;36m1\u001b[0m\u001b[0;34m,\u001b[0m\u001b[0;36m2\u001b[0m\u001b[0;34m,\u001b[0m\u001b[0;36m3\u001b[0m\u001b[0;34m]\u001b[0m\u001b[0;34m)\u001b[0m\u001b[0;34m)\u001b[0m\u001b[0;34m\u001b[0m\u001b[0m\n\u001b[0m",
        "\u001b[0;32m<ipython-input-97-5cd8eb6ce61c>\u001b[0m in \u001b[0;36mtheta\u001b[0;34m(x)\u001b[0m\n\u001b[1;32m      3\u001b[0m     \u001b[0mScalar\u001b[0m \u001b[0mimplemenation\u001b[0m \u001b[0mof\u001b[0m \u001b[0mthe\u001b[0m \u001b[0mHeaviside\u001b[0m \u001b[0mstep\u001b[0m \u001b[0mfunction\u001b[0m\u001b[0;34m.\u001b[0m\u001b[0;34m\u001b[0m\u001b[0m\n\u001b[1;32m      4\u001b[0m     \"\"\"\n\u001b[0;32m----> 5\u001b[0;31m     \u001b[0;32mif\u001b[0m \u001b[0mx\u001b[0m \u001b[0;34m>=\u001b[0m \u001b[0;36m0\u001b[0m\u001b[0;34m:\u001b[0m\u001b[0;34m\u001b[0m\u001b[0m\n\u001b[0m\u001b[1;32m      6\u001b[0m         \u001b[0;32mreturn\u001b[0m \u001b[0;36m1\u001b[0m\u001b[0;34m\u001b[0m\u001b[0m\n\u001b[1;32m      7\u001b[0m     \u001b[0;32melse\u001b[0m\u001b[0;34m:\u001b[0m\u001b[0;34m\u001b[0m\u001b[0m\n",
        "\u001b[0;31mValueError\u001b[0m: The truth value of an array with more than one element is ambiguous. Use a.any() or a.all()"
       ]
      }
     ],
     "prompt_number": 98
    },
    {
     "cell_type": "markdown",
     "metadata": {},
     "source": [
      " * erreur car la fonction `theta` n'a pas \u00e9t\u00e9 con\u00e7ue pour prendre des vecteurs en entr\u00e9e\n",
      "\n",
      " * on peut utiliser la fonction `vectorize` :"
     ]
    },
    {
     "cell_type": "code",
     "collapsed": false,
     "input": [
      "theta_vec = np.vectorize(theta)"
     ],
     "language": "python",
     "metadata": {},
     "outputs": [],
     "prompt_number": 99
    },
    {
     "cell_type": "code",
     "collapsed": false,
     "input": [
      "theta_vec(np.array([-3,-2,-1,0,1,2,3]))"
     ],
     "language": "python",
     "metadata": {},
     "outputs": [
      {
       "output_type": "pyout",
       "prompt_number": 100,
       "text": [
        "array([0, 0, 0, 1, 1, 1, 1])"
       ]
      }
     ],
     "prompt_number": 100
    },
    {
     "cell_type": "markdown",
     "metadata": {},
     "source": [
      "Pour am\u00e9liorer les performances, il vaut mieux concevoir d\u00e8s le d\u00e9part la fonction de sorte qu'elle accepte des vecteurs en entr\u00e9e :"
     ]
    },
    {
     "cell_type": "code",
     "collapsed": false,
     "input": [
      "def theta(x):\n",
      "    \"\"\"\n",
      "    Vector-aware implementation of the Heaviside step function.\n",
      "    \"\"\"    \n",
      "    return 1 * (x >= 0)"
     ],
     "language": "python",
     "metadata": {},
     "outputs": [],
     "prompt_number": 101
    },
    {
     "cell_type": "code",
     "collapsed": false,
     "input": [
      "theta(np.array([-3,-2,-1,0,1,2,3]))"
     ],
     "language": "python",
     "metadata": {},
     "outputs": [
      {
       "output_type": "pyout",
       "prompt_number": 102,
       "text": [
        "array([0, 0, 0, 1, 1, 1, 1])"
       ]
      }
     ],
     "prompt_number": 102
    },
    {
     "cell_type": "code",
     "collapsed": false,
     "input": [
      "# toujours adapt\u00e9 \u00e0 des scalaires\n",
      "theta(-1.2), theta(2.6)"
     ],
     "language": "python",
     "metadata": {},
     "outputs": [
      {
       "output_type": "pyout",
       "prompt_number": 103,
       "text": [
        "(0, 1)"
       ]
      }
     ],
     "prompt_number": 103
    },
    {
     "cell_type": "markdown",
     "metadata": {},
     "source": [
      "## Utilisation d'*arrays* dans des conditions\n",
      "\n",
      "Losqu'on s'int\u00e9resse \u00e0 des conditions sur tout on une partie d'un *array*, on peut utiliser `any` ou `all` :"
     ]
    },
    {
     "cell_type": "code",
     "collapsed": false,
     "input": [
      "M"
     ],
     "language": "python",
     "metadata": {},
     "outputs": [
      {
       "output_type": "pyout",
       "prompt_number": 104,
       "text": [
        "array([[ 1,  4],\n",
        "       [ 9, 16]])"
       ]
      }
     ],
     "prompt_number": 104
    },
    {
     "cell_type": "code",
     "collapsed": false,
     "input": [
      "if (M > 5).any():\n",
      "    print \"au moins un \u00e9l\u00e9ment de M est plus grand que 5\"\n",
      "else:\n",
      "    print \"aucun \u00e9l\u00e9ment de M n'est plus grand que 5\""
     ],
     "language": "python",
     "metadata": {},
     "outputs": [
      {
       "output_type": "stream",
       "stream": "stdout",
       "text": [
        "au moins un \u00e9l\u00e9ment de M est plus grand que 5\n"
       ]
      }
     ],
     "prompt_number": 105
    },
    {
     "cell_type": "code",
     "collapsed": false,
     "input": [
      "if (M > 5).all():\n",
      "    print \"tous les \u00e9l\u00e9ments de M sont plus grands que 5\"\n",
      "else:\n",
      "    print \"tous les \u00e9l\u00e9ments de M sont plus petits que 5\""
     ],
     "language": "python",
     "metadata": {},
     "outputs": [
      {
       "output_type": "stream",
       "stream": "stdout",
       "text": [
        "tous les \u00e9l\u00e9ments de M sont plus petits que 5\n"
       ]
      }
     ],
     "prompt_number": 106
    },
    {
     "cell_type": "markdown",
     "metadata": {},
     "source": [
      "## *Type casting*\n",
      "\n",
      "On peut cr\u00e9er une vue d'un autre type que l'original pour un *array*"
     ]
    },
    {
     "cell_type": "code",
     "collapsed": false,
     "input": [
      "M = np.array([[-1,2], [0,4]])\n",
      "M.dtype"
     ],
     "language": "python",
     "metadata": {},
     "outputs": [
      {
       "output_type": "pyout",
       "prompt_number": 107,
       "text": [
        "dtype('int32')"
       ]
      }
     ],
     "prompt_number": 107
    },
    {
     "cell_type": "code",
     "collapsed": false,
     "input": [
      "M2 = M.astype(float)\n",
      "M2"
     ],
     "language": "python",
     "metadata": {},
     "outputs": [
      {
       "output_type": "pyout",
       "prompt_number": 108,
       "text": [
        "array([[-1.,  2.],\n",
        "       [ 0.,  4.]])"
       ]
      }
     ],
     "prompt_number": 108
    },
    {
     "cell_type": "code",
     "collapsed": false,
     "input": [
      "M2.dtype"
     ],
     "language": "python",
     "metadata": {},
     "outputs": [
      {
       "output_type": "pyout",
       "prompt_number": 109,
       "text": [
        "dtype('float64')"
       ]
      }
     ],
     "prompt_number": 109
    },
    {
     "cell_type": "code",
     "collapsed": false,
     "input": [
      "M3 = M.astype(bool)\n",
      "M3"
     ],
     "language": "python",
     "metadata": {},
     "outputs": [
      {
       "output_type": "pyout",
       "prompt_number": 110,
       "text": [
        "array([[ True,  True],\n",
        "       [False,  True]], dtype=bool)"
       ]
      }
     ],
     "prompt_number": 110
    },
    {
     "cell_type": "markdown",
     "metadata": {},
     "source": [
      "## Pour aller plus loin\n",
      "\n",
      "* http://numpy.scipy.org\n",
      "* http://scipy.org/Tentative_NumPy_Tutorial\n",
      "* http://scipy.org/NumPy_for_Matlab_Users - Un guide pour les utilisateurs de MATLAB."
     ]
    },
    {
     "cell_type": "code",
     "collapsed": false,
     "input": [],
     "language": "python",
     "metadata": {},
     "outputs": []
    }
   ],
   "metadata": {}
  }
 ]
}