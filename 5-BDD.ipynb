{
 "metadata": {
  "name": "5-BDD"
 },
 "nbformat": 3,
 "nbformat_minor": 0,
 "worksheets": [
  {
   "cells": [
    {
     "cell_type": "markdown",
     "metadata": {},
     "source": [
      "# Bases de donn\u00e9es en python\n",
      "\n",
      "    Beno\u00eet Petitpas : benoit.petitpas@telecom-paristech.fr\n"
     ]
    },
    {
     "cell_type": "heading",
     "level": 1,
     "metadata": {},
     "source": [
      "Introduction"
     ]
    },
    {
     "cell_type": "markdown",
     "metadata": {},
     "source": [
      "Dans ce cours nous allons trait\u00e9 des diff\u00e9rentes mani\u00e8res d'agir sur des bases de donn\u00e9es avec Python. \n",
      "Il existe de nombreux logiciels de gestion de bases de donn\u00e9es relationnelles sur le march\u00e9 comme postgresql, mysql, sqlite ... une base de donn\u00e9es relationnelle se g\u00e8re via du SQL, le langage de requete de bases de donn\u00e9es. \n",
      "Nous allons donc dans ce cours \u00e9tudier cette gestion de bases de donn\u00e9es, mais au lieu d'utiliser des SGBD (syst\u00e8me de gestion de bases de donn\u00e9es), nous allons pr\u00e9f\u00e9rer g\u00e9rer les bases via Python. \n",
      "De nombreuses biblioth\u00e8ques de fonctions ont \u00e9t\u00e9 d\u00e9velopp\u00e9 pour interfacer du code python avec les diff\u00e9rents SGBD. \n",
      "Ainsi par exemple psycopg est un paquet Python permettant de g\u00e9rer une base de donn\u00e9es Postgresql en Python. \n",
      "Dans ce cours nous allons utiliser sqlite. Sqlite est un SGBD \u00e9crit en C qui sauvegarde la base sous forme d'un fichier multi-plateforme. \n",
      "Sqlite est souvent le moyen le plus rapide et le plus simple de g\u00e9rer une base de donn\u00e9es, et comme python aime la simplicit\u00e9 il existe un paquet standard python pour faire l'interface entre python et sqlite."
     ]
    },
    {
     "cell_type": "heading",
     "level": 3,
     "metadata": {},
     "source": [
      "Utilisons le module sqlite de python"
     ]
    },
    {
     "cell_type": "markdown",
     "metadata": {},
     "source": [
      "Nous devons tout d'abord importer le module sqlite3 (le 3 indiquant la version de sqlite.)"
     ]
    },
    {
     "cell_type": "code",
     "collapsed": false,
     "input": [
      "import sqlite3"
     ],
     "language": "python",
     "metadata": {},
     "outputs": [],
     "prompt_number": 5
    },
    {
     "cell_type": "heading",
     "level": 3,
     "metadata": {},
     "source": [
      "Se connecter \u00e0 la base de donn\u00e9es"
     ]
    },
    {
     "cell_type": "markdown",
     "metadata": {},
     "source": [
      "Le paquet sqlite3 contient la m\u00e9thode `sqlite3.connect` qui offre tous les services de connections une base de donn\u00e9es Sqlite"
     ]
    },
    {
     "cell_type": "code",
     "collapsed": false,
     "input": [
      "db_loc = sqlite3.connect('Notes.db')\n",
      "# cr\u00e9er ou ouvre un fichier nomm\u00e9 'Notes.db' qui doit donc se trouver dans le m\u00eame r\u00e9pertoire que l'endroit o\u00f9 python est lanc\u00e9 sinon :\n",
      "\n",
      "#db_far = sqlite3.connect('/path/to/the/good/folder/Notes.db')\n",
      "# ici deux bases sont cr\u00e9er, car aucune des deux n'\u00e9xiste\n",
      "\n",
      "db_ram = sqlite3.connect(':memory:')\n",
      "# Cette commande permet de cr\u00e9er une base de donn\u00e9e en RAM (aucun fichier ne sera cr\u00e9er, il s'agit de c\u00e9rer une base de donn\u00e9es virtuelle). \n",
      "#Cera permet notamment de v\u00e9rifier des commandes avant de les lancer sur une base de donn\u00e9es o\u00f9 les op\u00e9rations sont irr\u00e9versibles."
     ],
     "language": "python",
     "metadata": {},
     "outputs": [],
     "prompt_number": 10
    },
    {
     "cell_type": "markdown",
     "metadata": {},
     "source": [
      "Attention : n'oublier pas que vous ouvrer une connection avec un fichier, il est donc indispensable de fermer cette connection \u00e0 la fin."
     ]
    },
    {
     "cell_type": "code",
     "collapsed": false,
     "input": [
      "db_loc.close()\n",
      "db_ram.close()"
     ],
     "language": "python",
     "metadata": {},
     "outputs": [],
     "prompt_number": 9
    },
    {
     "cell_type": "heading",
     "level": 3,
     "metadata": {},
     "source": [
      "Cr\u00e9er et supprimer des tables"
     ]
    },
    {
     "cell_type": "markdown",
     "metadata": {},
     "source": [
      "Maintenant que la base est cr\u00e9er, il faut en construire l'ossature, c'est-\u00e0-dire les tables. Chaque table doit correspondre \u00e0 une entit\u00e9 r\u00e9el, par exemple la table '\u00e9l\u00e8ves' correspond \u00e0 toutes les infirmations n\u00e9cessaires \u00e0 la d\u00e9finition d'un \u00e9l\u00e8ve. Lorqu'une table est d\u00e9fini, on d\u00e9finit en m\u00eame temps le type et le nom de chaque champs, c'est-\u00e0-dire on d\u00e9finit chaque \u00e9l\u00e9ment d\u00e9crivant l'entit\u00e9. Par exemple, lors de la cr\u00e9ation de la table \u00e9l\u00e8ve, il faudra d\u00e9finir le champs 'nom' avec son type."
     ]
    },
    {
     "cell_type": "code",
     "collapsed": false,
     "input": [
      "cursor = db_loc.cursor()\n",
      "# cursor est un object auquel on passe les commandes SQL en vue d'\u00eatre execut\u00e9es."
     ],
     "language": "python",
     "metadata": {},
     "outputs": [],
     "prompt_number": 11
    },
    {
     "cell_type": "code",
     "collapsed": false,
     "input": [
      "cursor.execute('''CREATE TABLE eleve(\n",
      "            id INTEGER PRIMARY KEY,\n",
      "            nom TEXT,\n",
      "            first_name TEXT,\n",
      "            classe TEXT);''')\n",
      "# execute ne lance pas la commande\n",
      "# il est important de noter le champ 'id' de type nombre entier qui sert de clef primaire"
     ],
     "language": "python",
     "metadata": {},
     "outputs": [
      {
       "output_type": "pyout",
       "prompt_number": 23,
       "text": [
        "<sqlite3.Cursor at 0x22d6d50>"
       ]
      }
     ],
     "prompt_number": 23
    },
    {
     "cell_type": "markdown",
     "metadata": {},
     "source": [
      "La clef primaire d'une table dans une base de donn\u00e9es relationnelle sert d'identifiant unique \u00e0 une entit\u00e9. Par exemple, la clef primaire sert \u00e0 connaitre un unique \u00e9l\u00e8ve en particulier.\n",
      "Le nom est une tr\u00e8s mauvaise clef primaire car un m\u00eame nom peut \u00eatre partag\u00e9 par plus d'un \u00e9l\u00e8ve. \n",
      "Par habitude, un champ 'id' est souvent cr\u00e9er pour identifier chaque enregistrement de la table. "
     ]
    },
    {
     "cell_type": "code",
     "collapsed": false,
     "input": [
      "db_loc.commit()"
     ],
     "language": "python",
     "metadata": {},
     "outputs": [],
     "prompt_number": 24
    },
    {
     "cell_type": "markdown",
     "metadata": {},
     "source": [
      "la fonction 'commit' permet de 'lancer' la commande, c'est-\u00e0-dire que le commit permet de cr\u00e9er v\u00e9ritablement la table 'eleve' et de la sauvegarder dans 'Notes.db'.\n",
      "Attention \u00e0 ne jamais oublier de 'commit' vos commande car sinon rien ne se passera. "
     ]
    },
    {
     "cell_type": "code",
     "collapsed": false,
     "input": [
      "# Pour supprimer la table il suffit de :\n",
      "#cursor.execute('''DROP TABLE eleve;''')\n",
      "#db_loc.commit()"
     ],
     "language": "python",
     "metadata": {},
     "outputs": [],
     "prompt_number": 25
    },
    {
     "cell_type": "markdown",
     "metadata": {},
     "source": [
      "Attention : la commande 'commit' est une fonction de 'bd_loc' et non de 'cursor'."
     ]
    },
    {
     "cell_type": "heading",
     "level": 3,
     "metadata": {},
     "source": [
      "Ins\u00e9rer des donn\u00e9es dnas la table"
     ]
    },
    {
     "cell_type": "code",
     "collapsed": false,
     "input": [
      "cursor.execute('''INSERT INTO eleve VALUES (1, 'Petitpas', 'Benoit', '4ieme3');''')"
     ],
     "language": "python",
     "metadata": {},
     "outputs": [
      {
       "output_type": "pyout",
       "prompt_number": 26,
       "text": [
        "<sqlite3.Cursor at 0x22d6d50>"
       ]
      }
     ],
     "prompt_number": 26
    },
    {
     "cell_type": "markdown",
     "metadata": {},
     "source": [
      "Chaque ajout de donn\u00e9es passera par le mot clef SQL \"INSERT INTO\" suivi du nom de la table dans laquelle vous voulez ajouter des donn\u00e9es. Suit alors le mot clef \"VALUES\" suivi des valeurs \u00e0 ajouter en v\u00e9rifiant que le type est le bon."
     ]
    },
    {
     "cell_type": "code",
     "collapsed": false,
     "input": [
      "cursor.execute('''INSERT INTO eleve VALUES (\"TOTO\", \"BLIP\", \"blop\", \"wizzz\");''')"
     ],
     "language": "python",
     "metadata": {},
     "outputs": [
      {
       "ename": "IntegrityError",
       "evalue": "datatype mismatch",
       "output_type": "pyerr",
       "traceback": [
        "\u001b[0;31m---------------------------------------------------------------------------\u001b[0m\n\u001b[0;31mIntegrityError\u001b[0m                            Traceback (most recent call last)",
        "\u001b[0;32m<ipython-input-52-a4ff19d72764>\u001b[0m in \u001b[0;36m<module>\u001b[0;34m()\u001b[0m\n\u001b[0;32m----> 1\u001b[0;31m \u001b[0mcursor\u001b[0m\u001b[0;34m.\u001b[0m\u001b[0mexecute\u001b[0m\u001b[0;34m(\u001b[0m\u001b[0;34m'''INSERT INTO eleve VALUES (\"TOTO\", \"BLIP\", \"blop\", \"wizzz\");'''\u001b[0m\u001b[0;34m)\u001b[0m\u001b[0;34m\u001b[0m\u001b[0m\n\u001b[0m",
        "\u001b[0;31mIntegrityError\u001b[0m: datatype mismatch"
       ]
      }
     ],
     "prompt_number": 52
    },
    {
     "cell_type": "code",
     "collapsed": false,
     "input": [
      "db_loc.commit()"
     ],
     "language": "python",
     "metadata": {},
     "outputs": [],
     "prompt_number": 16
    },
    {
     "cell_type": "markdown",
     "metadata": {},
     "source": [
      "Un \u00e9l\u00e8ve a \u00e9t\u00e9 ajout\u00e9 \u00e0 la table. Maintenant comment faire pour ajouter des donn\u00e9es de mani\u00e8re plus subtil :"
     ]
    },
    {
     "cell_type": "code",
     "collapsed": false,
     "input": [
      "name = \"Pignon\"\n",
      "first_name = \"Francois\"\n",
      "classe = \"4ieme3\"\n",
      "\n",
      "cursor.execute('''INSERT INTO eleve VALUES (?,?,?,?);''', (2, name, first_name, classe))\n",
      "# pourquoi cette formulation avec '?' plut\u00f4t que %s, \u00e0 cause de l'injection de SQL qui est une attaque \"classique\" des hackers see : http://xkcd.com/327/"
     ],
     "language": "python",
     "metadata": {},
     "outputs": [
      {
       "output_type": "pyout",
       "prompt_number": 27,
       "text": [
        "<sqlite3.Cursor at 0x22d6d50>"
       ]
      }
     ],
     "prompt_number": 27
    },
    {
     "cell_type": "markdown",
     "metadata": {},
     "source": [
      "Remarques : le pr\u00e9nom est francois au lieu de fran\u00e7ois, car le c c\u00e9dille n'est pas standard en sqlite, il aurait fallu pr\u00e9cis\u00e9 \u00e0 la cr\u00e9ation de la base le type utf8"
     ]
    },
    {
     "cell_type": "markdown",
     "metadata": {},
     "source": [
      "Maintenant comment faire des insert plus rapide ? "
     ]
    },
    {
     "cell_type": "code",
     "collapsed": false,
     "input": [
      "eleves = [(3, \"Hallyday\", \"Johnny\", \"5iemeB\"), (4, \"Mitchelle\", \"Eddy\", \"4ieme3\"), (5, \"Rivers\", \"Dick\", \"3ieme2\")]\n",
      "# liste de tuples contenant toutes les informations n\u00e9cessaires pour ajouter les \u00e9l\u00e8ves \u00e0 la base de donn\u00e9es\n",
      "cursor.executemany('''INSERT INTO eleve VALUES (?,?,?,?);''', eleves)"
     ],
     "language": "python",
     "metadata": {},
     "outputs": [
      {
       "output_type": "pyout",
       "prompt_number": 29,
       "text": [
        "<sqlite3.Cursor at 0x22d6d50>"
       ]
      }
     ],
     "prompt_number": 29
    },
    {
     "cell_type": "markdown",
     "metadata": {},
     "source": [
      "Et avec un dictionnaire ? "
     ]
    },
    {
     "cell_type": "code",
     "collapsed": false,
     "input": [
      "cursor.execute('''INSERT INTO eleve VALUES (:id,:name,:first_name,:classe);''',{'id':6,'name':\"Cobain\", \"first_name\":\"Kurt\",\"classe\":\"6ieme2\"})"
     ],
     "language": "python",
     "metadata": {},
     "outputs": [
      {
       "output_type": "pyout",
       "prompt_number": 31,
       "text": [
        "<sqlite3.Cursor at 0x22d6d50>"
       ]
      }
     ],
     "prompt_number": 31
    },
    {
     "cell_type": "markdown",
     "metadata": {},
     "source": [
      "Oui mais maintenant je veux ajouter une personne et j'ai perdu le fil du compte des id : "
     ]
    },
    {
     "cell_type": "code",
     "collapsed": false,
     "input": [
      "last_id = cursor.lastrowid # last_id contient le derni\u00e8re id ajout\u00e9\n",
      "print('le dernier id est : %s'%(last_id))"
     ],
     "language": "python",
     "metadata": {},
     "outputs": [
      {
       "output_type": "stream",
       "stream": "stdout",
       "text": [
        "le dernier id est : 6\n"
       ]
      }
     ],
     "prompt_number": 33
    },
    {
     "cell_type": "markdown",
     "metadata": {},
     "source": [
      "Evidemment c'est tr\u00e8s util pour ajouter automatiquement un nouvel \u00e9l\u00e8ve:\n"
     ]
    },
    {
     "cell_type": "code",
     "collapsed": false,
     "input": [
      "cursor.execute('''INSERT INTO eleve VALUES (?,?,?,?);''', ((cursor.lastrowid+1), \"Joplin\", \"Janice\", \"3ieme5\"))"
     ],
     "language": "python",
     "metadata": {},
     "outputs": [
      {
       "output_type": "pyout",
       "prompt_number": 34,
       "text": [
        "<sqlite3.Cursor at 0x22d6d50>"
       ]
      }
     ],
     "prompt_number": 34
    },
    {
     "cell_type": "code",
     "collapsed": false,
     "input": [
      "db_loc.commit()"
     ],
     "language": "python",
     "metadata": {},
     "outputs": [],
     "prompt_number": 35
    },
    {
     "cell_type": "heading",
     "level": 3,
     "metadata": {},
     "source": [
      "Acc\u00e9der aux donn\u00e9es"
     ]
    },
    {
     "cell_type": "markdown",
     "metadata": {},
     "source": [
      "Parce que oui, des donn\u00e9es ont \u00e9t\u00e9 ajout\u00e9es mais quelles sont-elles d\u00e9j\u00e0 ? \n",
      "Pour selectionner des donn\u00e9es, il faut utiliser la commande SQL \"SELECT\""
     ]
    },
    {
     "cell_type": "code",
     "collapsed": false,
     "input": [
      "cursor.execute('''SELECT * FROM eleve;''')\n",
      "first_eleve = cursor.fetchone() # r\u00e9cup\u00e8re le premier \u00e9l\u00e8ve\n",
      "print(first_eleve)"
     ],
     "language": "python",
     "metadata": {},
     "outputs": [
      {
       "output_type": "stream",
       "stream": "stdout",
       "text": [
        "(1, u'Petitpas', u'Benoit', u'4ieme3')\n"
       ]
      }
     ],
     "prompt_number": 36
    },
    {
     "cell_type": "code",
     "collapsed": false,
     "input": [
      "# le nom du premier \u00e9l\u00e8ve :\n",
      "print(first_eleve[1])\n"
     ],
     "language": "python",
     "metadata": {},
     "outputs": [
      {
       "output_type": "stream",
       "stream": "stdout",
       "text": [
        "Petitpas\n"
       ]
      }
     ],
     "prompt_number": 37
    },
    {
     "cell_type": "markdown",
     "metadata": {},
     "source": [
      "En effet la r\u00e9ponse est un tuple ! \n",
      "Pour afficher les information concernant le premier \u00e9l\u00e8ve :"
     ]
    },
    {
     "cell_type": "code",
     "collapsed": false,
     "input": [
      "print(\"Le premier eleve s'appelle : %s %s de la classe %s\"%(first_eleve[2],first_eleve[1],first_eleve[3]))\n",
      "# l'indice du tuple commence \u00e0 0 mais est r\u00e9serv\u00e9 \u00e0 l'id de l'enregistrement"
     ],
     "language": "python",
     "metadata": {},
     "outputs": [
      {
       "output_type": "stream",
       "stream": "stdout",
       "text": [
        "Le premier eleve s'appelle : Benoit Petitpas de la classe 4ieme3\n"
       ]
      }
     ],
     "prompt_number": 42
    },
    {
     "cell_type": "code",
     "collapsed": false,
     "input": [
      "# maintenant tous les \u00e9l\u00e8ves :\n",
      "cursor.execute('''SELECT * FROM eleve;''')\n",
      "eleves = cursor.fetchall()\n",
      "for eleve in eleves:\n",
      "    print(\"L'eleve n %s s'appelle : %s %s de la classe %s\"%(eleve[0],eleve[2],eleve[1],eleve[3]))\n",
      "    # eleve correspond \u00e0 un enregistrement de la table\n",
      "    # eleve[indice] correspond au champs correspondant de l'\u00e9l\u00e8ve en question"
     ],
     "language": "python",
     "metadata": {},
     "outputs": [
      {
       "output_type": "stream",
       "stream": "stdout",
       "text": [
        "L'eleve n 1 s'appelle : Benoit Petitpas de la classe 4ieme3\n",
        "L'eleve n 2 s'appelle : Francois Pignon de la classe 4ieme3\n",
        "L'eleve n 3 s'appelle : Johnny Hallyday de la classe 5iemeB\n",
        "L'eleve n 4 s'appelle : Eddy Mitchelle de la classe 4ieme3\n",
        "L'eleve n 5 s'appelle : Dick Rivers de la classe 3ieme2\n",
        "L'eleve n 6 s'appelle : Kurt Cobain de la classe 6ieme2\n",
        "L'eleve n 7 s'appelle : Janice Joplin de la classe 3ieme5\n"
       ]
      }
     ],
     "prompt_number": 59
    },
    {
     "cell_type": "markdown",
     "metadata": {},
     "source": [
      "Maintenant un peu de pratique du SQL :\n",
      "\n",
      "Pour selectionner des donn\u00e9es il faut imp\u00e9rativement le commande SQL \"SELECT\" suivi du ou des champs souhait\u00e9s. L'\u00e9toile correspondant \u00e0 l'ensemble des champs.\n",
      "Ensuite il faut obligatoirement le mote clef \"FROM\" suivi du nom de la table (lui dire d'o\u00f9 doivent provenir les donn\u00e9es)\n",
      "\n",
      "Maintenant il est possible de \"filtrer\" la selection.\n",
      "\n",
      "Si l'on veut l'ensemble des nom de famille uniquement, il s'agit d'un filtrage sur les champs :"
     ]
    },
    {
     "cell_type": "code",
     "collapsed": false,
     "input": [
      "eleves = cursor.execute('''SELECT nom FROM eleve;''')\n",
      "# ici le passage par un argument \u00e9vite le fetchall() mais les deux commandes sont \u00e9quivalentes\n",
      "for eleve in eleves:\n",
      "    print(eleve)"
     ],
     "language": "python",
     "metadata": {},
     "outputs": [
      {
       "output_type": "stream",
       "stream": "stdout",
       "text": [
        "(u'Petitpas',)\n",
        "(u'Pignon',)\n",
        "(u'Hallyday',)\n",
        "(u'Mitchelle',)\n",
        "(u'Rivers',)\n",
        "(u'Cobain',)\n",
        "(u'Joplin',)\n"
       ]
      }
     ],
     "prompt_number": 58
    },
    {
     "cell_type": "markdown",
     "metadata": {},
     "source": [
      "Maintenant je veux seulement les \u00e9l\u00e8ves de la 4ieme 3.\n",
      "\n",
      "L\u00e0, la selection se fait sur tous les champs mais \"o\u00f9\" la classe est \u00e9gale \u00e0 \"4ieme3\".\n",
      "\n",
      "Or le SQL ayant tendance \u00e0 \u00eatre simpliste le mot clef pour le filtrage des enregistrements est \"WHERE\":"
     ]
    },
    {
     "cell_type": "code",
     "collapsed": false,
     "input": [
      "eleves = cursor.execute('''SELECT * FROM eleve WHERE classe = \"4ieme3\";''')\n",
      "for eleve in eleves:\n",
      "    print(eleve)"
     ],
     "language": "python",
     "metadata": {},
     "outputs": [
      {
       "output_type": "stream",
       "stream": "stdout",
       "text": [
        "(1, u'Petitpas', u'Benoit', u'4ieme3')\n",
        "(2, u'Pignon', u'Francois', u'4ieme3')\n",
        "(4, u'Mitchelle', u'Eddy', u'4ieme3')\n"
       ]
      }
     ],
     "prompt_number": 60
    },
    {
     "cell_type": "markdown",
     "metadata": {},
     "source": [
      "On peut alors mixer les deux :"
     ]
    },
    {
     "cell_type": "code",
     "collapsed": false,
     "input": [
      "eleves = cursor.execute('''SELECT nom, classe FROM eleve WHERE id > 3;''')\n",
      "for eleve in eleves:\n",
      "    print(\"les eleves ayant un id superieur a 3 sont : %s de la classe %s\"%(eleve[0],eleve[1]))\n",
      "    # important, comme je ne s\u00e9lectionne que le nom et la classe le tuple de sorti n'a que 2 valeurs, ainsi le nom sera \u00e0 l'indice 0 et la classe \u00e0 l'indice 1"
     ],
     "language": "python",
     "metadata": {},
     "outputs": [
      {
       "output_type": "stream",
       "stream": "stdout",
       "text": [
        "les eleves ayant un id superieur a 3 sont : Mitchelle de la classe 4ieme3\n",
        "les eleves ayant un id superieur a 3 sont : Rivers de la classe 3ieme2\n",
        "les eleves ayant un id superieur a 3 sont : Cobain de la classe 6ieme2\n",
        "les eleves ayant un id superieur a 3 sont : Joplin de la classe 3ieme5\n"
       ]
      }
     ],
     "prompt_number": 64
    },
    {
     "cell_type": "markdown",
     "metadata": {},
     "source": [
      "Et si lors de s\u00e9l\u00e9ction, je m'aper\u00e7ois qu'une \u00e9rreur s'est gliss\u00e9 ?"
     ]
    },
    {
     "cell_type": "heading",
     "level": 3,
     "metadata": {},
     "source": [
      "Mettre \u00e0 jour et supprimer des enregistrements"
     ]
    },
    {
     "cell_type": "markdown",
     "metadata": {},
     "source": [
      "Les mots clefs que nous allons utiliser sont \"UPDATE\" et \"DELETE\""
     ]
    },
    {
     "cell_type": "code",
     "collapsed": false,
     "input": [
      "cursor.execute('''INSERT INTO eleve VALUES (?,?,?,?);''', (8, \"andrix\", \"gimi\", \"4ieme3\"))"
     ],
     "language": "python",
     "metadata": {},
     "outputs": [
      {
       "output_type": "pyout",
       "prompt_number": 69,
       "text": [
        "<sqlite3.Cursor at 0x22d6d50>"
       ]
      }
     ],
     "prompt_number": 69
    },
    {
     "cell_type": "code",
     "collapsed": false,
     "input": [
      "# Zut c'est Jimmy Hendrix\n",
      "cursor.execute('''UPDATE eleve SET nom = ?, first_name=? WHERE id = ? ''',(\"Hendrix\", \"Jimmy\", 8))"
     ],
     "language": "python",
     "metadata": {},
     "outputs": [
      {
       "output_type": "pyout",
       "prompt_number": 76,
       "text": [
        "<sqlite3.Cursor at 0x22d6d50>"
       ]
      }
     ],
     "prompt_number": 76
    },
    {
     "cell_type": "code",
     "collapsed": false,
     "input": [
      "# and now : \n",
      "cursor.execute('''SELECT first_name, nom, classe FROM eleve WHERE id == 8;''')\n",
      "eleve = cursor.fetchone()\n",
      "print(\"l'eleve ayant un id egal a 8 est : %s %s de la classe %s\"%(eleve[0],eleve[1], eleve[2]))"
     ],
     "language": "python",
     "metadata": {},
     "outputs": [
      {
       "output_type": "stream",
       "stream": "stdout",
       "text": [
        "l'eleve ayant un id egal a 8 est : Jimmy Hendrix de la classe 4ieme3\n"
       ]
      }
     ],
     "prompt_number": 79
    },
    {
     "cell_type": "markdown",
     "metadata": {},
     "source": [
      "On s'aper\u00e7oit que la mise est jour est assez classique :\n",
      "Juste apr\u00e8s le mot clef \"UPDATE\" on d\u00e9fini la table \u00e0 mettre \u00e0 jour.\n",
      "Ensuite vien le mot clef \"SET\" apr\u00e8s lequel on d\u00e9fini les champs \u00e0 mettre \u00e0 jour \n",
      "puis le mot clef where permettant de dire quel enregistrement doit \u00eatre mis \u00e0 jour."
     ]
    },
    {
     "cell_type": "markdown",
     "metadata": {},
     "source": [
      "Et la suppression ? C'est encore plus simple :\n"
     ]
    },
    {
     "cell_type": "code",
     "collapsed": false,
     "input": [
      "cursor.execute('''DELETE FROM eleve WHERE id = 8 ;''')"
     ],
     "language": "python",
     "metadata": {},
     "outputs": [
      {
       "output_type": "pyout",
       "prompt_number": 81,
       "text": [
        "<sqlite3.Cursor at 0x22d6d50>"
       ]
      }
     ],
     "prompt_number": 81
    },
    {
     "cell_type": "code",
     "collapsed": false,
     "input": [
      "# and now : \n",
      "cursor.execute('''SELECT first_name, nom, classe FROM eleve WHERE id == 8;''')\n",
      "eleve = cursor.fetchone()\n",
      "print(\"l'eleve ayant un id egal a 8 est : %s %s de la classe %s\"%(eleve[0],eleve[1], eleve[2]))"
     ],
     "language": "python",
     "metadata": {},
     "outputs": [
      {
       "ename": "TypeError",
       "evalue": "'NoneType' object has no attribute '__getitem__'",
       "output_type": "pyerr",
       "traceback": [
        "\u001b[0;31m---------------------------------------------------------------------------\u001b[0m\n\u001b[0;31mTypeError\u001b[0m                                 Traceback (most recent call last)",
        "\u001b[0;32m<ipython-input-82-5b81214501e6>\u001b[0m in \u001b[0;36m<module>\u001b[0;34m()\u001b[0m\n\u001b[1;32m      2\u001b[0m \u001b[0mcursor\u001b[0m\u001b[0;34m.\u001b[0m\u001b[0mexecute\u001b[0m\u001b[0;34m(\u001b[0m\u001b[0;34m'''SELECT first_name, nom, classe FROM eleve WHERE id == 8;'''\u001b[0m\u001b[0;34m)\u001b[0m\u001b[0;34m\u001b[0m\u001b[0m\n\u001b[1;32m      3\u001b[0m \u001b[0meleve\u001b[0m \u001b[0;34m=\u001b[0m \u001b[0mcursor\u001b[0m\u001b[0;34m.\u001b[0m\u001b[0mfetchone\u001b[0m\u001b[0;34m(\u001b[0m\u001b[0;34m)\u001b[0m\u001b[0;34m\u001b[0m\u001b[0m\n\u001b[0;32m----> 4\u001b[0;31m \u001b[0;32mprint\u001b[0m\u001b[0;34m(\u001b[0m\u001b[0;34m\"l'eleve ayant un id egal a 8 est : %s %s de la classe %s\"\u001b[0m\u001b[0;34m%\u001b[0m\u001b[0;34m(\u001b[0m\u001b[0meleve\u001b[0m\u001b[0;34m[\u001b[0m\u001b[0;36m0\u001b[0m\u001b[0;34m]\u001b[0m\u001b[0;34m,\u001b[0m\u001b[0meleve\u001b[0m\u001b[0;34m[\u001b[0m\u001b[0;36m1\u001b[0m\u001b[0;34m]\u001b[0m\u001b[0;34m,\u001b[0m \u001b[0meleve\u001b[0m\u001b[0;34m[\u001b[0m\u001b[0;36m2\u001b[0m\u001b[0;34m]\u001b[0m\u001b[0;34m)\u001b[0m\u001b[0;34m)\u001b[0m\u001b[0;34m\u001b[0m\u001b[0m\n\u001b[0m",
        "\u001b[0;31mTypeError\u001b[0m: 'NoneType' object has no attribute '__getitem__'"
       ]
      }
     ],
     "prompt_number": 82
    },
    {
     "cell_type": "markdown",
     "metadata": {},
     "source": [
      "On s'aper\u00e7oit qu'il n'y a plus d'enregistrement \u00e0 l'id 8 car l'enregistrement \u00e0 \u00e9t\u00e9 effac\u00e9. Ainsi DELETE est juste suivi de FROM et du nom de la table ainsi que d'un WHERE permettant de selectionner l'enregistrement \u00e0 supprimer."
     ]
    },
    {
     "cell_type": "markdown",
     "metadata": {},
     "source": [
      "\"et \u00e7a, \u00e7a fait quoi ? \" est la pire question \u00e0 se poser. N'executer jamais un test sur votre base de donn\u00e9es, utiliser une base de donn\u00e9es b\u00eate en RAM pour tester:"
     ]
    },
    {
     "cell_type": "code",
     "collapsed": false,
     "input": [
      "cursor.execute('''DELETE FROM eleve;''') \n",
      "# oui vous lisez bien, il n'a plus de where\n",
      "cursor.execute('''SELECT * FROM eleve ;''')\n",
      "eleve = cursor.fetchone()\n",
      "print(\"eleve ? %s\"%(eleve[0]))"
     ],
     "language": "python",
     "metadata": {},
     "outputs": [
      {
       "ename": "TypeError",
       "evalue": "'NoneType' object has no attribute '__getitem__'",
       "output_type": "pyerr",
       "traceback": [
        "\u001b[0;31m---------------------------------------------------------------------------\u001b[0m\n\u001b[0;31mTypeError\u001b[0m                                 Traceback (most recent call last)",
        "\u001b[0;32m<ipython-input-83-a807de1f8884>\u001b[0m in \u001b[0;36m<module>\u001b[0;34m()\u001b[0m\n\u001b[1;32m      3\u001b[0m \u001b[0mcursor\u001b[0m\u001b[0;34m.\u001b[0m\u001b[0mexecute\u001b[0m\u001b[0;34m(\u001b[0m\u001b[0;34m'''SELECT * FROM eleve ;'''\u001b[0m\u001b[0;34m)\u001b[0m\u001b[0;34m\u001b[0m\u001b[0m\n\u001b[1;32m      4\u001b[0m \u001b[0meleve\u001b[0m \u001b[0;34m=\u001b[0m \u001b[0mcursor\u001b[0m\u001b[0;34m.\u001b[0m\u001b[0mfetchone\u001b[0m\u001b[0;34m(\u001b[0m\u001b[0;34m)\u001b[0m\u001b[0;34m\u001b[0m\u001b[0m\n\u001b[0;32m----> 5\u001b[0;31m \u001b[0;32mprint\u001b[0m\u001b[0;34m(\u001b[0m\u001b[0;34m\"eleve ? %s\"\u001b[0m\u001b[0;34m%\u001b[0m\u001b[0;34m(\u001b[0m\u001b[0meleve\u001b[0m\u001b[0;34m[\u001b[0m\u001b[0;36m0\u001b[0m\u001b[0;34m]\u001b[0m\u001b[0;34m)\u001b[0m\u001b[0;34m)\u001b[0m\u001b[0;34m\u001b[0m\u001b[0m\n\u001b[0m",
        "\u001b[0;31mTypeError\u001b[0m: 'NoneType' object has no attribute '__getitem__'"
       ]
      }
     ],
     "prompt_number": 83
    },
    {
     "cell_type": "markdown",
     "metadata": {},
     "source": [
      "Voil\u00e0 ! Le contenu de la table a \u00e9t\u00e9 enti\u00e8rement supprim\u00e9 ! "
     ]
    },
    {
     "cell_type": "markdown",
     "metadata": {},
     "source": [
      "Bon bah il ne reste plus qu'\u00e0 tout recommencer ou alors \u00e0 supprimer la table. Supprimons la table !"
     ]
    },
    {
     "cell_type": "code",
     "collapsed": false,
     "input": [
      "cursor.execute('''DROP TABLE eleve; ''')"
     ],
     "language": "python",
     "metadata": {},
     "outputs": [
      {
       "output_type": "pyout",
       "prompt_number": 84,
       "text": [
        "<sqlite3.Cursor at 0x22d6d50>"
       ]
      }
     ],
     "prompt_number": 84
    },
    {
     "cell_type": "code",
     "collapsed": false,
     "input": [
      "db_loc.commit()"
     ],
     "language": "python",
     "metadata": {},
     "outputs": [],
     "prompt_number": 85
    },
    {
     "cell_type": "markdown",
     "metadata": {},
     "source": [
      "Si jamais une erreur a \u00e9t\u00e9 commise et avant un \"commit\" qui est DEFINITIF, il est possible de r\u00e9cup\u00e9rer les informations depusi le dernier \"commit\" avec la commande \"db_loc.rollback()\""
     ]
    },
    {
     "cell_type": "code",
     "collapsed": false,
     "input": [
      "db_loc.close()\n",
      "db_ram.close()"
     ],
     "language": "python",
     "metadata": {},
     "outputs": [],
     "prompt_number": 86
    },
    {
     "cell_type": "heading",
     "level": 1,
     "metadata": {},
     "source": [
      "R\u00e9capitulatif SQL :"
     ]
    },
    {
     "cell_type": "markdown",
     "metadata": {},
     "source": [
      "* Tous les noms a chang\u00e9s seront marqu\u00e9s entre des di\u00e8ses ##\n",
      "\n",
      "* Connection : #nom_base_de_donnees# = sqlite3.connect(#':memory:' ou 'nom_db.db'#)\n",
      "\n",
      "* Toujours passer par un \"cursor\" pour lancer des commandes SQL \n",
      "\n",
      "* Cr\u00e9er une table : ''' CREATE TABLE #nom_table# ( #nom_champs#   #TYPE_champs#    #PRIMARY KEY# , ...); '''\n",
      "\n",
      "* Ins\u00e9rer des donn\u00e9es dans la table : '''INSERT INTO #nom_table# VALUES (#valeur ou ?#);''', #si ? alors mettre ici la valeur correspondante#\n",
      "\n",
      "* S\u00e9lection des donn\u00e9es : '''SELECT #nom_champs ou *#  FROM #nom_table# WHERE #comparaison pour filtrage des enregistrements#;'''\n"
     ]
    },
    {
     "cell_type": "heading",
     "level": 2,
     "metadata": {},
     "source": [
      "Exercice \n"
     ]
    },
    {
     "cell_type": "markdown",
     "metadata": {},
     "source": [
      "Cr\u00e9er une base de donn\u00e9e SQLite nomm\u00e9 \"Musicien.db\"\n",
      "\n",
      "Dans cette base cr\u00e9er une table \"musicien\" ayant pour champs :\n",
      "\n",
      "* id de type INTEGER (clef primaire)\n",
      "* nom de type TEXT\n",
      "* age de type INTEGER\n",
      "* instrument de type TEXT\n",
      "\n"
     ]
    },
    {
     "cell_type": "markdown",
     "metadata": {},
     "source": [
      "Dans cette table, vous allez cr\u00e9er 5 musiciens :\n",
      "\n",
      "* Joe Satriani de 40 ans jouant de la guitare\n",
      "* Jimmy Page de 60 ans jouant de la guitare\n",
      "* Lars Ulrich 50 ans jouant de la batterie\n",
      "* Flea 52 ans jouant de la basse\n",
      "* John Coltrane jouant du saxophone (John coltrane \u00e9tant mort, on ne met pas d'age)\n",
      "\n",
      "Ajouter 5 autres musiciens (potentiellement fictif, du moment qu'il joue l'un des instruments ci-dessus)"
     ]
    },
    {
     "cell_type": "markdown",
     "metadata": {},
     "source": [
      "Ecriver la commande SQL qui selectionne :\n",
      "\n",
      "* tous les musiciens\n",
      "* les guitaristes\n",
      "* les musiciens de plus de 50 ans"
     ]
    },
    {
     "cell_type": "raw",
     "metadata": {},
     "source": [
      "To do :\n",
      "\n",
      "\n",
      "Faire l'exemple de fichier csv plus rapidmeent parcouru quer par base que par lecture fichier\n",
      "\n",
      "\n",
      "+ \n",
      "\n",
      "\n",
      "\n",
      "Laius d'intro :\n",
      "\n",
      "\n",
      "\n",
      "Notion des ann\u00e9es 60. Mais mod\u00e8le relationnel en 70 et SGBD en 80.\n",
      "\n",
      "Le mod\u00e8le relationnel a \u00e9t\u00e9 formalis\u00e9 en par CODD => Simple (Th\u00e9orie des ensembles) avec les op\u00e9rateurs de l\u2019alg\u00e8bre relationnel (l'union, la diff\u00e9rence, produit cart\u00e9sien, la projection, la s\u00e9lection, le quotient et la jointure)\n",
      "\n",
      "Exples de SGBD relationnel\u00a0: historiquement il \u00e9taient 5 : Oracle, DB2 (IBM), INGRES, INFORMIX, SYBASE\n",
      "Classement 2002 (selon leur CA 2002) :\n",
      "1. IBM (36%) DB2 d\u00e9velopp\u00e9 en interne et mis sur le march\u00e9 en 1984.et Informix (St\u00e9 cr\u00e9\u00e9e en 1981) rachet\u00e9 en 2001.\n",
      "2. Oracle (34%) St\u00e9 cr\u00e9\u00e9e en 1977\n",
      "3. Microsoft (18%) 3SGBD : SQL Server (gros syst\u00e8me) , Access depuis 1992 (bureautique) et Visual Foxpro (pour les d\u00e9veloppeurs)\n",
      "\u2026 Sybase (<3%)\n",
      "\n",
      "Il y a aussi : \n",
      "Mysql (BD opensource http://www.mysql.com) : la v4.1 (2004) apporte le support des extensions spatiales (SIG), sous-requ\u00eates (selects imbriqu\u00e9s)\n",
      "PostgreSQL : postgreSQL 8 beta 5 en 2004 : http://www.postgresql.org/\n",
      "Filemaker 8 :  SGBD bureautique\n",
      "Disparus : dbase (le plus utilis\u00e9 en 1980/90) et paradox\n",
      "\n",
      "Base de donn\u00e9es : C'est un ensemble d\u2019informations structur\u00e9es persistant.\n",
      "Autres caract\u00e9ristiques : Exhaustivit\u00e9 (toutes les infos requises pour le service que l'on attend) et Unicit\u00e9 (pas de doublons)\n",
      "(l'anc\u00eatre c'est les fiches et le fichier manuel : limites = le tri\u2026)\n",
      "\n",
      "SGBD : Qu'est-ce que c'est ? C'est un logiciel qui g\u00e8re une BD\n",
      "Autre d\u00e9finition plus pr\u00e9cise :\n",
      "Un logiciel permettant de d\u00e9crire et d'interagir avec un ensemble d'informations structur\u00e9es pour satisfaire les besoins de plusieurs utilisateurs (en m\u00eame temps \u00e9ventuellement).\n",
      "\n",
      "Table : C'est une entit\u00e9 (semblable \u00e0 un tableau) regroupant des caract\u00e9ristiques exhaustives (sur un sujet donn\u00e9). Les informations sont rang\u00e9s dans la table Toutes les donn\u00e9es d'une m\u00eame colonne sont du m\u00eame type. \n",
      "\n",
      "=> Puis donner exemple LIGNE / COLONNE en montrant que les informations peuvent aussi \u00eatre pr\u00e9sent\u00e9es sous la forme d'un tableau\n",
      "\n",
      "\n",
      "Vocabulaire : \n",
      "TABLE compos\u00e9e de CHAMPS (ou ATTRIBUTS/RUBRIQUES) \u2013 C'est simple, il n'y a qu'un type d'objet principal : LA TABLE\n",
      "Une table est la structure enveloppante dans laquelle seront stock\u00e9es les donn\u00e9es au format sp\u00e9cifi\u00e9.\n",
      "CHAMP : NOM_CHAMP TYPE [LONGUEUR] \n",
      "Je d\u00e9marre le sch\u00e9ma en cr\u00e9ant une entit\u00e9 personne vide de champs, puis aux \u00e9tudiants de poursuivre.\n",
      "\n",
      "On va plus loin et on am\u00e9liore comme avec par exple la compta : On aurait pu mettre salaire dans PERSONNE, mais on pourrait aussi mettre poste dans COMPTA (que l'on renommerait CARRIERE) si l'on veut historiser.\n",
      "\n",
      "R\u00e8gle : Si >= 2 occurrences (valeurs) => on externalise le champ En bref,\n",
      "1. cr\u00e9ation d'entit\u00e9s (avec cl\u00e9 primaire)\n",
      "2. externalisation de champs\n",
      "3. tables de r\u00e9f\u00e9rences (listes dynamiques) et listes statiques\n",
      "\n",
      "Puis montrer que dans le sch\u00e9ma physique d'un SGBD-R, il n'y a que tables et pas de liens (ils sont virtuels) contrairement aux mod\u00e8les pr\u00e9c\u00e9dents (hi\u00e9rarchique et r\u00e9seau).\n",
      "\n",
      "Autres Probl\u00e8mes rencontr\u00e9s : Homonymie,  Redondance (contre le principe d'unicit\u00e9) , erreurs de saisie \n",
      "\n",
      "Les services d'un SGBD :\n",
      "Toujours un seul type d'objet : la table \n",
      "Les liens sont logiques : ils n'ont pas besoins d'\u00eatre d\u00e9crits. Il suffit de les avoir pens\u00e9s et traduits avec des cl\u00e9s externes.\n",
      "1. Persistance : Disque Dur\n",
      "2. Gestion de disque : transparente - On s\u2019en fout\n",
      "3. Partage des donn\u00e9es : acc\u00e8s simultan\u00e9 \u00e0 la m\u00eame donn\u00e9e (Contr\u00f4le de concurrence)\n",
      "4. Fiabilit\u00e9 des donn\u00e9es : reprise sur panne - On s\u2019en fout aussi\n",
      "5. S\u00e9curit\u00e9 des donn\u00e9es : acc\u00e8s aux donn\u00e9es prot\u00e9g\u00e9 et s\u00e9lectif\n",
      "6. Interrogation ad hoc : Langage de requ\u00eate\n",
      "\n",
      "Les diff\u00e9rents mod\u00e8les :\n",
      "\n",
      "Hi\u00e9rarchique : arborescences.\n",
      "R\u00e9seau : Plus de connexions entre les \u00e9l\u00e9ments (pr\u00e9d\u00e9finies) -> Plus d'interrogations possibles.\n",
      "Relationnel : Le plus utilis\u00e9.\n",
      "Orient\u00e9 objet : CF savoir plus\n",
      "Relationnel \u00e9tendu : Types complexes, index spatiaux\u2026.\n",
      "\n",
      "Le mod\u00e8le Relationnel\n",
      "\n",
      "Introduit dans les ann\u00e9es 70.\n",
      "Concept : notion math\u00e9matique de relation (ou table)\n",
      "ADHERENT (NOM, PRENOM, DAT_NAIS)\n",
      "Vocabulaire : Un \u00e9l\u00e9ment d'une relation est appel\u00e9 ENREGISTREMENT (ou RECORD, TUPLE, N-UPLET)\n",
      "Langage d'interrogation : QUEL, QBE, SQL (normalis\u00e9).\n",
      "\n",
      "\n",
      "\n",
      "\n",
      "Savoir plus : Les SGBDOO\n",
      "Au carrefour de 3 domaines :\n",
      "Les mod\u00e8les \u00e0 objets structur\u00e9s\n",
      "Les mod\u00e8les s\u00e9mantiques\n",
      "La programmation orient\u00e9e objet.\n",
      "\n",
      "Il n'existe pas de mod\u00e8le unique mais plusieurs concepts :\n",
      "Objets et identificateurs d'objets\n",
      "Valeurs structur\u00e9es et types\n",
      "Classes\n",
      "M\u00e9thodes\n",
      "Hi\u00e9rarchie de sp\u00e9cialisation\n",
      "H\u00e9ritage\n",
      "Encapsulation\n",
      "\n",
      "\n",
      "4.2 Le Langage SQL (Structured Query Language)\n",
      "LDD  = Langage de d\u00e9finition (description) de donn\u00e9es (Structures = Tables)\n",
      "LMD = Langage de manipulation de donn\u00e9es (Donn\u00e9es)\n",
      "En fait, avec Access, nous ne verrons que 1 commande sur 8 : La consultation en LMD (+ update et delete), le reste sera vu via l'interface graphique.\n",
      "\n",
      "\n",
      "SELECT [DISTINCT] *|expression [as \"alias\"]\n",
      "                   [,expression [as \"alias\"]...]\n",
      "Attention ! utiliser des [ ]si plusieurs mots dans l'alias\n",
      "FROM nom_table1 [alias1]\n",
      "  [, nom_table2 [alias2]...]\n",
      "[WHERE condition logique]\n",
      "[GROUP BY col1 [,col2...] [HAVING condition]]\n",
      "[ORDER BY col1 [ASC|DESC] [,col2 [ASC|DESC]...]\n",
      " \n",
      " \n",
      " Comment peut \u00eatre constitu\u00e9e une expression ?\n",
      "D'un champ,\n",
      "d'op\u00e9rateurs arithm\u00e9tiques: +, -, * et /,\n",
      "de fonctions dont voici les principales : \n",
      "\n",
      "\tLes fonctions d'agr\u00e9gat : count(col ), avg(col), sum(col), min(col), max(col)\n",
      "\n",
      "\tLes fonctions sur les dates : weekday( ), day( ), month( ), year( ) : \n",
      "      => elles retournent un num\u00e9rique et attendent une date en param\u00e8tre\n",
      "\t\t\tnow( ) : date du jour au format 'dd/mm/yyyy hh24:mi:ss', \n",
      "\t\t\tdate( ) : date du jour et heure=00:00:00, \n",
      "\t\t\tformat(date, 'dd/mm/yyyy') : pour afficher une date selon un format donn\u00e9, \n",
      "\t\t\tdatediff('intervalle',date1,date2): diff\u00e9rence entre 2 dates; retourne un nombre.\n",
      "o\u00f9 Intervalle peut \u00eatre : yyyy : Year - q Quarter - m : Month - y : Day of year - d : Day - w : Weekday - ww : Week - h Hour : n Minute : s Second\n",
      "\t\t\texemple : datediff('d', date1, date2) \n",
      "Cet exemple peut aussi s'\u00e9crire date1 \u2013 date 2 \n",
      "\n",
      "\tUne fonction pour arrondir un nombre : round( )\n",
      "\n"
     ]
    },
    {
     "cell_type": "code",
     "collapsed": false,
     "input": [],
     "language": "python",
     "metadata": {},
     "outputs": []
    }
   ],
   "metadata": {}
  }
 ]
}