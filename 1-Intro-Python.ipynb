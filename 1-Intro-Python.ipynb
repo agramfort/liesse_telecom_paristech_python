{
 "metadata": {
  "name": "",
  "signature": "sha256:a106c7025e4366a5339ec3881b3ec164dc9510f9768e140028ad06d3bca93db7"
 },
 "nbformat": 3,
 "nbformat_minor": 0,
 "worksheets": [
  {
   "cells": [
    {
     "cell_type": "markdown",
     "metadata": {},
     "source": [
      "# Introduction \u00e0 Python\n",
      "\n",
      "    Alexandre Gramfort : alexandre.gramfort@telecom-paristech.fr\n",
      "    Slim Essid : slim.essid@telecom-paristech.fr\n",
      "\n",
      "adapt\u00e9 du travail de J.R. Johansson (robert@riken.jp) http://dml.riken.jp/~rob/"
     ]
    },
    {
     "cell_type": "markdown",
     "metadata": {},
     "source": [
      "## Installation\n",
      "\n",
      "### Linux\n",
      "\n",
      "Sous Ubuntu Linux:\n",
      "\n",
      "    $ sudo apt-get install python ipython ipython-notebook\n",
      "\n",
      "    $ sudo apt-get install python-numpy python-scipy python-matplotlib python-sympy\n",
      "\n",
      "    $ sudo apt-get install spyder\n",
      "\n",
      "### MacOS X\n",
      "\n",
      "* [Anaconda CE](http://continuum.io/downloads.html)\n",
      "* [Enthought Python Distribution](http://www.enthought.com/products/epd.php). EPD commercial mais gratuit pour une utilisation acad\u00e9mique.\n",
      "\n",
      "*Macports* : http://www.macports.org\n",
      "\n",
      "    $ sudo port install py27-ipython +pyside+notebook+parallel+scientific\n",
      "    \n",
      "    $ sudo port install py27-scipy py27-matplotlib py27-sympy\n",
      "    \n",
      "    $ sudo port install py27-spyder\n",
      "\n",
      "Pour choisir sa version de Python:\n",
      "\n",
      "    $ sudo port select python python27\n",
      "    \n",
      "    $ sudo port select ipython ipython27\n",
      "\n",
      "*Fink* : http://www.finkproject.org/\n",
      "\n",
      "    $ sudo fink install python27 ipython-py27 numpy-py27 matplotlib-py27 scipy-py27 sympy-py27\n",
      "    \n",
      "    $ sudo fink install spyder-mac-py27\n",
      "\n",
      "### Windows\n",
      "\n",
      " * [Python(x,y)](http://code.google.com/p/pythonxy/) (recommand\u00e9)\n",
      " * [Anaconda CE](http://continuum.io/downloads.html)\n",
      " * [Enthought Python Distribution](http://www.enthought.com/products/epd.php). EPD commercial mais gratuit pour une utilisation acad\u00e9mique.\n",
      "\n",
      "#### Remarque\n",
      "\n",
      "EPD et Anaconda CE sont aussi disponibles sous Linux"
     ]
    },
    {
     "cell_type": "markdown",
     "metadata": {},
     "source": [
      "## Lancer un programme Python\n",
      "\n",
      "* Un fichier python termine par \"`.py`\":\n",
      "\n",
      "        mon_programme.py\n",
      "\n",
      "* Toutes les lignes d'un fichier Python sont exc\u00e9cut\u00e9es sauf les lignes qui commencent par **`#` qui sont des commentaires**.\n",
      "\n",
      "* Pour lancer le programme depuis une ligne de commande ou un terminal:\n",
      "\n",
      "        $ python mon_programme.py\n",
      "\n",
      "* Sous UNIX (Linux / Mac OS) il est courant d'ajouter le chemin vers l'interpr\u00e9teur python sur la premi\u00e8re ligne du fichier:\n",
      "\n",
      "        #!/usr/bin/env python\n",
      "\n",
      "Cela permet de lancer un progamme directement:\n",
      "\n",
      "        $ mon_programme.py\n",
      "\n",
      "#### Exemple:"
     ]
    },
    {
     "cell_type": "code",
     "collapsed": false,
     "input": [
      "ls scripts/hello-world.py"
     ],
     "language": "python",
     "metadata": {},
     "outputs": [
      {
       "output_type": "stream",
       "stream": "stdout",
       "text": [
        "\u001b[31mscripts/hello-world.py\u001b[m\u001b[m*\r\n"
       ]
      }
     ],
     "prompt_number": 1
    },
    {
     "cell_type": "code",
     "collapsed": false,
     "input": [
      "cat scripts/hello-world.py"
     ],
     "language": "python",
     "metadata": {},
     "outputs": [
      {
       "output_type": "stream",
       "stream": "stdout",
       "text": [
        "#!/usr/bin/env python\r\n",
        "\r\n",
        "print(\"Hello world!\")\r\n"
       ]
      }
     ],
     "prompt_number": 2
    },
    {
     "cell_type": "code",
     "collapsed": false,
     "input": [
      "!./scripts/hello-world.py"
     ],
     "language": "python",
     "metadata": {},
     "outputs": [
      {
       "output_type": "stream",
       "stream": "stdout",
       "text": [
        "Hello world!\r\n"
       ]
      }
     ],
     "prompt_number": 3
    },
    {
     "cell_type": "markdown",
     "metadata": {},
     "source": [
      "Commencer une ligne par ! dans ipython permet de lancer une commande UNIX."
     ]
    },
    {
     "cell_type": "markdown",
     "metadata": {},
     "source": [
      "### L'interpr\u00e9teur Python (mode int\u00e9ractif)\n",
      "\n",
      "L'interpr\u00e9teur Python se lance avec la commande ``python``. Pour sortir taper `exit()` ou Ctrl+D\n",
      "\n",
      "<!-- <img src=\"files/images/python-screenshot.jpg\" width=\"600\"> -->\n",
      "<img src=\"https://raw.github.com/jrjohansson/scientific-python-lectures/master/images/python-screenshot.jpg\" width=\"600\">"
     ]
    },
    {
     "cell_type": "markdown",
     "metadata": {},
     "source": [
      "### IPython\n",
      "\n",
      "IPython est un shell interactif beaucoup plus avanc\u00e9.\n",
      "\n",
      "<!-- <img src=\"files/images/ipython-screenshot.jpg\" width=\"600\"> -->\n",
      "<img src=\"https://raw.github.com/jrjohansson/scientific-python-lectures/master/images/ipython-screenshot.jpg\" width=\"600\">\n",
      "\n",
      "Il permet notamment de:\n",
      "\n",
      "* m\u00e9moriser les commandes lanc\u00e9es pr\u00e9c\u00e9demment avec les fl\u00e8ches (haut et bas).\n",
      "* auto-compl\u00e9tion avec Tab.\n",
      "* \u00e9dition de code inline\n",
      "* acc\u00e8s simple \u00e0 la doc\n",
      "* debug"
     ]
    },
    {
     "cell_type": "markdown",
     "metadata": {},
     "source": [
      "Spyder\n",
      "------\n",
      "\n",
      "[Spyder](http://code.google.com/p/spyderlib/) est un IDE similaire \u00e0 MATLAB.\n",
      "\n",
      "<!-- <img src=\"files/images/spyder-screenshot.jpg\" width=\"800\"> -->\n",
      "<img src=\"https://raw.github.com/jrjohansson/scientific-python-lectures/master/images/spyder-screenshot.jpg\" width=\"800\">\n",
      "\n",
      "Les advantages de Spyder:\n",
      "\n",
      "* Bon \u00e9diteur (couleurs, int\u00e9gr\u00e9 avec le debugger).\n",
      "* Explorateur de variables, int\u00e9gration de IPython\n",
      "* Documentation int\u00e9gr\u00e9e."
     ]
    },
    {
     "cell_type": "markdown",
     "metadata": {},
     "source": [
      "IPython notebook\n",
      "----------------\n",
      "\n",
      "[IPython notebook](<http://ipython.org/ipython-doc/dev/interactive/htmlnotebook.html/) comme Mathematica ou Maple dans une page web.\n",
      "\n",
      "<!-- <img src=\"files/images/ipython-notebook-screenshot.jpg\" width=\"800\"> -->\n",
      "<img src=\"https://raw.github.com/jrjohansson/scientific-python-lectures/master/images/ipython-notebook-screenshot.jpg\" width=\"800\">\n",
      "\n",
      "Pour lancer ipython-notebook:\n",
      "\n",
      "    $ ipython notebook\n",
      "\n",
      "depuis un dossier o\u00f9 seront stock\u00e9s les notebooks (fichiers *.ipynb)"
     ]
    },
    {
     "cell_type": "markdown",
     "metadata": {},
     "source": [
      "## Les nombres"
     ]
    },
    {
     "cell_type": "code",
     "collapsed": false,
     "input": [
      "2 + 2 + 1 # commentaire"
     ],
     "language": "python",
     "metadata": {},
     "outputs": [
      {
       "metadata": {},
       "output_type": "pyout",
       "prompt_number": 4,
       "text": [
        "5"
       ]
      }
     ],
     "prompt_number": 4
    },
    {
     "cell_type": "code",
     "collapsed": false,
     "input": [
      "a = 4\n",
      "print a\n",
      "print type(a)"
     ],
     "language": "python",
     "metadata": {},
     "outputs": [
      {
       "output_type": "stream",
       "stream": "stdout",
       "text": [
        "4\n",
        "<type 'int'>\n"
       ]
      }
     ],
     "prompt_number": 5
    },
    {
     "cell_type": "markdown",
     "metadata": {},
     "source": [
      "Les noms de variable peuvent contenir `a-z`, `A-Z`, `0-9` et quelques caract\u00e8res sp\u00e9ciaux tels que `_` mais commencent toujours par une lettre. \n",
      "\n",
      "Par convention les noms de variables sont en minuscule.\n",
      "\n",
      "Quelques noms de variable ne sont pas autoris\u00e9s car d\u00e9j\u00e0 utilis\u00e9s par le langage:\n",
      "\n",
      "    and, as, assert, break, class, continue, def, del, elif, else, except, \n",
      "    exec, finally, for, from, global, if, import, in, is, lambda, not, or,\n",
      "    pass, print, raise, return, try, while, with, yield"
     ]
    },
    {
     "cell_type": "code",
     "collapsed": false,
     "input": [
      "int a = 1;  # in C"
     ],
     "language": "python",
     "metadata": {},
     "outputs": [
      {
       "ename": "SyntaxError",
       "evalue": "invalid syntax (<ipython-input-6-232418b2343a>, line 1)",
       "output_type": "pyerr",
       "traceback": [
        "\u001b[0;36m  File \u001b[0;32m\"<ipython-input-6-232418b2343a>\"\u001b[0;36m, line \u001b[0;32m1\u001b[0m\n\u001b[0;31m    int a = 1;  # in C\u001b[0m\n\u001b[0m        ^\u001b[0m\n\u001b[0;31mSyntaxError\u001b[0m\u001b[0;31m:\u001b[0m invalid syntax\n"
       ]
      }
     ],
     "prompt_number": 6
    },
    {
     "cell_type": "code",
     "collapsed": false,
     "input": [
      "c = 2.1  # nombre flottant\n",
      "print type(c)"
     ],
     "language": "python",
     "metadata": {},
     "outputs": [
      {
       "output_type": "stream",
       "stream": "stdout",
       "text": [
        "<type 'float'>\n"
       ]
      }
     ],
     "prompt_number": 7
    },
    {
     "cell_type": "code",
     "collapsed": false,
     "input": [
      "a = 1.5 + 0.5j  # nombre complexe\n",
      "print a.real\n",
      "print a.imag\n",
      "print 1j\n",
      "print a\n",
      "print a + 1j\n",
      "print 1j * 1j\n",
      "print type(a)"
     ],
     "language": "python",
     "metadata": {},
     "outputs": [
      {
       "output_type": "stream",
       "stream": "stdout",
       "text": [
        "1.5\n",
        "0.5\n",
        "1j\n",
        "(1.5+0.5j)\n",
        "(1.5+1.5j)\n",
        "(-1+0j)\n",
        "<type 'complex'>\n"
       ]
      }
     ],
     "prompt_number": 8
    },
    {
     "cell_type": "code",
     "collapsed": false,
     "input": [
      "type(1j * 1j)"
     ],
     "language": "python",
     "metadata": {},
     "outputs": [
      {
       "metadata": {},
       "output_type": "pyout",
       "prompt_number": 9,
       "text": [
        "complex"
       ]
      }
     ],
     "prompt_number": 9
    },
    {
     "cell_type": "code",
     "collapsed": false,
     "input": [
      "3 < 4  # bool"
     ],
     "language": "python",
     "metadata": {},
     "outputs": [
      {
       "metadata": {},
       "output_type": "pyout",
       "prompt_number": 10,
       "text": [
        "True"
       ]
      }
     ],
     "prompt_number": 10
    },
    {
     "cell_type": "code",
     "collapsed": false,
     "input": [
      "3 < 2"
     ],
     "language": "python",
     "metadata": {},
     "outputs": [
      {
       "metadata": {},
       "output_type": "pyout",
       "prompt_number": 11,
       "text": [
        "False"
       ]
      }
     ],
     "prompt_number": 11
    },
    {
     "cell_type": "code",
     "collapsed": false,
     "input": [
      "test = (3 > 4)\n",
      "print test"
     ],
     "language": "python",
     "metadata": {},
     "outputs": [
      {
       "output_type": "stream",
       "stream": "stdout",
       "text": [
        "False\n"
       ]
      }
     ],
     "prompt_number": 12
    },
    {
     "cell_type": "code",
     "collapsed": false,
     "input": [
      "type(test)"
     ],
     "language": "python",
     "metadata": {},
     "outputs": [
      {
       "metadata": {},
       "output_type": "pyout",
       "prompt_number": 13,
       "text": [
        "bool"
       ]
      }
     ],
     "prompt_number": 13
    },
    {
     "cell_type": "code",
     "collapsed": false,
     "input": [
      "print 7 * 3.  # int x float -> float\n",
      "print type(7 * 3.)"
     ],
     "language": "python",
     "metadata": {},
     "outputs": [
      {
       "output_type": "stream",
       "stream": "stdout",
       "text": [
        "21.0\n",
        "<type 'float'>\n"
       ]
      }
     ],
     "prompt_number": 14
    },
    {
     "cell_type": "code",
     "collapsed": false,
     "input": [
      "2 ** 10  # exposant. attention pas ^"
     ],
     "language": "python",
     "metadata": {},
     "outputs": [
      {
       "metadata": {},
       "output_type": "pyout",
       "prompt_number": 15,
       "text": [
        "1024"
       ]
      }
     ],
     "prompt_number": 15
    },
    {
     "cell_type": "code",
     "collapsed": false,
     "input": [
      "8 % 3  # reste de la division (modulo)"
     ],
     "language": "python",
     "metadata": {},
     "outputs": [
      {
       "metadata": {},
       "output_type": "pyout",
       "prompt_number": 16,
       "text": [
        "2"
       ]
      }
     ],
     "prompt_number": 16
    },
    {
     "cell_type": "markdown",
     "metadata": {},
     "source": [
      "Attention !"
     ]
    },
    {
     "cell_type": "code",
     "collapsed": false,
     "input": [
      "3 / 2  # int x int -> int"
     ],
     "language": "python",
     "metadata": {},
     "outputs": [
      {
       "metadata": {},
       "output_type": "pyout",
       "prompt_number": 17,
       "text": [
        "1"
       ]
      }
     ],
     "prompt_number": 17
    },
    {
     "cell_type": "code",
     "collapsed": false,
     "input": [
      "3 / 2.  # OK"
     ],
     "language": "python",
     "metadata": {},
     "outputs": [
      {
       "metadata": {},
       "output_type": "pyout",
       "prompt_number": 18,
       "text": [
        "1.5"
       ]
      }
     ],
     "prompt_number": 18
    },
    {
     "cell_type": "code",
     "collapsed": false,
     "input": [
      "3 // 2"
     ],
     "language": "python",
     "metadata": {},
     "outputs": [
      {
       "metadata": {},
       "output_type": "pyout",
       "prompt_number": 19,
       "text": [
        "1"
       ]
      }
     ],
     "prompt_number": 19
    },
    {
     "cell_type": "code",
     "collapsed": false,
     "input": [
      "a = 2\n",
      "3 / float(a)  # OK"
     ],
     "language": "python",
     "metadata": {},
     "outputs": [
      {
       "metadata": {},
       "output_type": "pyout",
       "prompt_number": 20,
       "text": [
        "1.5"
       ]
      }
     ],
     "prompt_number": 20
    },
    {
     "cell_type": "markdown",
     "metadata": {},
     "source": [
      "MAIS:"
     ]
    },
    {
     "cell_type": "code",
     "collapsed": false,
     "input": [
      "cos(2)"
     ],
     "language": "python",
     "metadata": {},
     "outputs": [
      {
       "ename": "NameError",
       "evalue": "name 'cos' is not defined",
       "output_type": "pyerr",
       "traceback": [
        "\u001b[0;31m---------------------------------------------------------------------------\u001b[0m\n\u001b[0;31mNameError\u001b[0m                                 Traceback (most recent call last)",
        "\u001b[0;32m<ipython-input-21-43abd96808db>\u001b[0m in \u001b[0;36m<module>\u001b[0;34m()\u001b[0m\n\u001b[0;32m----> 1\u001b[0;31m \u001b[0mcos\u001b[0m\u001b[0;34m(\u001b[0m\u001b[0;36m2\u001b[0m\u001b[0;34m)\u001b[0m\u001b[0;34m\u001b[0m\u001b[0m\n\u001b[0m",
        "\u001b[0;31mNameError\u001b[0m: name 'cos' is not defined"
       ]
      }
     ],
     "prompt_number": 21
    },
    {
     "cell_type": "markdown",
     "metadata": {},
     "source": [
      "## La biblioth\u00e8que standard et ses modules\n",
      "\n",
      " * Les fonctions Python sont organis\u00e9es par *modules*\n",
      " * Biblioth\u00e8que standard Python (*Python Standard Library*) : collection de modules donnant acc\u00e8s \u00e0 des fonctionnalit\u00e9s de bases : appels au syst\u00e8me d'exploitation, gestion des fichiers, gestion des cha\u00eenes de caract\u00e8res, interface r\u00e9seau, etc.\n",
      "\n",
      "### R\u00e9f\u00e9rences\n",
      " \n",
      " * The Python Language Reference: http://docs.python.org/2/reference/index.html\n",
      " * The Python Standard Library: http://docs.python.org/2/library/\n",
      "\n",
      "### Utilisation des modules\n",
      "\n",
      "* Un module doit \u00eatre *import\u00e9* avant de pouvoir \u00eatre utilis\u00e9, exemple :\n"
     ]
    },
    {
     "cell_type": "code",
     "collapsed": false,
     "input": [
      "import math"
     ],
     "language": "python",
     "metadata": {},
     "outputs": [],
     "prompt_number": 22
    },
    {
     "cell_type": "markdown",
     "metadata": {},
     "source": [
      " * Le module math peut maintenant \u00eatre utilis\u00e9 dans la suite du programme :"
     ]
    },
    {
     "cell_type": "code",
     "collapsed": false,
     "input": [
      "import math\n",
      "\n",
      "x = math.cos(2 * math.pi)\n",
      "\n",
      "print x"
     ],
     "language": "python",
     "metadata": {},
     "outputs": [
      {
       "output_type": "stream",
       "stream": "stdout",
       "text": [
        "1.0\n"
       ]
      }
     ],
     "prompt_number": 23
    },
    {
     "cell_type": "markdown",
     "metadata": {},
     "source": [
      "Ou bien en important que les fonctions dont on a besoin:"
     ]
    },
    {
     "cell_type": "code",
     "collapsed": false,
     "input": [
      "from math import cos, pi\n",
      "\n",
      "x = cos(2 * pi)\n",
      "\n",
      "print x"
     ],
     "language": "python",
     "metadata": {},
     "outputs": [
      {
       "output_type": "stream",
       "stream": "stdout",
       "text": [
        "1.0\n"
       ]
      }
     ],
     "prompt_number": 24
    },
    {
     "cell_type": "code",
     "collapsed": false,
     "input": [
      "from math import *\n",
      "tanh(1)"
     ],
     "language": "python",
     "metadata": {},
     "outputs": [
      {
       "metadata": {},
       "output_type": "pyout",
       "prompt_number": 25,
       "text": [
        "0.7615941559557649"
       ]
      }
     ],
     "prompt_number": 25
    },
    {
     "cell_type": "code",
     "collapsed": false,
     "input": [
      "import math as m\n",
      "print m.cos(1.)"
     ],
     "language": "python",
     "metadata": {},
     "outputs": [
      {
       "output_type": "stream",
       "stream": "stdout",
       "text": [
        "0.540302305868\n"
       ]
      }
     ],
     "prompt_number": 26
    },
    {
     "cell_type": "markdown",
     "metadata": {},
     "source": [
      "### Connaitre le contenu d'un module\n",
      "\n",
      " * Une fois un module import\u00e9 on peut lister les symboles disponibles avec la fonction `dir`:"
     ]
    },
    {
     "cell_type": "code",
     "collapsed": false,
     "input": [
      "import math\n",
      "\n",
      "print dir(math)"
     ],
     "language": "python",
     "metadata": {},
     "outputs": [
      {
       "output_type": "stream",
       "stream": "stdout",
       "text": [
        "['__doc__', '__file__', '__name__', '__package__', 'acos', 'acosh', 'asin', 'asinh', 'atan', 'atan2', 'atanh', 'ceil', 'copysign', 'cos', 'cosh', 'degrees', 'e', 'erf', 'erfc', 'exp', 'expm1', 'fabs', 'factorial', 'floor', 'fmod', 'frexp', 'fsum', 'gamma', 'hypot', 'isinf', 'isnan', 'ldexp', 'lgamma', 'log', 'log10', 'log1p', 'modf', 'pi', 'pow', 'radians', 'sin', 'sinh', 'sqrt', 'tan', 'tanh', 'trunc']\n"
       ]
      }
     ],
     "prompt_number": 27
    },
    {
     "cell_type": "markdown",
     "metadata": {},
     "source": [
      "* Pour acc\u00e9der \u00e0 l'aide : `help`"
     ]
    },
    {
     "cell_type": "code",
     "collapsed": false,
     "input": [
      "help(math.log)"
     ],
     "language": "python",
     "metadata": {},
     "outputs": [
      {
       "output_type": "stream",
       "stream": "stdout",
       "text": [
        "Help on built-in function log in module math:\n",
        "\n",
        "log(...)\n",
        "    log(x[, base])\n",
        "    \n",
        "    Return the logarithm of x to the given base.\n",
        "    If the base not specified, returns the natural logarithm (base e) of x.\n",
        "\n"
       ]
      }
     ],
     "prompt_number": 28
    },
    {
     "cell_type": "markdown",
     "metadata": {},
     "source": [
      " * Dans Spyder ou IPython, on peut faire:"
     ]
    },
    {
     "cell_type": "code",
     "collapsed": false,
     "input": [
      "math.log?"
     ],
     "language": "python",
     "metadata": {},
     "outputs": [],
     "prompt_number": 29
    },
    {
     "cell_type": "code",
     "collapsed": false,
     "input": [
      "math.log(10) "
     ],
     "language": "python",
     "metadata": {},
     "outputs": [
      {
       "metadata": {},
       "output_type": "pyout",
       "prompt_number": 30,
       "text": [
        "2.302585092994046"
       ]
      }
     ],
     "prompt_number": 30
    },
    {
     "cell_type": "code",
     "collapsed": false,
     "input": [
      "math.log(10, 2)"
     ],
     "language": "python",
     "metadata": {},
     "outputs": [
      {
       "metadata": {},
       "output_type": "pyout",
       "prompt_number": 31,
       "text": [
        "3.3219280948873626"
       ]
      }
     ],
     "prompt_number": 31
    },
    {
     "cell_type": "code",
     "collapsed": false,
     "input": [
      "math.ceil(2.5)"
     ],
     "language": "python",
     "metadata": {},
     "outputs": [
      {
       "metadata": {},
       "output_type": "pyout",
       "prompt_number": 32,
       "text": [
        "3.0"
       ]
      }
     ],
     "prompt_number": 32
    },
    {
     "cell_type": "markdown",
     "metadata": {},
     "source": [
      "* `help` peut \u00eatre aussi utilis\u00e9e sur des modules :"
     ]
    },
    {
     "cell_type": "code",
     "collapsed": true,
     "input": [
      "help(math)"
     ],
     "language": "python",
     "metadata": {},
     "outputs": [
      {
       "output_type": "stream",
       "stream": "stdout",
       "text": [
        "Help on module math:\n",
        "\n",
        "NAME\n",
        "    math\n",
        "\n",
        "FILE\n",
        "    /Applications/Canopy.app/appdata/canopy-1.2.0.1610.macosx-x86_64/Canopy.app/Contents/lib/python2.7/lib-dynload/math.so\n",
        "\n",
        "MODULE DOCS\n",
        "    http://docs.python.org/library/math\n",
        "\n",
        "DESCRIPTION\n",
        "    This module is always available.  It provides access to the\n",
        "    mathematical functions defined by the C standard.\n",
        "\n",
        "FUNCTIONS\n",
        "    acos(...)\n",
        "        acos(x)\n",
        "        \n",
        "        Return the arc cosine (measured in radians) of x.\n",
        "    \n",
        "    acosh(...)\n",
        "        acosh(x)\n",
        "        \n",
        "        Return the hyperbolic arc cosine (measured in radians) of x.\n",
        "    \n",
        "    asin(...)\n",
        "        asin(x)\n",
        "        \n",
        "        Return the arc sine (measured in radians) of x.\n",
        "    \n",
        "    asinh(...)\n",
        "        asinh(x)\n",
        "        \n",
        "        Return the hyperbolic arc sine (measured in radians) of x.\n",
        "    \n",
        "    atan(...)\n",
        "        atan(x)\n",
        "        \n",
        "        Return the arc tangent (measured in radians) of x.\n",
        "    \n",
        "    atan2(...)\n",
        "        atan2(y, x)\n",
        "        \n",
        "        Return the arc tangent (measured in radians) of y/x.\n",
        "        Unlike atan(y/x), the signs of both x and y are considered.\n",
        "    \n",
        "    atanh(...)\n",
        "        atanh(x)\n",
        "        \n",
        "        Return the hyperbolic arc tangent (measured in radians) of x.\n",
        "    \n",
        "    ceil(...)\n",
        "        ceil(x)\n",
        "        \n",
        "        Return the ceiling of x as a float.\n",
        "        This is the smallest integral value >= x.\n",
        "    \n",
        "    copysign(...)\n",
        "        copysign(x, y)\n",
        "        \n",
        "        Return x with the sign of y.\n",
        "    \n",
        "    cos(...)\n",
        "        cos(x)\n",
        "        \n",
        "        Return the cosine of x (measured in radians).\n",
        "    \n",
        "    cosh(...)\n",
        "        cosh(x)\n",
        "        \n",
        "        Return the hyperbolic cosine of x.\n",
        "    \n",
        "    degrees(...)\n",
        "        degrees(x)\n",
        "        \n",
        "        Convert angle x from radians to degrees.\n",
        "    \n",
        "    erf(...)\n",
        "        erf(x)\n",
        "        \n",
        "        Error function at x.\n",
        "    \n",
        "    erfc(...)\n",
        "        erfc(x)\n",
        "        \n",
        "        Complementary error function at x.\n",
        "    \n",
        "    exp(...)\n",
        "        exp(x)\n",
        "        \n",
        "        Return e raised to the power of x.\n",
        "    \n",
        "    expm1(...)\n",
        "        expm1(x)\n",
        "        \n",
        "        Return exp(x)-1.\n",
        "        This function avoids the loss of precision involved in the direct evaluation of exp(x)-1 for small x.\n",
        "    \n",
        "    fabs(...)\n",
        "        fabs(x)\n",
        "        \n",
        "        Return the absolute value of the float x.\n",
        "    \n",
        "    factorial(...)\n",
        "        factorial(x) -> Integral\n",
        "        \n",
        "        Find x!. Raise a ValueError if x is negative or non-integral.\n",
        "    \n",
        "    floor(...)\n",
        "        floor(x)\n",
        "        \n",
        "        Return the floor of x as a float.\n",
        "        This is the largest integral value <= x.\n",
        "    \n",
        "    fmod(...)\n",
        "        fmod(x, y)\n",
        "        \n",
        "        Return fmod(x, y), according to platform C.  x % y may differ.\n",
        "    \n",
        "    frexp(...)\n",
        "        frexp(x)\n",
        "        \n",
        "        Return the mantissa and exponent of x, as pair (m, e).\n",
        "        m is a float and e is an int, such that x = m * 2.**e.\n",
        "        If x is 0, m and e are both 0.  Else 0.5 <= abs(m) < 1.0.\n",
        "    \n",
        "    fsum(...)\n",
        "        fsum(iterable)\n",
        "        \n",
        "        Return an accurate floating point sum of values in the iterable.\n",
        "        Assumes IEEE-754 floating point arithmetic.\n",
        "    \n",
        "    gamma(...)\n",
        "        gamma(x)\n",
        "        \n",
        "        Gamma function at x.\n",
        "    \n",
        "    hypot(...)\n",
        "        hypot(x, y)\n",
        "        \n",
        "        Return the Euclidean distance, sqrt(x*x + y*y).\n",
        "    \n",
        "    isinf(...)\n",
        "        isinf(x) -> bool\n",
        "        \n",
        "        Check if float x is infinite (positive or negative).\n",
        "    \n",
        "    isnan(...)\n",
        "        isnan(x) -> bool\n",
        "        \n",
        "        Check if float x is not a number (NaN).\n",
        "    \n",
        "    ldexp(...)\n",
        "        ldexp(x, i)\n",
        "        \n",
        "        Return x * (2**i).\n",
        "    \n",
        "    lgamma(...)\n",
        "        lgamma(x)\n",
        "        \n",
        "        Natural logarithm of absolute value of Gamma function at x.\n",
        "    \n",
        "    log(...)\n",
        "        log(x[, base])\n",
        "        \n",
        "        Return the logarithm of x to the given base.\n",
        "        If the base not specified, returns the natural logarithm (base e) of x.\n",
        "    \n",
        "    log10(...)\n",
        "        log10(x)\n",
        "        \n",
        "        Return the base 10 logarithm of x.\n",
        "    \n",
        "    log1p(...)\n",
        "        log1p(x)\n",
        "        \n",
        "        Return the natural logarithm of 1+x (base e).\n",
        "        The result is computed in a way which is accurate for x near zero.\n",
        "    \n",
        "    modf(...)\n",
        "        modf(x)\n",
        "        \n",
        "        Return the fractional and integer parts of x.  Both results carry the sign\n",
        "        of x and are floats.\n",
        "    \n",
        "    pow(...)\n",
        "        pow(x, y)\n",
        "        \n",
        "        Return x**y (x to the power of y).\n",
        "    \n",
        "    radians(...)\n",
        "        radians(x)\n",
        "        \n",
        "        Convert angle x from degrees to radians.\n",
        "    \n",
        "    sin(...)\n",
        "        sin(x)\n",
        "        \n",
        "        Return the sine of x (measured in radians).\n",
        "    \n",
        "    sinh(...)\n",
        "        sinh(x)\n",
        "        \n",
        "        Return the hyperbolic sine of x.\n",
        "    \n",
        "    sqrt(...)\n",
        "        sqrt(x)\n",
        "        \n",
        "        Return the square root of x.\n",
        "    \n",
        "    tan(...)\n",
        "        tan(x)\n",
        "        \n",
        "        Return the tangent of x (measured in radians).\n",
        "    \n",
        "    tanh(...)\n",
        "        tanh(x)\n",
        "        \n",
        "        Return the hyperbolic tangent of x.\n",
        "    \n",
        "    trunc(...)\n",
        "        trunc(x:Real) -> Integral\n",
        "        \n",
        "        Truncates x to the nearest Integral toward 0. Uses the __trunc__ magic method.\n",
        "\n",
        "DATA\n",
        "    e = 2.718281828459045\n",
        "    pi = 3.141592653589793\n",
        "\n",
        "\n"
       ]
      }
     ],
     "prompt_number": 33
    },
    {
     "cell_type": "markdown",
     "metadata": {},
     "source": [
      " * Modules utiles de biblioth\u00e8que standard: `os`, `sys`, `math`, `shutil`, `re`, etc.\n",
      "\n",
      " * Pour une liste compl\u00e8te, voir:  http://docs.python.org/2/library/"
     ]
    },
    {
     "cell_type": "markdown",
     "metadata": {},
     "source": [
      "### EXERCICE : Ecrire un code qui calcule la premi\u00e8re puissance de 2 sup\u00e9rieure \u00e0 un nombre `n`"
     ]
    },
    {
     "cell_type": "code",
     "collapsed": false,
     "input": [
      "n = 12345\n",
      "# ..."
     ],
     "language": "python",
     "metadata": {},
     "outputs": [],
     "prompt_number": 34
    },
    {
     "cell_type": "markdown",
     "metadata": {},
     "source": [
      "### Fractions"
     ]
    },
    {
     "cell_type": "code",
     "collapsed": false,
     "input": [
      "import fractions\n",
      "a = fractions.Fraction(2, 3)\n",
      "b = fractions.Fraction(1, 2)\n",
      "print a + b"
     ],
     "language": "python",
     "metadata": {},
     "outputs": [
      {
       "output_type": "stream",
       "stream": "stdout",
       "text": [
        "7/6\n"
       ]
      }
     ],
     "prompt_number": 35
    },
    {
     "cell_type": "markdown",
     "metadata": {},
     "source": [
      "* On peut utiliser `isinstance` pour tester les types des variables :"
     ]
    },
    {
     "cell_type": "code",
     "collapsed": false,
     "input": [
      "print type(a)\n",
      "print isinstance(a, fractions.Fraction)"
     ],
     "language": "python",
     "metadata": {},
     "outputs": [
      {
       "output_type": "stream",
       "stream": "stdout",
       "text": [
        "<class 'fractions.Fraction'>\n",
        "True\n"
       ]
      }
     ],
     "prompt_number": 36
    },
    {
     "cell_type": "code",
     "collapsed": false,
     "input": [
      "a = fractions.Fraction(1, 1)\n",
      "print isinstance(a, int)"
     ],
     "language": "python",
     "metadata": {},
     "outputs": [
      {
       "output_type": "stream",
       "stream": "stdout",
       "text": [
        "False\n"
       ]
      }
     ],
     "prompt_number": 37
    },
    {
     "cell_type": "markdown",
     "metadata": {},
     "source": [
      "### Type casting (conversion de type)"
     ]
    },
    {
     "cell_type": "code",
     "collapsed": false,
     "input": [
      "x = 1.5\n",
      "print x, type(x)"
     ],
     "language": "python",
     "metadata": {},
     "outputs": [
      {
       "output_type": "stream",
       "stream": "stdout",
       "text": [
        "1.5 <type 'float'>\n"
       ]
      }
     ],
     "prompt_number": 38
    },
    {
     "cell_type": "code",
     "collapsed": false,
     "input": [
      "x = int(x)\n",
      "print x, type(x)"
     ],
     "language": "python",
     "metadata": {},
     "outputs": [
      {
       "output_type": "stream",
       "stream": "stdout",
       "text": [
        "1 <type 'int'>\n"
       ]
      }
     ],
     "prompt_number": 39
    },
    {
     "cell_type": "code",
     "collapsed": false,
     "input": [
      "z = complex(x)\n",
      "print z, type(z)"
     ],
     "language": "python",
     "metadata": {},
     "outputs": [
      {
       "output_type": "stream",
       "stream": "stdout",
       "text": [
        "(1+0j) <type 'complex'>\n"
       ]
      }
     ],
     "prompt_number": 40
    },
    {
     "cell_type": "code",
     "collapsed": false,
     "input": [
      "x = float(z)\n",
      "print x, type(x)"
     ],
     "language": "python",
     "metadata": {},
     "outputs": [
      {
       "ename": "TypeError",
       "evalue": "can't convert complex to float",
       "output_type": "pyerr",
       "traceback": [
        "\u001b[0;31m---------------------------------------------------------------------------\u001b[0m\n\u001b[0;31mTypeError\u001b[0m                                 Traceback (most recent call last)",
        "\u001b[0;32m<ipython-input-41-b47ba47d3a3d>\u001b[0m in \u001b[0;36m<module>\u001b[0;34m()\u001b[0m\n\u001b[0;32m----> 1\u001b[0;31m \u001b[0mx\u001b[0m \u001b[0;34m=\u001b[0m \u001b[0mfloat\u001b[0m\u001b[0;34m(\u001b[0m\u001b[0mz\u001b[0m\u001b[0;34m)\u001b[0m\u001b[0;34m\u001b[0m\u001b[0m\n\u001b[0m\u001b[1;32m      2\u001b[0m \u001b[0;32mprint\u001b[0m \u001b[0mx\u001b[0m\u001b[0;34m,\u001b[0m \u001b[0mtype\u001b[0m\u001b[0;34m(\u001b[0m\u001b[0mx\u001b[0m\u001b[0;34m)\u001b[0m\u001b[0;34m\u001b[0m\u001b[0m\n",
        "\u001b[0;31mTypeError\u001b[0m: can't convert complex to float"
       ]
      }
     ],
     "prompt_number": 41
    },
    {
     "cell_type": "markdown",
     "metadata": {},
     "source": [
      "## Operateurs et comparaisons"
     ]
    },
    {
     "cell_type": "code",
     "collapsed": false,
     "input": [
      "1 + 2, 1 - 2, 1 * 2, 1 / 2  # + - / * sur des entiers"
     ],
     "language": "python",
     "metadata": {},
     "outputs": [
      {
       "metadata": {},
       "output_type": "pyout",
       "prompt_number": 42,
       "text": [
        "(3, -1, 2, 0)"
       ]
      }
     ],
     "prompt_number": 42
    },
    {
     "cell_type": "code",
     "collapsed": false,
     "input": [
      "1.0 + 2.0, 1.0 - 2.0, 1.0 * 2.0, 1.0 / 2.0  # + - / * sur des flottants"
     ],
     "language": "python",
     "metadata": {},
     "outputs": [
      {
       "metadata": {},
       "output_type": "pyout",
       "prompt_number": 43,
       "text": [
        "(3.0, -1.0, 2.0, 0.5)"
       ]
      }
     ],
     "prompt_number": 43
    },
    {
     "cell_type": "code",
     "collapsed": false,
     "input": [
      "# Division enti\u00e8re\n",
      "3.0 // 2.0"
     ],
     "language": "python",
     "metadata": {},
     "outputs": [
      {
       "metadata": {},
       "output_type": "pyout",
       "prompt_number": 44,
       "text": [
        "1.0"
       ]
      }
     ],
     "prompt_number": 44
    },
    {
     "cell_type": "code",
     "collapsed": false,
     "input": [
      "# Attention ** et pas ^\n",
      "2 ** 2"
     ],
     "language": "python",
     "metadata": {},
     "outputs": [
      {
       "metadata": {},
       "output_type": "pyout",
       "prompt_number": 45,
       "text": [
        "4"
       ]
      }
     ],
     "prompt_number": 45
    },
    {
     "cell_type": "markdown",
     "metadata": {},
     "source": [
      "* Op\u00e9rations bool\u00e9ennes en anglais `and`, `not`, `or`. "
     ]
    },
    {
     "cell_type": "code",
     "collapsed": false,
     "input": [
      "True and False"
     ],
     "language": "python",
     "metadata": {},
     "outputs": [
      {
       "metadata": {},
       "output_type": "pyout",
       "prompt_number": 46,
       "text": [
        "False"
       ]
      }
     ],
     "prompt_number": 46
    },
    {
     "cell_type": "code",
     "collapsed": false,
     "input": [
      "not False"
     ],
     "language": "python",
     "metadata": {},
     "outputs": [
      {
       "metadata": {},
       "output_type": "pyout",
       "prompt_number": 47,
       "text": [
        "True"
       ]
      }
     ],
     "prompt_number": 47
    },
    {
     "cell_type": "code",
     "collapsed": false,
     "input": [
      "True or False"
     ],
     "language": "python",
     "metadata": {},
     "outputs": [
      {
       "metadata": {},
       "output_type": "pyout",
       "prompt_number": 48,
       "text": [
        "True"
       ]
      }
     ],
     "prompt_number": 48
    },
    {
     "cell_type": "markdown",
     "metadata": {},
     "source": [
      "* Comparisons `>`, `<`, `>=` (plus grand ou \u00e9gal), `<=` (inf\u00e9rieur ou \u00e9gal), `==` equalit\u00e9, `is` identique."
     ]
    },
    {
     "cell_type": "code",
     "collapsed": false,
     "input": [
      "2 > 1, 2 < 1"
     ],
     "language": "python",
     "metadata": {},
     "outputs": [
      {
       "metadata": {},
       "output_type": "pyout",
       "prompt_number": 49,
       "text": [
        "(True, False)"
       ]
      }
     ],
     "prompt_number": 49
    },
    {
     "cell_type": "code",
     "collapsed": false,
     "input": [
      "2 > 2, 2 < 2"
     ],
     "language": "python",
     "metadata": {},
     "outputs": [
      {
       "metadata": {},
       "output_type": "pyout",
       "prompt_number": 50,
       "text": [
        "(False, False)"
       ]
      }
     ],
     "prompt_number": 50
    },
    {
     "cell_type": "code",
     "collapsed": false,
     "input": [
      "2 >= 2, 2 <= 2"
     ],
     "language": "python",
     "metadata": {},
     "outputs": [
      {
       "metadata": {},
       "output_type": "pyout",
       "prompt_number": 51,
       "text": [
        "(True, True)"
       ]
      }
     ],
     "prompt_number": 51
    },
    {
     "cell_type": "code",
     "collapsed": false,
     "input": [
      "2 != 3"
     ],
     "language": "python",
     "metadata": {},
     "outputs": [
      {
       "metadata": {},
       "output_type": "pyout",
       "prompt_number": 52,
       "text": [
        "True"
       ]
      }
     ],
     "prompt_number": 52
    },
    {
     "cell_type": "code",
     "collapsed": false,
     "input": [
      "not 2 == 3"
     ],
     "language": "python",
     "metadata": {},
     "outputs": [
      {
       "metadata": {},
       "output_type": "pyout",
       "prompt_number": 53,
       "text": [
        "True"
       ]
      }
     ],
     "prompt_number": 53
    },
    {
     "cell_type": "markdown",
     "metadata": {},
     "source": [
      "## Conteneurs: Cha\u00eenes de caract\u00e8res, listes et dictionnaires\n",
      "\n",
      "### Chaines de caract\u00e8res (Strings)"
     ]
    },
    {
     "cell_type": "code",
     "collapsed": false,
     "input": [
      "s = 'Hello world!'\n",
      "# ou avec \" \"\n",
      "s = \"Hello world!\"\n",
      "print s\n",
      "print type(s)"
     ],
     "language": "python",
     "metadata": {},
     "outputs": [
      {
       "output_type": "stream",
       "stream": "stdout",
       "text": [
        "Hello world!\n",
        "<type 'str'>\n"
       ]
      }
     ],
     "prompt_number": 55
    },
    {
     "cell_type": "markdown",
     "metadata": {},
     "source": [
      "**Attention:** les indices commencent \u00e0 0!\n",
      "\n",
      "On peut extraire une sous-chaine avec la syntaxe `[start:stop]`, qui extrait les caract\u00e8res entre `start` et `stop` (**exclu**) :"
     ]
    },
    {
     "cell_type": "code",
     "collapsed": false,
     "input": [
      "s[0]  # premier \u00e9l\u00e9ment"
     ],
     "language": "python",
     "metadata": {},
     "outputs": [
      {
       "metadata": {},
       "output_type": "pyout",
       "prompt_number": 56,
       "text": [
        "'H'"
       ]
      }
     ],
     "prompt_number": 56
    },
    {
     "cell_type": "code",
     "collapsed": false,
     "input": [
      "s[-1]  # dernier \u00e9l\u00e9ment"
     ],
     "language": "python",
     "metadata": {},
     "outputs": [
      {
       "metadata": {},
       "output_type": "pyout",
       "prompt_number": 57,
       "text": [
        "'!'"
       ]
      }
     ],
     "prompt_number": 57
    },
    {
     "cell_type": "code",
     "collapsed": false,
     "input": [
      "s[-2:]"
     ],
     "language": "python",
     "metadata": {},
     "outputs": [
      {
       "metadata": {},
       "output_type": "pyout",
       "prompt_number": 58,
       "text": [
        "'d!'"
       ]
      }
     ],
     "prompt_number": 58
    },
    {
     "cell_type": "code",
     "collapsed": false,
     "input": [
      "s[0:5]"
     ],
     "language": "python",
     "metadata": {},
     "outputs": [
      {
       "metadata": {},
       "output_type": "pyout",
       "prompt_number": 59,
       "text": [
        "'Hello'"
       ]
      }
     ],
     "prompt_number": 59
    },
    {
     "cell_type": "code",
     "collapsed": false,
     "input": [
      "start, stop = 1, 5\n",
      "print len(s[start:stop])\n",
      "print stop - start"
     ],
     "language": "python",
     "metadata": {},
     "outputs": [
      {
       "output_type": "stream",
       "stream": "stdout",
       "text": [
        "4\n",
        "4\n"
       ]
      }
     ],
     "prompt_number": 60
    },
    {
     "cell_type": "code",
     "collapsed": false,
     "input": [
      "print start\n",
      "print stop"
     ],
     "language": "python",
     "metadata": {},
     "outputs": [
      {
       "output_type": "stream",
       "stream": "stdout",
       "text": [
        "1\n",
        "5\n"
       ]
      }
     ],
     "prompt_number": 61
    },
    {
     "cell_type": "markdown",
     "metadata": {},
     "source": [
      "Attention car :"
     ]
    },
    {
     "cell_type": "code",
     "collapsed": false,
     "input": [
      "len(\"\u00e9\")"
     ],
     "language": "python",
     "metadata": {},
     "outputs": [
      {
       "metadata": {},
       "output_type": "pyout",
       "prompt_number": 62,
       "text": [
        "2"
       ]
      }
     ],
     "prompt_number": 62
    },
    {
     "cell_type": "markdown",
     "metadata": {},
     "source": [
      "Mais:"
     ]
    },
    {
     "cell_type": "code",
     "collapsed": false,
     "input": [
      "len(u\"\u00e9\")  # chaine de caract\u00e8res unicode"
     ],
     "language": "python",
     "metadata": {},
     "outputs": [
      {
       "metadata": {},
       "output_type": "pyout",
       "prompt_number": 63,
       "text": [
        "1"
       ]
      }
     ],
     "prompt_number": 63
    },
    {
     "cell_type": "markdown",
     "metadata": {},
     "source": [
      "On peut omettre `start` ou `stop`. Dans ce cas les valeurs par d\u00e9faut sont respectivement 0 et la fin de la chaine."
     ]
    },
    {
     "cell_type": "code",
     "collapsed": false,
     "input": [
      "s[:5]  # 5 premi\u00e8res valeurs"
     ],
     "language": "python",
     "metadata": {},
     "outputs": [
      {
       "metadata": {},
       "output_type": "pyout",
       "prompt_number": 64,
       "text": [
        "'Hello'"
       ]
      }
     ],
     "prompt_number": 64
    },
    {
     "cell_type": "code",
     "collapsed": false,
     "input": [
      "s[6:]  # de l'entr\u00e9e d'indice 6 \u00e0 la fin"
     ],
     "language": "python",
     "metadata": {},
     "outputs": [
      {
       "metadata": {},
       "output_type": "pyout",
       "prompt_number": 65,
       "text": [
        "'world!'"
       ]
      }
     ],
     "prompt_number": 65
    },
    {
     "cell_type": "code",
     "collapsed": false,
     "input": [
      "print len(s[6:])\n",
      "print len(s) - 6"
     ],
     "language": "python",
     "metadata": {},
     "outputs": [
      {
       "output_type": "stream",
       "stream": "stdout",
       "text": [
        "6\n",
        "6\n"
       ]
      }
     ],
     "prompt_number": 66
    },
    {
     "cell_type": "code",
     "collapsed": false,
     "input": [
      "s[-6:]  # les 6 derniers"
     ],
     "language": "python",
     "metadata": {},
     "outputs": [
      {
       "metadata": {},
       "output_type": "pyout",
       "prompt_number": 67,
       "text": [
        "'world!'"
       ]
      }
     ],
     "prompt_number": 67
    },
    {
     "cell_type": "markdown",
     "metadata": {},
     "source": [
      "Il est aussi possible de d\u00e9finir le `step` (pas d'avancement) avec la syntaxe `[start:stop:step]` (la valeur par d\u00e9faut de `step` est 1):"
     ]
    },
    {
     "cell_type": "code",
     "collapsed": false,
     "input": [
      "s[::1]"
     ],
     "language": "python",
     "metadata": {},
     "outputs": [
      {
       "metadata": {},
       "output_type": "pyout",
       "prompt_number": 68,
       "text": [
        "'Hello world!'"
       ]
      }
     ],
     "prompt_number": 68
    },
    {
     "cell_type": "code",
     "collapsed": false,
     "input": [
      "s[1::2]"
     ],
     "language": "python",
     "metadata": {},
     "outputs": [
      {
       "metadata": {},
       "output_type": "pyout",
       "prompt_number": 69,
       "text": [
        "'el ol!'"
       ]
      }
     ],
     "prompt_number": 69
    },
    {
     "cell_type": "markdown",
     "metadata": {},
     "source": [
      "Cette technique est appel\u00e9e *slicing*. Pour en savoir plus: http://docs.python.org/release/2.7.3/library/functions.html?highlight=slice#slice et http://docs.python.org/2/library/string.html"
     ]
    },
    {
     "cell_type": "markdown",
     "metadata": {},
     "source": [
      "#### EXERCICE : A partir des lettres de l'alphabet, g\u00e9n\u00e9rer par une operation de slicing la cha\u00eene de charact\u00e8re *cfilorux*"
     ]
    },
    {
     "cell_type": "code",
     "collapsed": false,
     "input": [
      "import string\n",
      "alphabet = string.ascii_lowercase\n",
      "print alphabet"
     ],
     "language": "python",
     "metadata": {},
     "outputs": [
      {
       "output_type": "stream",
       "stream": "stdout",
       "text": [
        "abcdefghijklmnopqrstuvwxyz\n"
       ]
      }
     ],
     "prompt_number": 70
    },
    {
     "cell_type": "markdown",
     "metadata": {},
     "source": [
      "#### Mise en forme de cha\u00eenes de caract\u00e8res"
     ]
    },
    {
     "cell_type": "code",
     "collapsed": false,
     "input": [
      "print \"str1\", \"str2\", \"str3\"  # print ajoute des espaces entre les cha\u00eenes"
     ],
     "language": "python",
     "metadata": {},
     "outputs": [
      {
       "output_type": "stream",
       "stream": "stdout",
       "text": [
        "str1 str2 str3\n"
       ]
      }
     ],
     "prompt_number": 71
    },
    {
     "cell_type": "code",
     "collapsed": false,
     "input": [
      "print \"str1\", 1.0, False, -1j  # print convertit toutes les variables en cha\u00eenes"
     ],
     "language": "python",
     "metadata": {},
     "outputs": [
      {
       "output_type": "stream",
       "stream": "stdout",
       "text": [
        "str1 1.0 False -1j\n"
       ]
      }
     ],
     "prompt_number": 72
    },
    {
     "cell_type": "code",
     "collapsed": false,
     "input": [
      "print \"str1\" + \"str2\" + \"str3\" # pour concatener +"
     ],
     "language": "python",
     "metadata": {},
     "outputs": [
      {
       "output_type": "stream",
       "stream": "stdout",
       "text": [
        "str1str2str3\n"
       ]
      }
     ],
     "prompt_number": 73
    },
    {
     "cell_type": "code",
     "collapsed": false,
     "input": [
      "print \"str1\" * 3"
     ],
     "language": "python",
     "metadata": {},
     "outputs": [
      {
       "output_type": "stream",
       "stream": "stdout",
       "text": [
        "str1str1str1\n"
       ]
      }
     ],
     "prompt_number": 74
    },
    {
     "cell_type": "code",
     "collapsed": false,
     "input": [
      "a = 1.0\n",
      "print \"val = %f\" % a       # comme en C (cf. printf)\n",
      "print \"val = %d\" % a       # comme en C (cf. printf)\n",
      "print \"val = %s\" % a       # comme en C (cf. printf)\n",
      "print str(a)"
     ],
     "language": "python",
     "metadata": {},
     "outputs": [
      {
       "output_type": "stream",
       "stream": "stdout",
       "text": [
        "val = 1.000000\n",
        "val = 1\n",
        "val = 1.0\n",
        "1.0\n"
       ]
      }
     ],
     "prompt_number": 75
    },
    {
     "cell_type": "code",
     "collapsed": false,
     "input": [
      "# Plus avanc\u00e9\n",
      "s = \"val1 = %.2f, val2 = %d\" % (3.1415, 1.5)\n",
      "print s"
     ],
     "language": "python",
     "metadata": {},
     "outputs": [
      {
       "output_type": "stream",
       "stream": "stdout",
       "text": [
        "val1 = 3.14, val2 = 1\n"
       ]
      }
     ],
     "prompt_number": 76
    },
    {
     "cell_type": "markdown",
     "metadata": {},
     "source": [
      "### Listes\n",
      "\n",
      "Les listes sont tr\u00e8s similaires aux cha\u00eenes de caract\u00e8res sauf que les \u00e9l\u00e9ments peuvent \u00eatre de n'importe quel type.\n",
      "\n",
      "La syntaxe pour cr\u00e9er des listes est `[...]`:"
     ]
    },
    {
     "cell_type": "code",
     "collapsed": false,
     "input": [
      "l = [1, 2, 3, 4]\n",
      "print type(l)\n",
      "print l"
     ],
     "language": "python",
     "metadata": {},
     "outputs": [
      {
       "output_type": "stream",
       "stream": "stdout",
       "text": [
        "<type 'list'>\n",
        "[1, 2, 3, 4]\n"
       ]
      }
     ],
     "prompt_number": 77
    },
    {
     "cell_type": "markdown",
     "metadata": {},
     "source": [
      "Exemples de slicing:"
     ]
    },
    {
     "cell_type": "code",
     "collapsed": false,
     "input": [
      "print l[1:3]\n",
      "print l[::2]"
     ],
     "language": "python",
     "metadata": {},
     "outputs": [
      {
       "output_type": "stream",
       "stream": "stdout",
       "text": [
        "[2, 3]\n",
        "[1, 3]\n"
       ]
      }
     ],
     "prompt_number": 78
    },
    {
     "cell_type": "markdown",
     "metadata": {},
     "source": [
      "**Attention:** On commence \u00e0 indexer \u00e0 0!"
     ]
    },
    {
     "cell_type": "code",
     "collapsed": false,
     "input": [
      "l[0]"
     ],
     "language": "python",
     "metadata": {},
     "outputs": [
      {
       "metadata": {},
       "output_type": "pyout",
       "prompt_number": 79,
       "text": [
        "1"
       ]
      }
     ],
     "prompt_number": 79
    },
    {
     "cell_type": "markdown",
     "metadata": {},
     "source": [
      "On peut m\u00e9langer les types:"
     ]
    },
    {
     "cell_type": "code",
     "collapsed": false,
     "input": [
      "l = [1, 'a', 1.0, 1-1j]\n",
      "print l"
     ],
     "language": "python",
     "metadata": {},
     "outputs": [
      {
       "output_type": "stream",
       "stream": "stdout",
       "text": [
        "[1, 'a', 1.0, (1-1j)]\n"
       ]
      }
     ],
     "prompt_number": 80
    },
    {
     "cell_type": "markdown",
     "metadata": {},
     "source": [
      "On peut faire des listes de listes (par exemple pour d\u00e9crire un arbre...)"
     ]
    },
    {
     "cell_type": "code",
     "collapsed": false,
     "input": [
      "list_of_list = [1, [2, [3, [4, [5]]]]]\n",
      "list_of_list"
     ],
     "language": "python",
     "metadata": {},
     "outputs": [
      {
       "metadata": {},
       "output_type": "pyout",
       "prompt_number": 81,
       "text": [
        "[1, [2, [3, [4, [5]]]]]"
       ]
      }
     ],
     "prompt_number": 81
    },
    {
     "cell_type": "code",
     "collapsed": false,
     "input": [
      "arbre = [1, [2, 3]]\n",
      "print arbre"
     ],
     "language": "python",
     "metadata": {},
     "outputs": [
      {
       "output_type": "stream",
       "stream": "stdout",
       "text": [
        "[1, [2, 3]]\n"
       ]
      }
     ],
     "prompt_number": 82
    },
    {
     "cell_type": "markdown",
     "metadata": {},
     "source": [
      "La fonction `range` pour g\u00e9n\u00e9rer une liste d'entiers:"
     ]
    },
    {
     "cell_type": "code",
     "collapsed": false,
     "input": [
      "start, stop, step = 10, 30, 2\n",
      "print range(start, stop, step)\n",
      "print range(10, 30, 2)\n",
      "print list(range(10, 30, 2))"
     ],
     "language": "python",
     "metadata": {},
     "outputs": [
      {
       "output_type": "stream",
       "stream": "stdout",
       "text": [
        "[10, 12, 14, 16, 18, 20, 22, 24, 26, 28]\n",
        "[10, 12, 14, 16, 18, 20, 22, 24, 26, 28]\n",
        "[10, 12, 14, 16, 18, 20, 22, 24, 26, 28]\n"
       ]
      }
     ],
     "prompt_number": 83
    },
    {
     "cell_type": "code",
     "collapsed": false,
     "input": [
      "range(-10, 10)"
     ],
     "language": "python",
     "metadata": {},
     "outputs": [
      {
       "metadata": {},
       "output_type": "pyout",
       "prompt_number": 84,
       "text": [
        "[-10, -9, -8, -7, -6, -5, -4, -3, -2, -1, 0, 1, 2, 3, 4, 5, 6, 7, 8, 9]"
       ]
      }
     ],
     "prompt_number": 84
    },
    {
     "cell_type": "code",
     "collapsed": false,
     "input": [
      "# convertir une chaine de caract\u00e8re en liste\n",
      "s = \"zabcda\"\n",
      "s2 = list(s)\n",
      "print s2"
     ],
     "language": "python",
     "metadata": {},
     "outputs": [
      {
       "output_type": "stream",
       "stream": "stdout",
       "text": [
        "['z', 'a', 'b', 'c', 'd', 'a']\n"
       ]
      }
     ],
     "prompt_number": 85
    },
    {
     "cell_type": "code",
     "collapsed": false,
     "input": [
      "# tri\n",
      "s2.sort()\n",
      "print s2\n",
      "print s2[::-1]"
     ],
     "language": "python",
     "metadata": {},
     "outputs": [
      {
       "output_type": "stream",
       "stream": "stdout",
       "text": [
        "['a', 'a', 'b', 'c', 'd', 'z']\n",
        "['z', 'd', 'c', 'b', 'a', 'a']\n"
       ]
      }
     ],
     "prompt_number": 86
    },
    {
     "cell_type": "markdown",
     "metadata": {},
     "source": [
      "Attention s2.sort() ne renvoie rien c'est-\u00e0-dire None"
     ]
    },
    {
     "cell_type": "code",
     "collapsed": false,
     "input": [
      "out = s2.sort()\n",
      "print out"
     ],
     "language": "python",
     "metadata": {},
     "outputs": [
      {
       "output_type": "stream",
       "stream": "stdout",
       "text": [
        "None\n"
       ]
      }
     ],
     "prompt_number": 87
    },
    {
     "cell_type": "markdown",
     "metadata": {},
     "source": [
      "Pour renvoyer une nouvelle liste tri\u00e9e:"
     ]
    },
    {
     "cell_type": "code",
     "collapsed": false,
     "input": [
      "out = sorted(s2)\n",
      "print out"
     ],
     "language": "python",
     "metadata": {},
     "outputs": [
      {
       "output_type": "stream",
       "stream": "stdout",
       "text": [
        "['a', 'a', 'b', 'c', 'd', 'z']\n"
       ]
      }
     ],
     "prompt_number": 88
    },
    {
     "cell_type": "markdown",
     "metadata": {},
     "source": [
      "#### Ajout, insertion, modifier, et enlever des \u00e9l\u00e9ments d'une liste:"
     ]
    },
    {
     "cell_type": "code",
     "collapsed": false,
     "input": [
      "# cr\u00e9ation d'une liste vide\n",
      "l = []\n",
      "\n",
      "# ajout d'\u00e9l\u00e9ments avec `append`\n",
      "m = l.append(\"A\")\n",
      "l.append(\"d\")\n",
      "l.append(\"d\")\n",
      "\n",
      "print m\n",
      "print l"
     ],
     "language": "python",
     "metadata": {},
     "outputs": [
      {
       "output_type": "stream",
       "stream": "stdout",
       "text": [
        "None\n",
        "['A', 'd', 'd']\n"
       ]
      }
     ],
     "prompt_number": 89
    },
    {
     "cell_type": "code",
     "collapsed": false,
     "input": [
      "l.count('d')"
     ],
     "language": "python",
     "metadata": {},
     "outputs": [
      {
       "metadata": {},
       "output_type": "pyout",
       "prompt_number": 90,
       "text": [
        "2"
       ]
      }
     ],
     "prompt_number": 90
    },
    {
     "cell_type": "markdown",
     "metadata": {},
     "source": [
      "Concatenation de listes avec +"
     ]
    },
    {
     "cell_type": "code",
     "collapsed": false,
     "input": [
      "lll = [1, 2, 3]\n",
      "mmm = [4, 5, 6]\n",
      "print lll + mmm  # attention diff\u00e9rent de lll.append(mmm)\n",
      "print lll * 2"
     ],
     "language": "python",
     "metadata": {},
     "outputs": [
      {
       "output_type": "stream",
       "stream": "stdout",
       "text": [
        "[1, 2, 3, 4, 5, 6]\n",
        "[1, 2, 3, 1, 2, 3]\n"
       ]
      }
     ],
     "prompt_number": 91
    },
    {
     "cell_type": "code",
     "collapsed": false,
     "input": [
      "ll = [1, 2]\n",
      "mm = list(ll)\n",
      "ll.append(3)\n",
      "print ll is mm\n",
      "print mm"
     ],
     "language": "python",
     "metadata": {},
     "outputs": [
      {
       "output_type": "stream",
       "stream": "stdout",
       "text": [
        "False\n",
        "[1, 2]\n"
       ]
      }
     ],
     "prompt_number": 93
    },
    {
     "cell_type": "code",
     "collapsed": false,
     "input": [
      "a = 1\n",
      "b = a\n",
      "a += 1\n",
      "print b"
     ],
     "language": "python",
     "metadata": {},
     "outputs": [
      {
       "output_type": "stream",
       "stream": "stdout",
       "text": [
        "1\n"
       ]
      }
     ],
     "prompt_number": 94
    },
    {
     "cell_type": "markdown",
     "metadata": {},
     "source": [
      "On peut modifier une liste par assignation:"
     ]
    },
    {
     "cell_type": "code",
     "collapsed": false,
     "input": [
      "l[1] = \"p\"\n",
      "l[2] = \"p\"\n",
      "print l"
     ],
     "language": "python",
     "metadata": {},
     "outputs": [
      {
       "output_type": "stream",
       "stream": "stdout",
       "text": [
        "['A', 'p', 'p']\n"
       ]
      }
     ],
     "prompt_number": 95
    },
    {
     "cell_type": "code",
     "collapsed": false,
     "input": [
      "l[1:3] = [\"d\", \"d\"]\n",
      "print l"
     ],
     "language": "python",
     "metadata": {},
     "outputs": [
      {
       "output_type": "stream",
       "stream": "stdout",
       "text": [
        "['A', 'd', 'd']\n"
       ]
      }
     ],
     "prompt_number": 96
    },
    {
     "cell_type": "markdown",
     "metadata": {},
     "source": [
      "Insertion \u00e0 un index donn\u00e9 avec `insert`"
     ]
    },
    {
     "cell_type": "code",
     "collapsed": false,
     "input": [
      "l.insert(0, \"i\")\n",
      "l.insert(1, \"n\")\n",
      "l.insert(2, \"s\")\n",
      "l.insert(3, \"e\")\n",
      "l.insert(4, \"r\")\n",
      "l.insert(5, \"t\")\n",
      "\n",
      "print l"
     ],
     "language": "python",
     "metadata": {},
     "outputs": [
      {
       "output_type": "stream",
       "stream": "stdout",
       "text": [
        "['i', 'n', 's', 'e', 'r', 't', 'A', 'd', 'd']\n"
       ]
      }
     ],
     "prompt_number": 97
    },
    {
     "cell_type": "markdown",
     "metadata": {},
     "source": [
      "Suppression d'un \u00e9l\u00e9ment avec 'remove'"
     ]
    },
    {
     "cell_type": "code",
     "collapsed": false,
     "input": [
      "l.remove(\"A\")\n",
      "print l"
     ],
     "language": "python",
     "metadata": {},
     "outputs": [
      {
       "output_type": "stream",
       "stream": "stdout",
       "text": [
        "['i', 'n', 's', 'e', 'r', 't', 'd', 'd']\n"
       ]
      }
     ],
     "prompt_number": 98
    },
    {
     "cell_type": "code",
     "collapsed": false,
     "input": [
      "ll = [1, 2, 3, 2]\n",
      "print ll\n",
      "ll.remove(2)\n",
      "print ll"
     ],
     "language": "python",
     "metadata": {},
     "outputs": [
      {
       "output_type": "stream",
       "stream": "stdout",
       "text": [
        "[1, 2, 3, 2]\n",
        "[1, 3, 2]\n"
       ]
      }
     ],
     "prompt_number": 99
    },
    {
     "cell_type": "code",
     "collapsed": false,
     "input": [
      "print 2 in ll\n",
      "print ll.index(2)"
     ],
     "language": "python",
     "metadata": {},
     "outputs": [
      {
       "output_type": "stream",
       "stream": "stdout",
       "text": [
        "True\n",
        "2\n"
       ]
      }
     ],
     "prompt_number": 100
    },
    {
     "cell_type": "markdown",
     "metadata": {},
     "source": [
      "Suppression d'un \u00e9l\u00e9ment \u00e0 une position donn\u00e9e avec `del`:"
     ]
    },
    {
     "cell_type": "code",
     "collapsed": false,
     "input": [
      "del l[7]\n",
      "del l[6]\n",
      "print l"
     ],
     "language": "python",
     "metadata": {},
     "outputs": [
      {
       "output_type": "stream",
       "stream": "stdout",
       "text": [
        "['i', 'n', 's', 'e', 'r', 't']\n"
       ]
      }
     ],
     "prompt_number": 101
    },
    {
     "cell_type": "markdown",
     "metadata": {},
     "source": [
      "`help(list)` pour en savoir plus."
     ]
    },
    {
     "cell_type": "markdown",
     "metadata": {},
     "source": [
      "### Tuples\n",
      "\n",
      " * Les *tuples* (n-uplets) ressemblent aux listes mais ils sont *immuables* : ils ne peuvent pas \u00eatre modifi\u00e9s une fois cr\u00e9\u00e9s.\n",
      " \n",
      " * On les cr\u00e9e avec la syntaxe `(..., ..., ...)` ou simplement `..., ...`:\n"
     ]
    },
    {
     "cell_type": "code",
     "collapsed": false,
     "input": [
      "point = (10, 20)\n",
      "print point, type(point)"
     ],
     "language": "python",
     "metadata": {},
     "outputs": [
      {
       "output_type": "stream",
       "stream": "stdout",
       "text": [
        "(10, 20) <type 'tuple'>\n"
       ]
      }
     ],
     "prompt_number": 102
    },
    {
     "cell_type": "code",
     "collapsed": false,
     "input": [
      "point[0]"
     ],
     "language": "python",
     "metadata": {},
     "outputs": [
      {
       "metadata": {},
       "output_type": "pyout",
       "prompt_number": 103,
       "text": [
        "10"
       ]
      }
     ],
     "prompt_number": 103
    },
    {
     "cell_type": "markdown",
     "metadata": {},
     "source": [
      "Un *tuple* peut \u00eatre d\u00e9pil\u00e9 par assignation \u00e0 une liste de variables s\u00e9par\u00e9es par des virgules :"
     ]
    },
    {
     "cell_type": "code",
     "collapsed": false,
     "input": [
      "x, y = point\n",
      "\n",
      "print \"x =\", x\n",
      "print \"y =\", y"
     ],
     "language": "python",
     "metadata": {},
     "outputs": [
      {
       "output_type": "stream",
       "stream": "stdout",
       "text": [
        "x = 10\n",
        "y = 20\n"
       ]
      }
     ],
     "prompt_number": 104
    },
    {
     "cell_type": "markdown",
     "metadata": {},
     "source": [
      "On ne peut pas faire :"
     ]
    },
    {
     "cell_type": "code",
     "collapsed": false,
     "input": [
      "point[0] = 20"
     ],
     "language": "python",
     "metadata": {},
     "outputs": [
      {
       "ename": "TypeError",
       "evalue": "'tuple' object does not support item assignment",
       "output_type": "pyerr",
       "traceback": [
        "\u001b[0;31m---------------------------------------------------------------------------\u001b[0m\n\u001b[0;31mTypeError\u001b[0m                                 Traceback (most recent call last)",
        "\u001b[0;32m<ipython-input-105-ac1c641a5dca>\u001b[0m in \u001b[0;36m<module>\u001b[0;34m()\u001b[0m\n\u001b[0;32m----> 1\u001b[0;31m \u001b[0mpoint\u001b[0m\u001b[0;34m[\u001b[0m\u001b[0;36m0\u001b[0m\u001b[0;34m]\u001b[0m \u001b[0;34m=\u001b[0m \u001b[0;36m20\u001b[0m\u001b[0;34m\u001b[0m\u001b[0m\n\u001b[0m",
        "\u001b[0;31mTypeError\u001b[0m: 'tuple' object does not support item assignment"
       ]
      }
     ],
     "prompt_number": 105
    },
    {
     "cell_type": "markdown",
     "metadata": {},
     "source": [
      "### Dictionnaires\n",
      "\n",
      "Ils servent \u00e0 stocker des donn\u00e9es de la forme *cl\u00e9-valeur*.\n",
      "\n",
      "La syntaxe pour les dictionnaires est `{key1 : value1, ...}`:"
     ]
    },
    {
     "cell_type": "code",
     "collapsed": false,
     "input": [
      "params = {\"parameter1\" : 1.0,\n",
      "          \"parameter2\" : 2.0,\n",
      "          \"parameter3\" : 3.0}\n",
      "\n",
      "# ou bien\n",
      "\n",
      "params = dict(parameter1=1.0, parameter2=2.0, parameter3=3.0)\n",
      "\n",
      "print type(params)\n",
      "print params"
     ],
     "language": "python",
     "metadata": {},
     "outputs": [
      {
       "output_type": "stream",
       "stream": "stdout",
       "text": [
        "<type 'dict'>\n",
        "{'parameter1': 1.0, 'parameter3': 3.0, 'parameter2': 2.0}\n"
       ]
      }
     ],
     "prompt_number": 106
    },
    {
     "cell_type": "code",
     "collapsed": false,
     "input": [
      "print \"parameter1 =\", params[\"parameter1\"]\n",
      "print \"parameter2 =\", params[\"parameter2\"]\n",
      "print \"parameter3 =\", params[\"parameter3\"]"
     ],
     "language": "python",
     "metadata": {},
     "outputs": [
      {
       "output_type": "stream",
       "stream": "stdout",
       "text": [
        "parameter1 = 1.0\n",
        "parameter2 = 2.0\n",
        "parameter3 = 3.0\n"
       ]
      }
     ],
     "prompt_number": 107
    },
    {
     "cell_type": "code",
     "collapsed": false,
     "input": [
      "params[\"parameter1\"] = \"A\"\n",
      "params[\"parameter2\"] = \"B\"\n",
      "\n",
      "# ajout d'une entr\u00e9e\n",
      "params[\"parameter4\"] = \"D\"\n",
      "\n",
      "print \"parameter1 =\", params[\"parameter1\"]\n",
      "print \"parameter2 =\", params[\"parameter2\"]\n",
      "print \"parameter3 =\", params[\"parameter3\"]\n",
      "print \"parameter4 =\", params[\"parameter4\"]"
     ],
     "language": "python",
     "metadata": {},
     "outputs": [
      {
       "output_type": "stream",
       "stream": "stdout",
       "text": [
        "parameter1 = A\n",
        "parameter2 = B\n",
        "parameter3 = 3.0\n",
        "parameter4 = D\n"
       ]
      }
     ],
     "prompt_number": 108
    },
    {
     "cell_type": "markdown",
     "metadata": {},
     "source": [
      "Suppression d'une cl\u00e9:"
     ]
    },
    {
     "cell_type": "code",
     "collapsed": false,
     "input": [
      "del params[\"parameter4\"]\n",
      "print params"
     ],
     "language": "python",
     "metadata": {},
     "outputs": [
      {
       "output_type": "stream",
       "stream": "stdout",
       "text": [
        "{'parameter1': 'A', 'parameter3': 3.0, 'parameter2': 'B'}\n"
       ]
      }
     ],
     "prompt_number": 109
    },
    {
     "cell_type": "markdown",
     "metadata": {},
     "source": [
      "Test de pr\u00e9sence d'une cl\u00e9"
     ]
    },
    {
     "cell_type": "code",
     "collapsed": false,
     "input": [
      "\"parameter1\" in params"
     ],
     "language": "python",
     "metadata": {},
     "outputs": [
      {
       "metadata": {},
       "output_type": "pyout",
       "prompt_number": 110,
       "text": [
        "True"
       ]
      }
     ],
     "prompt_number": 110
    },
    {
     "cell_type": "code",
     "collapsed": false,
     "input": [
      "\"parameter6\" in params"
     ],
     "language": "python",
     "metadata": {},
     "outputs": [
      {
       "metadata": {},
       "output_type": "pyout",
       "prompt_number": 111,
       "text": [
        "False"
       ]
      }
     ],
     "prompt_number": 111
    },
    {
     "cell_type": "code",
     "collapsed": false,
     "input": [
      "params[\"parameter6\"]"
     ],
     "language": "python",
     "metadata": {},
     "outputs": [
      {
       "ename": "KeyError",
       "evalue": "'parameter6'",
       "output_type": "pyerr",
       "traceback": [
        "\u001b[0;31m---------------------------------------------------------------------------\u001b[0m\n\u001b[0;31mKeyError\u001b[0m                                  Traceback (most recent call last)",
        "\u001b[0;32m<ipython-input-112-9d26f4da51fe>\u001b[0m in \u001b[0;36m<module>\u001b[0;34m()\u001b[0m\n\u001b[0;32m----> 1\u001b[0;31m \u001b[0mparams\u001b[0m\u001b[0;34m[\u001b[0m\u001b[0;34m\"parameter6\"\u001b[0m\u001b[0;34m]\u001b[0m\u001b[0;34m\u001b[0m\u001b[0m\n\u001b[0m",
        "\u001b[0;31mKeyError\u001b[0m: 'parameter6'"
       ]
      }
     ],
     "prompt_number": 112
    },
    {
     "cell_type": "code",
     "collapsed": false,
     "input": [
      "code = {'e':'a', 'l':'m', 'o':'e'}\n",
      "s = 'Hello world!'\n",
      "# s_code = 'Hamme wermd!'\n",
      "\n",
      "s_code = ''\n",
      "\n",
      "for c in s:\n",
      "    if c in code:\n",
      "        s_code += code[c]\n",
      "    else:\n",
      "        s_code += c\n",
      "\n",
      "print s_code\n",
      "\n",
      "decode = dict()\n",
      "for k, v in code.items():\n",
      "    print k, v\n",
      "    decode[v] = k\n",
      "\n",
      "print decode"
     ],
     "language": "python",
     "metadata": {},
     "outputs": [
      {
       "output_type": "stream",
       "stream": "stdout",
       "text": [
        "Hamme wermd!\n",
        "e a\n",
        "l m\n",
        "o e\n",
        "{'a': 'e', 'e': 'o', 'm': 'l'}\n"
       ]
      }
     ],
     "prompt_number": 113
    },
    {
     "cell_type": "markdown",
     "metadata": {},
     "source": [
      "## Conditions, branchements et boucles"
     ]
    },
    {
     "cell_type": "markdown",
     "metadata": {},
     "source": [
      "### Branchements: if, elif, else"
     ]
    },
    {
     "cell_type": "code",
     "collapsed": false,
     "input": [
      "statement1 = False\n",
      "statement2 = False\n",
      "\n",
      "if statement1:\n",
      "    print \"statement1 is True\"\n",
      "elif statement2:\n",
      "    print \"statement2 is True\"\n",
      "else:\n",
      "    print \"statement1 and statement2 are False\""
     ],
     "language": "python",
     "metadata": {},
     "outputs": [
      {
       "output_type": "stream",
       "stream": "stdout",
       "text": [
        "statement1 and statement2 are False\n"
       ]
      }
     ],
     "prompt_number": 114
    },
    {
     "cell_type": "markdown",
     "metadata": {},
     "source": [
      "En Python **l'indentation est obligatoire** car elle influence l'ex\u00e9cution du code\n",
      "\n",
      "**Examples:**"
     ]
    },
    {
     "cell_type": "code",
     "collapsed": false,
     "input": [
      "statement1 = statement2 = True\n",
      "\n",
      "if statement1:\n",
      "    if statement2:\n",
      "        print \"both statement1 and statement2 are True\""
     ],
     "language": "python",
     "metadata": {},
     "outputs": [
      {
       "output_type": "stream",
       "stream": "stdout",
       "text": [
        "both statement1 and statement2 are True\n"
       ]
      }
     ],
     "prompt_number": 115
    },
    {
     "cell_type": "code",
     "collapsed": false,
     "input": [
      "# Mauvaise indentation!\n",
      "if statement1:\n",
      "    if statement2:\n",
      "        print \"both statement1 and statement2 are True\""
     ],
     "language": "python",
     "metadata": {},
     "outputs": [
      {
       "output_type": "stream",
       "stream": "stdout",
       "text": [
        "both statement1 and statement2 are True\n"
       ]
      }
     ],
     "prompt_number": 116
    },
    {
     "cell_type": "code",
     "collapsed": false,
     "input": [
      "statement1 = True \n",
      "\n",
      "if statement1:\n",
      "    print \"printed if statement1 is True\"\n",
      "    \n",
      "    print \"still inside the if block\""
     ],
     "language": "python",
     "metadata": {},
     "outputs": [
      {
       "output_type": "stream",
       "stream": "stdout",
       "text": [
        "printed if statement1 is True\n",
        "still inside the if block\n"
       ]
      }
     ],
     "prompt_number": 117
    },
    {
     "cell_type": "code",
     "collapsed": false,
     "input": [
      "statement1 = False \n",
      "\n",
      "if statement1:\n",
      "    print \"printed if statement1 is True\"\n",
      "    \n",
      "print \"still inside the if block\""
     ],
     "language": "python",
     "metadata": {},
     "outputs": [
      {
       "output_type": "stream",
       "stream": "stdout",
       "text": [
        "still inside the if block\n"
       ]
      }
     ],
     "prompt_number": 118
    },
    {
     "cell_type": "markdown",
     "metadata": {},
     "source": [
      "## Boucles\n",
      "\n",
      "Boucles **`for`**:"
     ]
    },
    {
     "cell_type": "code",
     "collapsed": false,
     "input": [
      "for x in [1, 2, 3]:\n",
      "    print x"
     ],
     "language": "python",
     "metadata": {},
     "outputs": [
      {
       "output_type": "stream",
       "stream": "stdout",
       "text": [
        "1\n",
        "2\n",
        "3\n"
       ]
      }
     ],
     "prompt_number": 119
    },
    {
     "cell_type": "markdown",
     "metadata": {},
     "source": [
      "La boucle `for` it\u00e8re sur les \u00e9l\u00e9ments de la list fournie. Par exemple:"
     ]
    },
    {
     "cell_type": "code",
     "collapsed": false,
     "input": [
      "for x in range(4): # par d\u00e9fault range commence \u00e0 0\n",
      "    print x"
     ],
     "language": "python",
     "metadata": {},
     "outputs": [
      {
       "output_type": "stream",
       "stream": "stdout",
       "text": [
        "0\n",
        "1\n",
        "2\n",
        "3\n"
       ]
      }
     ],
     "prompt_number": 120
    },
    {
     "cell_type": "markdown",
     "metadata": {},
     "source": [
      "Attention `range(4)` n'inclut pas 4 !"
     ]
    },
    {
     "cell_type": "code",
     "collapsed": false,
     "input": [
      "for x in range(-3,3):\n",
      "    print x"
     ],
     "language": "python",
     "metadata": {},
     "outputs": [
      {
       "output_type": "stream",
       "stream": "stdout",
       "text": [
        "-3\n",
        "-2\n",
        "-1\n",
        "0\n",
        "1\n",
        "2\n"
       ]
      }
     ],
     "prompt_number": 121
    },
    {
     "cell_type": "code",
     "collapsed": false,
     "input": [
      "for word in [\"calcul\", \"scientifique\", \"en\", \"python\"]:\n",
      "    print word"
     ],
     "language": "python",
     "metadata": {},
     "outputs": [
      {
       "output_type": "stream",
       "stream": "stdout",
       "text": [
        "calcul\n",
        "scientifique\n",
        "en\n",
        "python\n"
       ]
      }
     ],
     "prompt_number": 122
    },
    {
     "cell_type": "code",
     "collapsed": false,
     "input": [
      "for c in \"calcul\":\n",
      "    print c"
     ],
     "language": "python",
     "metadata": {},
     "outputs": [
      {
       "output_type": "stream",
       "stream": "stdout",
       "text": [
        "c\n",
        "a\n",
        "l\n",
        "c\n",
        "u\n",
        "l\n"
       ]
      }
     ],
     "prompt_number": 123
    },
    {
     "cell_type": "markdown",
     "metadata": {},
     "source": [
      "Pour it\u00e9rer sur un dictionnaire::"
     ]
    },
    {
     "cell_type": "code",
     "collapsed": false,
     "input": [
      "for key, value in params.items():\n",
      "    print key, \" = \", value"
     ],
     "language": "python",
     "metadata": {},
     "outputs": [
      {
       "output_type": "stream",
       "stream": "stdout",
       "text": [
        "parameter1  =  A\n",
        "parameter3  =  3.0\n",
        "parameter2  =  B\n"
       ]
      }
     ],
     "prompt_number": 124
    },
    {
     "cell_type": "code",
     "collapsed": false,
     "input": [
      "for key in params:\n",
      "    print key"
     ],
     "language": "python",
     "metadata": {},
     "outputs": [
      {
       "output_type": "stream",
       "stream": "stdout",
       "text": [
        "parameter1\n",
        "parameter3\n",
        "parameter2\n"
       ]
      }
     ],
     "prompt_number": 125
    },
    {
     "cell_type": "markdown",
     "metadata": {},
     "source": [
      "Parfois il est utile d'acc\u00e9der \u00e0 la valeur et \u00e0 l'index de l'\u00e9l\u00e9ment. Il faut alors utiliser `enumerate`:"
     ]
    },
    {
     "cell_type": "code",
     "collapsed": false,
     "input": [
      "for idx, x in enumerate(range(-3,3)):\n",
      "    print idx, x"
     ],
     "language": "python",
     "metadata": {},
     "outputs": [
      {
       "output_type": "stream",
       "stream": "stdout",
       "text": [
        "0 -3\n",
        "1 -2\n",
        "2 -1\n",
        "3 0\n",
        "4 1\n",
        "5 2\n"
       ]
      }
     ],
     "prompt_number": 126
    },
    {
     "cell_type": "code",
     "collapsed": false,
     "input": [
      "ll = range(-3,3)\n",
      "for k in range(len(ll)):\n",
      "    print k, ll[k]"
     ],
     "language": "python",
     "metadata": {},
     "outputs": [
      {
       "output_type": "stream",
       "stream": "stdout",
       "text": [
        "0 -3\n",
        "1 -2\n",
        "2 -1\n",
        "3 0\n",
        "4 1\n",
        "5 2\n"
       ]
      }
     ],
     "prompt_number": 127
    },
    {
     "cell_type": "code",
     "collapsed": false,
     "input": [
      "k = 0\n",
      "for a in ll:\n",
      "    print k, a\n",
      "    k += 1"
     ],
     "language": "python",
     "metadata": {},
     "outputs": [
      {
       "output_type": "stream",
       "stream": "stdout",
       "text": [
        "0 -3\n",
        "1 -2\n",
        "2 -1\n",
        "3 0\n",
        "4 1\n",
        "5 2\n"
       ]
      }
     ],
     "prompt_number": 128
    },
    {
     "cell_type": "code",
     "collapsed": false,
     "input": [
      "list(enumerate(range(-3,3)))"
     ],
     "language": "python",
     "metadata": {},
     "outputs": [
      {
       "metadata": {},
       "output_type": "pyout",
       "prompt_number": 129,
       "text": [
        "[(0, -3), (1, -2), (2, -1), (3, 0), (4, 1), (5, 2)]"
       ]
      }
     ],
     "prompt_number": 129
    },
    {
     "cell_type": "markdown",
     "metadata": {},
     "source": [
      "### EXERCICE : Compter le nombre d'occurences de chaque charact\u00e8re dans la cha\u00eene de caract\u00e8res \"HelLo WorLd!!\" On renverra un dictionaire qui \u00e0 la lettre associe son nombre d'occurences."
     ]
    },
    {
     "cell_type": "code",
     "collapsed": false,
     "input": [
      "s = \"HelLo WorLd!!\"\n",
      "# c = dict(h=1, e=1, l=3, o=2, w=1, r=1, d=1, !=2)"
     ],
     "language": "python",
     "metadata": {},
     "outputs": [],
     "prompt_number": 130
    },
    {
     "cell_type": "markdown",
     "metadata": {},
     "source": [
      "**Compr\u00e9hension de liste: cr\u00e9ation de liste avec `for`**:"
     ]
    },
    {
     "cell_type": "code",
     "collapsed": false,
     "input": [
      "l1 = [x ** 2 for x in range(0,5)]\n",
      "\n",
      "print l1\n",
      "\n",
      "# est la version courte de :\n",
      "\n",
      "ll = list()\n",
      "for x in range(0, 5):\n",
      "    ll.append(x ** 2)\n",
      "\n",
      "print ll\n",
      "\n",
      "# pour les gens qui font du caml\n",
      "print map(lambda x: x ** 2, range(5))"
     ],
     "language": "python",
     "metadata": {},
     "outputs": [
      {
       "output_type": "stream",
       "stream": "stdout",
       "text": [
        "[0, 1, 4, 9, 16]\n",
        "[0, 1, 4, 9, 16]\n",
        "[0, 1, 4, 9, 16]\n"
       ]
      }
     ],
     "prompt_number": 131
    },
    {
     "cell_type": "markdown",
     "metadata": {},
     "source": [
      "Boucles **`while`**:"
     ]
    },
    {
     "cell_type": "code",
     "collapsed": false,
     "input": [
      "i = 0\n",
      "\n",
      "while i < 5:\n",
      "    print i\n",
      "    i = i + 1\n",
      "   \n",
      "print \"OK\""
     ],
     "language": "python",
     "metadata": {},
     "outputs": [
      {
       "output_type": "stream",
       "stream": "stdout",
       "text": [
        "0\n",
        "1\n",
        "2\n",
        "3\n",
        "4\n",
        "OK\n"
       ]
      }
     ],
     "prompt_number": 132
    },
    {
     "cell_type": "markdown",
     "metadata": {},
     "source": [
      "## EXERCICE :\n",
      "\n",
      "Calculer une approximation de $\\pi$ par la formule de Wallis\n",
      "\n",
      "<!-- <img src=\"files/images/spyder-screenshot.jpg\" width=\"800\"> -->\n",
      "<img src=\"http://scipy-lectures.github.io/_images/math/31913b3982be13ed2063b0ffccbcab9cf4931fdb.png\" width=\"200\">"
     ]
    },
    {
     "cell_type": "markdown",
     "metadata": {},
     "source": [
      "## Fonctions\n",
      "\n",
      "Une fonction en Python est d\u00e9finie avec le mot cl\u00e9 `def`, suivi par le nom de la fonction, la signature entre parenth\u00e8ses `()`, et un `:`.\n",
      "\n",
      "**Exemples:**"
     ]
    },
    {
     "cell_type": "code",
     "collapsed": false,
     "input": [
      "def func0():\n",
      "    print \"test\""
     ],
     "language": "python",
     "metadata": {},
     "outputs": [],
     "prompt_number": 133
    },
    {
     "cell_type": "code",
     "collapsed": false,
     "input": [
      "func0()"
     ],
     "language": "python",
     "metadata": {},
     "outputs": [
      {
       "output_type": "stream",
       "stream": "stdout",
       "text": [
        "test\n"
       ]
      }
     ],
     "prompt_number": 134
    },
    {
     "cell_type": "markdown",
     "metadata": {},
     "source": [
      "Ajout d'une documentation (docstring):"
     ]
    },
    {
     "cell_type": "code",
     "collapsed": false,
     "input": [
      "def func1(s):\n",
      "    \"\"\"\n",
      "    Affichage d'une chaine et de sa longueur\n",
      "    \"\"\"\n",
      "    print s, \"est de longueur\", len(s)"
     ],
     "language": "python",
     "metadata": {},
     "outputs": [],
     "prompt_number": 135
    },
    {
     "cell_type": "code",
     "collapsed": false,
     "input": [
      "help(func1)"
     ],
     "language": "python",
     "metadata": {},
     "outputs": [
      {
       "output_type": "stream",
       "stream": "stdout",
       "text": [
        "Help on function func1 in module __main__:\n",
        "\n",
        "func1(s)\n",
        "    Affichage d'une chaine et de sa longueur\n",
        "\n"
       ]
      }
     ],
     "prompt_number": 136
    },
    {
     "cell_type": "code",
     "collapsed": false,
     "input": [
      "print func1(\"test\")\n",
      "print func1([1, 2, 3])"
     ],
     "language": "python",
     "metadata": {},
     "outputs": [
      {
       "output_type": "stream",
       "stream": "stdout",
       "text": [
        "test est de longueur 4\n",
        "None\n",
        "[1, 2, 3] est de longueur 3\n",
        "None\n"
       ]
      }
     ],
     "prompt_number": 137
    },
    {
     "cell_type": "markdown",
     "metadata": {},
     "source": [
      "Retourner une valeur avec `return`:"
     ]
    },
    {
     "cell_type": "code",
     "collapsed": false,
     "input": [
      "def square(x):\n",
      "    \"\"\"\n",
      "    Returne le carr\u00e9 de x.\n",
      "    \"\"\"\n",
      "    return x ** 2"
     ],
     "language": "python",
     "metadata": {},
     "outputs": [],
     "prompt_number": 138
    },
    {
     "cell_type": "code",
     "collapsed": false,
     "input": [
      "print square(4)"
     ],
     "language": "python",
     "metadata": {},
     "outputs": [
      {
       "output_type": "stream",
       "stream": "stdout",
       "text": [
        "16\n"
       ]
      }
     ],
     "prompt_number": 139
    },
    {
     "cell_type": "markdown",
     "metadata": {},
     "source": [
      "Retourner plusieurs valeurs:"
     ]
    },
    {
     "cell_type": "code",
     "collapsed": false,
     "input": [
      "def powers(x):\n",
      "    \"\"\"\n",
      "    Retourne les premi\u00e8res puissances de x.\n",
      "    \"\"\"\n",
      "    return [x ** 2, x ** 3, x ** 4]"
     ],
     "language": "python",
     "metadata": {},
     "outputs": [],
     "prompt_number": 140
    },
    {
     "cell_type": "code",
     "collapsed": false,
     "input": [
      "print powers(3)\n",
      "print type(powers(3))\n",
      "out = powers(3)\n",
      "print len(out)\n",
      "print out[1]"
     ],
     "language": "python",
     "metadata": {},
     "outputs": [
      {
       "output_type": "stream",
       "stream": "stdout",
       "text": [
        "[9, 27, 81]\n",
        "<type 'list'>\n",
        "3\n",
        "27\n"
       ]
      }
     ],
     "prompt_number": 141
    },
    {
     "cell_type": "code",
     "collapsed": false,
     "input": [
      "t = (3,)\n",
      "print t, type(t)"
     ],
     "language": "python",
     "metadata": {},
     "outputs": [
      {
       "output_type": "stream",
       "stream": "stdout",
       "text": [
        "(3,) <type 'tuple'>\n"
       ]
      }
     ],
     "prompt_number": 142
    },
    {
     "cell_type": "code",
     "collapsed": false,
     "input": [
      "x2, x3, x4 = powers(3)\n",
      "print x3"
     ],
     "language": "python",
     "metadata": {},
     "outputs": [
      {
       "output_type": "stream",
       "stream": "stdout",
       "text": [
        "27\n"
       ]
      }
     ],
     "prompt_number": 143
    },
    {
     "cell_type": "markdown",
     "metadata": {},
     "source": [
      "### Arguments par d\u00e9fault\n",
      "\n",
      "Il est possible de fournir des valeurs par d\u00e9fault aux param\u00e8tres:"
     ]
    },
    {
     "cell_type": "code",
     "collapsed": false,
     "input": [
      "def myfunc(x, p=2, debug=False):\n",
      "    if debug:\n",
      "        print \"evalue myfunc avec x =\", x, \"et l'exposant p =\", p\n",
      "    return x**p"
     ],
     "language": "python",
     "metadata": {},
     "outputs": [],
     "prompt_number": 144
    },
    {
     "cell_type": "markdown",
     "metadata": {},
     "source": [
      "Le param\u00e8tre debug peut \u00eatre omis:"
     ]
    },
    {
     "cell_type": "code",
     "collapsed": false,
     "input": [
      "myfunc(5)"
     ],
     "language": "python",
     "metadata": {},
     "outputs": [
      {
       "metadata": {},
       "output_type": "pyout",
       "prompt_number": 145,
       "text": [
        "25"
       ]
      }
     ],
     "prompt_number": 145
    },
    {
     "cell_type": "code",
     "collapsed": false,
     "input": [
      "myfunc(5, 3)"
     ],
     "language": "python",
     "metadata": {},
     "outputs": [
      {
       "metadata": {},
       "output_type": "pyout",
       "prompt_number": 146,
       "text": [
        "125"
       ]
      }
     ],
     "prompt_number": 146
    },
    {
     "cell_type": "code",
     "collapsed": false,
     "input": [
      "myfunc(5, debug=True)"
     ],
     "language": "python",
     "metadata": {},
     "outputs": [
      {
       "output_type": "stream",
       "stream": "stdout",
       "text": [
        "evalue myfunc avec x = 5 et l'exposant p = 2\n"
       ]
      },
      {
       "metadata": {},
       "output_type": "pyout",
       "prompt_number": 147,
       "text": [
        "25"
       ]
      }
     ],
     "prompt_number": 147
    },
    {
     "cell_type": "markdown",
     "metadata": {},
     "source": [
      "On peut expliciter les noms de variables et alors l'ordre n'importe plus:"
     ]
    },
    {
     "cell_type": "code",
     "collapsed": false,
     "input": [
      "myfunc(p=3, debug=True, x=7)"
     ],
     "language": "python",
     "metadata": {},
     "outputs": [
      {
       "output_type": "stream",
       "stream": "stdout",
       "text": [
        "evalue myfunc avec x = 7 et l'exposant p = 3\n"
       ]
      },
      {
       "metadata": {},
       "output_type": "pyout",
       "prompt_number": 148,
       "text": [
        "343"
       ]
      }
     ],
     "prompt_number": 148
    },
    {
     "cell_type": "code",
     "collapsed": false,
     "input": [
      "x = 1\n",
      "\n",
      "def func2():\n",
      "    yyy = 1\n",
      "\n",
      "def func1(ll):\n",
      "    ll = list(ll)\n",
      "    ll += ll\n",
      "    print x\n",
      "    # print yyy\n",
      "\n",
      "a = [1, 2]\n",
      "func1(a)\n",
      "print a"
     ],
     "language": "python",
     "metadata": {},
     "outputs": [
      {
       "output_type": "stream",
       "stream": "stdout",
       "text": [
        "1\n",
        "[1, 2]\n"
       ]
      }
     ],
     "prompt_number": 149
    },
    {
     "cell_type": "markdown",
     "metadata": {},
     "source": [
      "## Exercice: impl\u00e9menter *quicksort*\n",
      "\n",
      "La [page wikipedia](http://en.wikipedia.org/wiki/Quicksort)\n",
      " d\u00e9crivant l\u2019algorithme de tri *quicksort* donne le pseudo-code suivant:\n",
      "\n",
      "    function quicksort('array')\n",
      "       if length('array') <= 1\n",
      "            return 'array'\n",
      "       select and remove a pivot value 'pivot' from 'array'\n",
      "       create empty lists 'less' and 'greater'\n",
      "       for each 'x' in 'array'\n",
      "           if 'x' <= 'pivot' then append 'x' to 'less'\n",
      "           else append 'x' to 'greater'\n",
      "       return concatenate(quicksort('less'), 'pivot', quicksort('greater'))\n",
      "\n",
      "Transformer ce pseudo-code en code valide Python.\n",
      "\n",
      "**Des indices**:\n",
      "\n",
      " * la longueur d\u2019une liste est donn\u00e9e par  `len(l)`\n",
      " * deux listes peuvent \u00eatre concat\u00e9n\u00e9es avec `l1 + l2`\n",
      " * `l.pop()` retire le dernier \u00e9l\u00e9ment d\u2019une liste\n",
      "\n",
      "**Attention**: une liste est mutable...\n",
      "\n",
      "Il vous suffit de compl\u00e9ter cette \u00e9bauche:"
     ]
    },
    {
     "cell_type": "code",
     "collapsed": false,
     "input": [
      "# TODO"
     ],
     "language": "python",
     "metadata": {},
     "outputs": [],
     "prompt_number": 150
    },
    {
     "cell_type": "markdown",
     "metadata": {},
     "source": [
      "## Classes\n",
      "\n",
      " * Les *classes* sont les \u00e9l\u00e9ments centraux de la *programmation orient\u00e9e objet*\n",
      "\n",
      " * Classe: structure qui sert \u00e0 repr\u00e9senter un objet et l'ensemble des op\u00e9rations qui peuvent \u00eatres effectu\u00e9es sur ce dernier.\n",
      "\n",
      "Dans Python une classe contient des *attributs* (variables) et des *m\u00e9thodes* (fonctions). Elle est d\u00e9finie de mani\u00e8re analogue aux fonctions mais en utilisant le mot cl\u00e9 `class`. La d\u00e9finition d'une classe contient g\u00e9n\u00e9ralement un certain nombre de m\u00e9thodes de classe (des fonctions dans la classe).\n",
      "\n",
      "* Le premier argument d'un m\u00e9thode doit \u00eatre `self`: argument obligatoire. Cet objet `self` est une auto-r\u00e9f\u00e9rence.\n",
      "* Certains noms de m\u00e9thodes ont un sens particulier, par exemple : \n",
      "   * `__init__`: nom de la m\u00e9thode invoqu\u00e9e \u00e0 la cr\u00e9ation de l'objet\n",
      "   * `__str__` : m\u00e9thode invoqu\u00e9e lorsque une repr\u00e9sentation de la classe sous forme de cha\u00eene de caract\u00e8res est demand\u00e9e, par exemple quand la classe est pass\u00e9e \u00e0 `print`\n",
      "   * voir http://docs.python.org/2/reference/datamodel.html#special-method-names pour les autres noms sp\u00e9ciaux\n",
      "\n",
      "### Exemple\n",
      "  "
     ]
    },
    {
     "cell_type": "code",
     "collapsed": false,
     "input": [
      "class Point(object):\n",
      "    \"\"\"\n",
      "    Classe pour repr\u00e9senter un point dans le plan.\n",
      "    \"\"\"\n",
      "    def __init__(self, x, y):\n",
      "        \"\"\"\n",
      "        Creation d'un nouveau point en position x, y.\n",
      "        \"\"\"\n",
      "        self.x = x\n",
      "        self.y = y\n",
      "        \n",
      "    def translate(self, dx, dy):\n",
      "        \"\"\"\n",
      "        Translate le point de dx and dy.\n",
      "        \"\"\"\n",
      "        self.x += dx\n",
      "        self.y += dy\n",
      "        \n",
      "    def __str__(self):\n",
      "        return \"Point: [%f, %f]\" % (self.x, self.y)"
     ],
     "language": "python",
     "metadata": {},
     "outputs": [],
     "prompt_number": 151
    },
    {
     "cell_type": "markdown",
     "metadata": {},
     "source": [
      "Pour cr\u00e9er une nouvelle instance de la classe:"
     ]
    },
    {
     "cell_type": "code",
     "collapsed": false,
     "input": [
      "p1 = Point(x=0, y=0) # appel \u00e0 __init__\n",
      "print p1.x\n",
      "print p1.y\n",
      "print p1         # appel \u00e0 la m\u00e9thode __str__"
     ],
     "language": "python",
     "metadata": {},
     "outputs": [
      {
       "output_type": "stream",
       "stream": "stdout",
       "text": [
        "0\n",
        "0\n",
        "Point: [0.000000, 0.000000]\n"
       ]
      }
     ],
     "prompt_number": 152
    },
    {
     "cell_type": "code",
     "collapsed": false,
     "input": [
      "p1.translate(dx=1, dy=1)\n",
      "# print p1.translate\n",
      "print p1\n",
      "print type(p1)"
     ],
     "language": "python",
     "metadata": {},
     "outputs": [
      {
       "output_type": "stream",
       "stream": "stdout",
       "text": [
        "Point: [1.000000, 1.000000]\n",
        "<class '__main__.Point'>\n"
       ]
      }
     ],
     "prompt_number": 153
    },
    {
     "cell_type": "markdown",
     "metadata": {},
     "source": [
      "Pour invoquer une m\u00e9thode de la classe sur une instance `p` de celle-ci:"
     ]
    },
    {
     "cell_type": "code",
     "collapsed": false,
     "input": [
      "p2 = Point(1, 1)\n",
      "\n",
      "p1.translate(0.25, 1.5)\n",
      "\n",
      "print p1\n",
      "print p2"
     ],
     "language": "python",
     "metadata": {},
     "outputs": [
      {
       "output_type": "stream",
       "stream": "stdout",
       "text": [
        "Point: [1.250000, 2.500000]\n",
        "Point: [1.000000, 1.000000]\n"
       ]
      }
     ],
     "prompt_number": 154
    },
    {
     "cell_type": "markdown",
     "metadata": {},
     "source": [
      "### Remarques\n",
      "\n",
      " * L'appel d'une m\u00e9thode de classe peut modifier l'\u00e9tat d'une instance particuli\u00e8re\n",
      " * Cela n'affecte ni les autres instances ni les variables globales"
     ]
    },
    {
     "cell_type": "markdown",
     "metadata": {},
     "source": [
      "## Exceptions\n",
      "\n",
      " * Dans Python les erreurs sont g\u00e9r\u00e9es \u00e0 travers des *\"Exceptions\"*\n",
      " * Une erreur provoque une *Exception* qui interrompt l'ex\u00e9cution normale du programme\n",
      " * L'ex\u00e9cution peut \u00e9ventuellement reprendre \u00e0 l'int\u00e9rieur d'un bloc de code `try` - `except`\n"
     ]
    },
    {
     "cell_type": "markdown",
     "metadata": {},
     "source": [
      "* Une utilisation typique: arr\u00eater l'ex\u00e9cution d'une fonction en cas d'erreur:\n",
      "\n",
      "        def my_function(arguments):\n",
      "    \n",
      "        if not verify(arguments):\n",
      "            raise Expection(\"Invalid arguments\")\n",
      "        \n",
      "        # et on continue"
     ]
    },
    {
     "cell_type": "markdown",
     "metadata": {},
     "source": [
      "On utilise `try` et  `expect` pour ma\u00eetriser les erreurs:\n",
      "\n",
      "    try:\n",
      "        # normal code goes here\n",
      "    except:\n",
      "        # code for error handling goes here\n",
      "        # this code is not executed unless the code\n",
      "        # above generated an error\n",
      "\n",
      "Par exemple:"
     ]
    },
    {
     "cell_type": "code",
     "collapsed": false,
     "input": [
      "try:\n",
      "    print \"test_var\"\n",
      "    # genere une erreur: la variable test n'est pas d\u00e9finie\n",
      "    print test_var\n",
      "except:\n",
      "    print \"Caught an expection\""
     ],
     "language": "python",
     "metadata": {},
     "outputs": [
      {
       "output_type": "stream",
       "stream": "stdout",
       "text": [
        "test_var\n",
        "Caught an expection\n"
       ]
      }
     ],
     "prompt_number": 155
    },
    {
     "cell_type": "markdown",
     "metadata": {},
     "source": [
      "Pour obtenir de l'information sur l'erreur: acc\u00e9der \u00e0 l'instance de la classe `Exception` concern\u00e9e:\n",
      "\n",
      "    except Exception as e:"
     ]
    },
    {
     "cell_type": "code",
     "collapsed": false,
     "input": [
      "try:\n",
      "    print \"test\"\n",
      "    # generate an error: the variable test is not defined\n",
      "    print test\n",
      "except Exception as e:\n",
      "    print \"Caught an expection:\", e"
     ],
     "language": "python",
     "metadata": {},
     "outputs": [
      {
       "output_type": "stream",
       "stream": "stdout",
       "text": [
        "test\n",
        "False\n"
       ]
      }
     ],
     "prompt_number": 156
    },
    {
     "cell_type": "markdown",
     "metadata": {},
     "source": [
      "### Manipuler les fichiers sur le disque"
     ]
    },
    {
     "cell_type": "code",
     "collapsed": false,
     "input": [
      "import os\n",
      "print os.path.join('~', 'work', 'src')\n",
      "print os.path.expanduser(os.path.join('~', 'work', 'src'))"
     ],
     "language": "python",
     "metadata": {},
     "outputs": [
      {
       "output_type": "stream",
       "stream": "stdout",
       "text": [
        "~/work/src\n",
        "/Users/alex/work/src\n"
       ]
      }
     ],
     "prompt_number": 157
    },
    {
     "cell_type": "markdown",
     "metadata": {},
     "source": [
      "## Quelques liens\n",
      "\n",
      "* http://www.python.org - Page Python officielle.\n",
      "* http://www.python.org/dev/peps/pep-0008 - Recommandations de style d'\u00e9criture.\n",
      "* http://www.greenteapress.com/thinkpython/ - Un livre gratuit sur Python.\n",
      "* [Python Essential Reference](http://www.amazon.com/Python-Essential-Reference-4th-Edition/dp/0672329786) - Un bon livre de r\u00e9f\u00e9rence."
     ]
    },
    {
     "cell_type": "code",
     "collapsed": false,
     "input": [],
     "language": "python",
     "metadata": {},
     "outputs": []
    }
   ],
   "metadata": {}
  }
 ]
}